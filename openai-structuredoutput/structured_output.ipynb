{
 "cells": [
  {
   "cell_type": "markdown",
   "id": "2822486d-44cd-45bb-a50a-04f0343b4591",
   "metadata": {},
   "source": [
    "# Structured Output with OpenAI"
   ]
  },
  {
   "cell_type": "code",
   "execution_count": 1,
   "id": "3a229bcc",
   "metadata": {
    "execution": {
     "iopub.execute_input": "2024-08-18T20:40:30.007624Z",
     "iopub.status.busy": "2024-08-18T20:40:30.006785Z",
     "iopub.status.idle": "2024-08-18T20:40:30.014190Z",
     "shell.execute_reply": "2024-08-18T20:40:30.013424Z",
     "shell.execute_reply.started": "2024-08-18T20:40:30.007566Z"
    }
   },
   "outputs": [],
   "source": [
    "import csv\n",
    "from rich.console import Console\n",
    "c = Console()"
   ]
  },
  {
   "cell_type": "code",
   "execution_count": 2,
   "id": "f549be84",
   "metadata": {
    "execution": {
     "iopub.execute_input": "2024-08-18T20:40:30.022166Z",
     "iopub.status.busy": "2024-08-18T20:40:30.021741Z",
     "iopub.status.idle": "2024-08-18T20:40:30.028228Z",
     "shell.execute_reply": "2024-08-18T20:40:30.027462Z",
     "shell.execute_reply.started": "2024-08-18T20:40:30.022140Z"
    }
   },
   "outputs": [],
   "source": [
    "with open(\"./videos.csv\", \"r\") as videos_file:\n",
    "  reader = csv.DictReader(videos_file)\n",
    "  rows = [row for row in reader]"
   ]
  },
  {
   "cell_type": "code",
   "execution_count": 15,
   "id": "ad635435",
   "metadata": {
    "execution": {
     "iopub.execute_input": "2024-08-18T20:40:46.004701Z",
     "iopub.status.busy": "2024-08-18T20:40:46.004585Z",
     "iopub.status.idle": "2024-08-18T20:40:46.009631Z",
     "shell.execute_reply": "2024-08-18T20:40:46.009319Z",
     "shell.execute_reply.started": "2024-08-18T20:40:46.004687Z"
    }
   },
   "outputs": [
    {
     "name": "stdout",
     "output_type": "stream",
     "text": [
      "\u001b[1m[\u001b[0m\n",
      "    \u001b[1m{\u001b[0m\u001b[32m'Content'\u001b[0m: \u001b[32m'Ay5K4tog5NQ'\u001b[0m, \u001b[32m'Video title'\u001b[0m: \u001b[32m'Running a Hugging Face LLM on your laptop'\u001b[0m\u001b[1m}\u001b[0m,\n",
      "    \u001b[1m{\u001b[0m\u001b[32m'Content'\u001b[0m: \u001b[32m'7BH4C6-HP14'\u001b[0m, \u001b[32m'Video title'\u001b[0m: \u001b[32m'Hugging Face GGUF Models locally with Ollama'\u001b[0m\u001b[1m}\u001b[0m,\n",
      "    \u001b[1m{\u001b[0m\u001b[32m'Content'\u001b[0m: \u001b[32m'KLFadWdomyI'\u001b[0m, \u001b[32m'Video title'\u001b[0m: \u001b[32m'An introduction to Apache Parquet'\u001b[0m\u001b[1m}\u001b[0m,\n",
      "    \u001b[1m{\u001b[0m\u001b[32m'Content'\u001b[0m: \u001b[32m'JwYwPiOh72w'\u001b[0m, \u001b[32m'Video title'\u001b[0m: \u001b[32m'Ollama has a Python library!'\u001b[0m\u001b[1m}\u001b[0m,\n",
      "    \u001b[1m{\u001b[0m\u001b[32m'Content'\u001b[0m: \u001b[32m'jXUv8mlQHq0'\u001b[0m, \u001b[32m'Video title'\u001b[0m: \u001b[32m'LLaVA 1.6 is here...but is it any good? \u001b[0m\u001b[32m(\u001b[0m\u001b[32mvia Ollama\u001b[0m\u001b[32m)\u001b[0m\u001b[32m'\u001b[0m\u001b[1m}\u001b[0m\n",
      "\u001b[1m]\u001b[0m\n"
     ]
    },
    {
     "data": {
      "text/html": [
       "<pre style=\"white-space:pre;overflow-x:auto;line-height:normal;font-family:Menlo,'DejaVu Sans Mono',consolas,'Courier New',monospace\"></pre>\n"
      ],
      "text/plain": []
     },
     "metadata": {},
     "output_type": "display_data"
    }
   ],
   "source": [
    "with c.pager(styles=True):\n",
    "  c.print(rows[:5])"
   ]
  },
  {
   "cell_type": "code",
   "execution_count": 4,
   "id": "3d7a9824",
   "metadata": {
    "execution": {
     "iopub.execute_input": "2024-08-18T20:40:30.057653Z",
     "iopub.status.busy": "2024-08-18T20:40:30.057398Z",
     "iopub.status.idle": "2024-08-18T20:40:30.107892Z",
     "shell.execute_reply": "2024-08-18T20:40:30.107566Z",
     "shell.execute_reply.started": "2024-08-18T20:40:30.057636Z"
    }
   },
   "outputs": [],
   "source": [
    "from pydantic import BaseModel"
   ]
  },
  {
   "cell_type": "code",
   "execution_count": 5,
   "id": "e538501b",
   "metadata": {
    "execution": {
     "iopub.execute_input": "2024-08-18T20:40:30.109510Z",
     "iopub.status.busy": "2024-08-18T20:40:30.109360Z",
     "iopub.status.idle": "2024-08-18T20:40:30.154704Z",
     "shell.execute_reply": "2024-08-18T20:40:30.153532Z",
     "shell.execute_reply.started": "2024-08-18T20:40:30.109500Z"
    }
   },
   "outputs": [],
   "source": [
    "class TaggedVideo(BaseModel):\n",
    "  title: str\n",
    "  tags: list[str]\n",
    "\n",
    "class Videos(BaseModel):\n",
    "  videos: list[TaggedVideo]"
   ]
  },
  {
   "cell_type": "code",
   "execution_count": 6,
   "id": "7b14275b",
   "metadata": {
    "execution": {
     "iopub.execute_input": "2024-08-18T20:40:30.155525Z",
     "iopub.status.busy": "2024-08-18T20:40:30.155421Z",
     "iopub.status.idle": "2024-08-18T20:40:30.454753Z",
     "shell.execute_reply": "2024-08-18T20:40:30.454368Z",
     "shell.execute_reply.started": "2024-08-18T20:40:30.155517Z"
    }
   },
   "outputs": [],
   "source": [
    "from openai import OpenAI\n",
    "client = OpenAI()"
   ]
  },
  {
   "cell_type": "code",
   "execution_count": 7,
   "id": "e1c73c21",
   "metadata": {
    "execution": {
     "iopub.execute_input": "2024-08-18T20:40:30.455448Z",
     "iopub.status.busy": "2024-08-18T20:40:30.455253Z",
     "iopub.status.idle": "2024-08-18T20:40:34.927521Z",
     "shell.execute_reply": "2024-08-18T20:40:34.927231Z",
     "shell.execute_reply.started": "2024-08-18T20:40:30.455434Z"
    }
   },
   "outputs": [
    {
     "name": "stdout",
     "output_type": "stream",
     "text": [
      "CPU times: user 31.9 ms, sys: 5.01 ms, total: 36.9 ms\n",
      "Wall time: 4.47 s\n"
     ]
    }
   ],
   "source": [
    "%%time\n",
    "system = \"You are a YouTuber content strategy expert\"\n",
    "user = f\"\"\"Help me to create tags for the provided videos:\n",
    "  {[row[\"Video title\"] for row in rows][:5]}\n",
    "\"\"\"\n",
    "\n",
    "completion = client.beta.chat.completions.parse(    \n",
    "  model=\"gpt-4o-2024-08-06\",\n",
    "  messages=[\n",
    "    {\"role\": \"system\", \"content\": system},\n",
    "    {\"role\": \"user\", \"content\": user},\n",
    "  ],\n",
    "  response_format=Videos,\n",
    ")"
   ]
  },
  {
   "cell_type": "code",
   "execution_count": 8,
   "id": "6d3e53d4",
   "metadata": {
    "execution": {
     "iopub.execute_input": "2024-08-18T20:40:34.928269Z",
     "iopub.status.busy": "2024-08-18T20:40:34.928164Z",
     "iopub.status.idle": "2024-08-18T20:40:34.938248Z",
     "shell.execute_reply": "2024-08-18T20:40:34.937935Z",
     "shell.execute_reply.started": "2024-08-18T20:40:34.928257Z"
    }
   },
   "outputs": [
    {
     "name": "stdout",
     "output_type": "stream",
     "text": [
      "ParsedChatCompletionMessage\u001b[1m[\u001b[0mVideos\u001b[1m]\u001b[0m\u001b[1m(\u001b[0m\n",
      "    \u001b[33mcontent\u001b[0m=\u001b[32m'\u001b[0m\u001b[32m{\u001b[0m\u001b[32m\"videos\":\u001b[0m\u001b[32m[\u001b[0m\u001b[32m{\u001b[0m\u001b[32m\"title\":\"Running a Hugging Face LLM on your laptop\",\"tags\":\u001b[0m\u001b[32m[\u001b[0m\u001b[32m\"Hugging \u001b[0m\n",
      "\u001b[32mFace\",\"LLM\",\"laptop\",\"machine learning\",\"natural language processing\",\"AI models\",\"local setup\",\"deep \u001b[0m\n",
      "\u001b[32mlearning\"\u001b[0m\u001b[32m]\u001b[0m\u001b[32m}\u001b[0m\u001b[32m,\u001b[0m\u001b[32m{\u001b[0m\u001b[32m\"title\":\"Hugging Face GGUF Models locally with Ollama\",\"tags\":\u001b[0m\u001b[32m[\u001b[0m\u001b[32m\"Hugging Face\",\"GGUF \u001b[0m\n",
      "\u001b[32mModels\",\"Ollama\",\"machine learning\",\"local deployment\",\"AI models\",\"deep learning\",\"data science\"\u001b[0m\u001b[32m]\u001b[0m\u001b[32m}\u001b[0m\u001b[32m,\u001b[0m\u001b[32m{\u001b[0m\u001b[32m\"title\":\"An \u001b[0m\n",
      "\u001b[32mintroduction to Apache Parquet\",\"tags\":\u001b[0m\u001b[32m[\u001b[0m\u001b[32m\"Apache Parquet\",\"data storage\",\"big data\",\"data format\",\"data \u001b[0m\n",
      "\u001b[32mengineering\",\"data analytics\",\"database\",\"data processing\"\u001b[0m\u001b[32m]\u001b[0m\u001b[32m}\u001b[0m\u001b[32m,\u001b[0m\u001b[32m{\u001b[0m\u001b[32m\"title\":\"Ollama has a Python \u001b[0m\n",
      "\u001b[32mlibrary!\",\"tags\":\u001b[0m\u001b[32m[\u001b[0m\u001b[32m\"Ollama\",\"Python\",\"library\",\"software development\",\"data science\",\"machine learning\",\"programming\u001b[0m\n",
      "\u001b[32mtools\",\"open source\"\u001b[0m\u001b[32m]\u001b[0m\u001b[32m}\u001b[0m\u001b[32m,\u001b[0m\u001b[32m{\u001b[0m\u001b[32m\"title\":\"LLaVA 1.6 is here...but is it any good? \u001b[0m\u001b[32m(\u001b[0m\u001b[32mvia Ollama\u001b[0m\u001b[32m)\u001b[0m\u001b[32m\",\"tags\":\u001b[0m\u001b[32m[\u001b[0m\u001b[32m\"LLaVA \u001b[0m\n",
      "\u001b[32m1.6\",\"Ollama\",\"new release\",\"product review\",\"machine learning\",\"AI models\",\"tech analysis\",\"software \u001b[0m\n",
      "\u001b[32mupdates\"\u001b[0m\u001b[32m]\u001b[0m\u001b[32m}\u001b[0m\u001b[32m]\u001b[0m\u001b[32m}\u001b[0m\u001b[32m'\u001b[0m,\n",
      "    \u001b[33mrefusal\u001b[0m=\u001b[3;35mNone\u001b[0m,\n",
      "    \u001b[33mrole\u001b[0m=\u001b[32m'assistant'\u001b[0m,\n",
      "    \u001b[33mfunction_call\u001b[0m=\u001b[3;35mNone\u001b[0m,\n",
      "    \u001b[33mtool_calls\u001b[0m=\u001b[1m[\u001b[0m\u001b[1m]\u001b[0m,\n",
      "    \u001b[33mparsed\u001b[0m=\u001b[1;35mVideos\u001b[0m\u001b[1m(\u001b[0m\n",
      "        \u001b[33mvideos\u001b[0m=\u001b[1m[\u001b[0m\n",
      "            \u001b[1;35mTaggedVideo\u001b[0m\u001b[1m(\u001b[0m\n",
      "                \u001b[33mtitle\u001b[0m=\u001b[32m'Running a Hugging Face LLM on your laptop'\u001b[0m,\n",
      "                \u001b[33mtags\u001b[0m=\u001b[1m[\u001b[0m\n",
      "                    \u001b[32m'Hugging Face'\u001b[0m,\n",
      "                    \u001b[32m'LLM'\u001b[0m,\n",
      "                    \u001b[32m'laptop'\u001b[0m,\n",
      "                    \u001b[32m'machine learning'\u001b[0m,\n",
      "                    \u001b[32m'natural language processing'\u001b[0m,\n",
      "                    \u001b[32m'AI models'\u001b[0m,\n",
      "                    \u001b[32m'local setup'\u001b[0m,\n",
      "                    \u001b[32m'deep learning'\u001b[0m\n",
      "                \u001b[1m]\u001b[0m\n",
      "            \u001b[1m)\u001b[0m,\n",
      "            \u001b[1;35mTaggedVideo\u001b[0m\u001b[1m(\u001b[0m\n",
      "                \u001b[33mtitle\u001b[0m=\u001b[32m'Hugging Face GGUF Models locally with Ollama'\u001b[0m,\n",
      "                \u001b[33mtags\u001b[0m=\u001b[1m[\u001b[0m\n",
      "                    \u001b[32m'Hugging Face'\u001b[0m,\n",
      "                    \u001b[32m'GGUF Models'\u001b[0m,\n",
      "                    \u001b[32m'Ollama'\u001b[0m,\n",
      "                    \u001b[32m'machine learning'\u001b[0m,\n",
      "                    \u001b[32m'local deployment'\u001b[0m,\n",
      "                    \u001b[32m'AI models'\u001b[0m,\n",
      "                    \u001b[32m'deep learning'\u001b[0m,\n",
      "                    \u001b[32m'data science'\u001b[0m\n",
      "                \u001b[1m]\u001b[0m\n",
      "            \u001b[1m)\u001b[0m,\n",
      "            \u001b[1;35mTaggedVideo\u001b[0m\u001b[1m(\u001b[0m\n",
      "                \u001b[33mtitle\u001b[0m=\u001b[32m'An introduction to Apache Parquet'\u001b[0m,\n",
      "                \u001b[33mtags\u001b[0m=\u001b[1m[\u001b[0m\n",
      "                    \u001b[32m'Apache Parquet'\u001b[0m,\n",
      "                    \u001b[32m'data storage'\u001b[0m,\n",
      "                    \u001b[32m'big data'\u001b[0m,\n",
      "                    \u001b[32m'data format'\u001b[0m,\n",
      "                    \u001b[32m'data engineering'\u001b[0m,\n",
      "                    \u001b[32m'data analytics'\u001b[0m,\n",
      "                    \u001b[32m'database'\u001b[0m,\n",
      "                    \u001b[32m'data processing'\u001b[0m\n",
      "                \u001b[1m]\u001b[0m\n",
      "            \u001b[1m)\u001b[0m,\n",
      "            \u001b[1;35mTaggedVideo\u001b[0m\u001b[1m(\u001b[0m\n",
      "                \u001b[33mtitle\u001b[0m=\u001b[32m'Ollama has a Python library!'\u001b[0m,\n",
      "                \u001b[33mtags\u001b[0m=\u001b[1m[\u001b[0m\n",
      "                    \u001b[32m'Ollama'\u001b[0m,\n",
      "                    \u001b[32m'Python'\u001b[0m,\n",
      "                    \u001b[32m'library'\u001b[0m,\n",
      "                    \u001b[32m'software development'\u001b[0m,\n",
      "                    \u001b[32m'data science'\u001b[0m,\n",
      "                    \u001b[32m'machine learning'\u001b[0m,\n",
      "                    \u001b[32m'programming tools'\u001b[0m,\n",
      "                    \u001b[32m'open source'\u001b[0m\n",
      "                \u001b[1m]\u001b[0m\n",
      "            \u001b[1m)\u001b[0m,\n",
      "            \u001b[1;35mTaggedVideo\u001b[0m\u001b[1m(\u001b[0m\n",
      "                \u001b[33mtitle\u001b[0m=\u001b[32m'LLaVA 1.6 is here...but is it any good? \u001b[0m\u001b[32m(\u001b[0m\u001b[32mvia Ollama\u001b[0m\u001b[32m)\u001b[0m\u001b[32m'\u001b[0m,\n",
      "                \u001b[33mtags\u001b[0m=\u001b[1m[\u001b[0m\n",
      "                    \u001b[32m'LLaVA 1.6'\u001b[0m,\n",
      "                    \u001b[32m'Ollama'\u001b[0m,\n",
      "                    \u001b[32m'new release'\u001b[0m,\n",
      "                    \u001b[32m'product review'\u001b[0m,\n",
      "                    \u001b[32m'machine learning'\u001b[0m,\n",
      "                    \u001b[32m'AI models'\u001b[0m,\n",
      "                    \u001b[32m'tech analysis'\u001b[0m,\n",
      "                    \u001b[32m'software updates'\u001b[0m\n",
      "                \u001b[1m]\u001b[0m\n",
      "            \u001b[1m)\u001b[0m\n",
      "        \u001b[1m]\u001b[0m\n",
      "    \u001b[1m)\u001b[0m\n",
      "\u001b[1m)\u001b[0m\n"
     ]
    },
    {
     "data": {
      "text/html": [
       "<pre style=\"white-space:pre;overflow-x:auto;line-height:normal;font-family:Menlo,'DejaVu Sans Mono',consolas,'Courier New',monospace\"></pre>\n"
      ],
      "text/plain": []
     },
     "metadata": {},
     "output_type": "display_data"
    }
   ],
   "source": [
    "with c.pager(styles=True):\n",
    "  c.print(completion.choices[0].message)"
   ]
  },
  {
   "cell_type": "code",
   "execution_count": 9,
   "id": "949a7927",
   "metadata": {
    "execution": {
     "iopub.execute_input": "2024-08-18T20:40:34.939004Z",
     "iopub.status.busy": "2024-08-18T20:40:34.938693Z",
     "iopub.status.idle": "2024-08-18T20:40:41.381657Z",
     "shell.execute_reply": "2024-08-18T20:40:41.380800Z",
     "shell.execute_reply.started": "2024-08-18T20:40:34.938939Z"
    }
   },
   "outputs": [
    {
     "name": "stdout",
     "output_type": "stream",
     "text": [
      "CPU times: user 10 ms, sys: 1.62 ms, total: 11.6 ms\n",
      "Wall time: 6.44 s\n"
     ]
    }
   ],
   "source": [
    "%%time\n",
    "system = \"You are a YouTuber content strategy expert\"\n",
    "user = \"nothing to parse here\"\n",
    "completion = client.beta.chat.completions.parse(    \n",
    "  model=\"gpt-4o-2024-08-06\",\n",
    "  messages=[\n",
    "    {\"role\": \"system\", \"content\": system},\n",
    "    {\"role\": \"user\", \"content\": user},\n",
    "  ],\n",
    "  response_format=Videos,\n",
    ")"
   ]
  },
  {
   "cell_type": "code",
   "execution_count": 10,
   "id": "c194836d",
   "metadata": {
    "execution": {
     "iopub.execute_input": "2024-08-18T20:40:41.383844Z",
     "iopub.status.busy": "2024-08-18T20:40:41.383224Z",
     "iopub.status.idle": "2024-08-18T20:40:41.409619Z",
     "shell.execute_reply": "2024-08-18T20:40:41.408865Z",
     "shell.execute_reply.started": "2024-08-18T20:40:41.383675Z"
    }
   },
   "outputs": [
    {
     "name": "stdout",
     "output_type": "stream",
     "text": [
      "ParsedChatCompletionMessage\u001b[1m[\u001b[0mVideos\u001b[1m]\u001b[0m\u001b[1m(\u001b[0m\n",
      "    \u001b[33mcontent\u001b[0m=\u001b[32m'\u001b[0m\u001b[32m{\u001b[0m\u001b[32m\"videos\":\u001b[0m\u001b[32m[\u001b[0m\u001b[32m{\u001b[0m\u001b[32m\"title\":\"Content Strategy 101: Build a Successful YouTube Channel\",\"tags\":\u001b[0m\u001b[32m[\u001b[0m\u001b[32m\"YouTube \u001b[0m\n",
      "\u001b[32mStrategy\",\"Content Creation\",\"Channel Growth\"\u001b[0m\u001b[32m]\u001b[0m\u001b[32m}\u001b[0m\u001b[32m,\u001b[0m\u001b[32m{\u001b[0m\u001b[32m\"title\":\"Understanding YouTube Algorithm: A Complete \u001b[0m\n",
      "\u001b[32mGuide\",\"tags\":\u001b[0m\u001b[32m[\u001b[0m\u001b[32m\"YouTube Algorithm\",\"Maximize Views\",\"SEO on YouTube\"\u001b[0m\u001b[32m]\u001b[0m\u001b[32m}\u001b[0m\u001b[32m,\u001b[0m\u001b[32m{\u001b[0m\u001b[32m\"title\":\"Top Mistakes New YouTubers Make \u001b[0m\n",
      "\u001b[32mand How to Avoid Them\",\"tags\":\u001b[0m\u001b[32m[\u001b[0m\u001b[32m\"YouTuber Mistakes\",\"Content Tips\",\"Avoid Pitfalls\"\u001b[0m\u001b[32m]\u001b[0m\u001b[32m}\u001b[0m\u001b[32m,\u001b[0m\u001b[32m{\u001b[0m\u001b[32m\"title\":\"How to Create \u001b[0m\n",
      "\u001b[32mEngaging YouTube Thumbnails\",\"tags\":\u001b[0m\u001b[32m[\u001b[0m\u001b[32m\"YouTube Thumbnails\",\"Design Tips\",\"Engagement Strategy\"\u001b[0m\u001b[32m]\u001b[0m\u001b[32m}\u001b[0m\u001b[32m,\u001b[0m\u001b[32m{\u001b[0m\u001b[32m\"title\":\"Video \u001b[0m\n",
      "\u001b[32mEditing Techniques for YouTube Success\",\"tags\":\u001b[0m\u001b[32m[\u001b[0m\u001b[32m\"Video Editing\",\"YouTube Tips\",\"Editing \u001b[0m\n",
      "\u001b[32mTechniques\"\u001b[0m\u001b[32m]\u001b[0m\u001b[32m}\u001b[0m\u001b[32m,\u001b[0m\u001b[32m{\u001b[0m\u001b[32m\"title\":\"YouTube Analytics: Understanding Your Audience and Content\",\"tags\":\u001b[0m\u001b[32m[\u001b[0m\u001b[32m\"YouTube \u001b[0m\n",
      "\u001b[32mAnalytics\",\"Audience Insights\",\"Data Driven Strategy\"\u001b[0m\u001b[32m]\u001b[0m\u001b[32m}\u001b[0m\u001b[32m,\u001b[0m\u001b[32m{\u001b[0m\u001b[32m\"title\":\"Collaborations: How to Grow Your Audience with \u001b[0m\n",
      "\u001b[32mOther Creators\",\"tags\":\u001b[0m\u001b[32m[\u001b[0m\u001b[32m\"YouTube Collaborations\",\"Audience Growth\",\"Networking\"\u001b[0m\u001b[32m]\u001b[0m\u001b[32m}\u001b[0m\u001b[32m,\u001b[0m\u001b[32m{\u001b[0m\u001b[32m\"title\":\"Monetizing Your YouTube\u001b[0m\n",
      "\u001b[32mChannel: From Ads to Merchandise\",\"tags\":\u001b[0m\u001b[32m[\u001b[0m\u001b[32m\"YouTube Monetization\",\"Revenue Streams\",\"YouTube \u001b[0m\n",
      "\u001b[32mBusiness\"\u001b[0m\u001b[32m]\u001b[0m\u001b[32m}\u001b[0m\u001b[32m,\u001b[0m\u001b[32m{\u001b[0m\u001b[32m\"title\":\"YouTube Shorts: Trends and Tips for Quick Growth\",\"tags\":\u001b[0m\u001b[32m[\u001b[0m\u001b[32m\"YouTube Shorts\",\"Viral \u001b[0m\n",
      "\u001b[32mContent\",\"Short Video Strategy\"\u001b[0m\u001b[32m]\u001b[0m\u001b[32m}\u001b[0m\u001b[32m,\u001b[0m\u001b[32m{\u001b[0m\u001b[32m\"title\":\"Building a Loyal Community on YouTube\",\"tags\":\u001b[0m\u001b[32m[\u001b[0m\u001b[32m\"YouTube \u001b[0m\n",
      "\u001b[32mCommunity\",\"Audience Engagement\",\"Community Building\"\u001b[0m\u001b[32m]\u001b[0m\u001b[32m}\u001b[0m\u001b[32m]\u001b[0m\u001b[32m}\u001b[0m\u001b[32m'\u001b[0m,\n",
      "    \u001b[33mrefusal\u001b[0m=\u001b[3;35mNone\u001b[0m,\n",
      "    \u001b[33mrole\u001b[0m=\u001b[32m'assistant'\u001b[0m,\n",
      "    \u001b[33mfunction_call\u001b[0m=\u001b[3;35mNone\u001b[0m,\n",
      "    \u001b[33mtool_calls\u001b[0m=\u001b[1m[\u001b[0m\u001b[1m]\u001b[0m,\n",
      "    \u001b[33mparsed\u001b[0m=\u001b[1;35mVideos\u001b[0m\u001b[1m(\u001b[0m\n",
      "        \u001b[33mvideos\u001b[0m=\u001b[1m[\u001b[0m\n",
      "            \u001b[1;35mTaggedVideo\u001b[0m\u001b[1m(\u001b[0m\n",
      "                \u001b[33mtitle\u001b[0m=\u001b[32m'Content Strategy 101: Build a Successful YouTube Channel'\u001b[0m,\n",
      "                \u001b[33mtags\u001b[0m=\u001b[1m[\u001b[0m\u001b[32m'YouTube Strategy'\u001b[0m, \u001b[32m'Content Creation'\u001b[0m, \u001b[32m'Channel Growth'\u001b[0m\u001b[1m]\u001b[0m\n",
      "            \u001b[1m)\u001b[0m,\n",
      "            \u001b[1;35mTaggedVideo\u001b[0m\u001b[1m(\u001b[0m\n",
      "                \u001b[33mtitle\u001b[0m=\u001b[32m'Understanding YouTube Algorithm: A Complete Guide'\u001b[0m,\n",
      "                \u001b[33mtags\u001b[0m=\u001b[1m[\u001b[0m\u001b[32m'YouTube Algorithm'\u001b[0m, \u001b[32m'Maximize Views'\u001b[0m, \u001b[32m'SEO on YouTube'\u001b[0m\u001b[1m]\u001b[0m\n",
      "            \u001b[1m)\u001b[0m,\n",
      "            \u001b[1;35mTaggedVideo\u001b[0m\u001b[1m(\u001b[0m\n",
      "                \u001b[33mtitle\u001b[0m=\u001b[32m'Top Mistakes New YouTubers Make and How to Avoid Them'\u001b[0m,\n",
      "                \u001b[33mtags\u001b[0m=\u001b[1m[\u001b[0m\u001b[32m'YouTuber Mistakes'\u001b[0m, \u001b[32m'Content Tips'\u001b[0m, \u001b[32m'Avoid Pitfalls'\u001b[0m\u001b[1m]\u001b[0m\n",
      "            \u001b[1m)\u001b[0m,\n",
      "            \u001b[1;35mTaggedVideo\u001b[0m\u001b[1m(\u001b[0m\n",
      "                \u001b[33mtitle\u001b[0m=\u001b[32m'How to Create Engaging YouTube Thumbnails'\u001b[0m,\n",
      "                \u001b[33mtags\u001b[0m=\u001b[1m[\u001b[0m\u001b[32m'YouTube Thumbnails'\u001b[0m, \u001b[32m'Design Tips'\u001b[0m, \u001b[32m'Engagement Strategy'\u001b[0m\u001b[1m]\u001b[0m\n",
      "            \u001b[1m)\u001b[0m,\n",
      "            \u001b[1;35mTaggedVideo\u001b[0m\u001b[1m(\u001b[0m\n",
      "                \u001b[33mtitle\u001b[0m=\u001b[32m'Video Editing Techniques for YouTube Success'\u001b[0m,\n",
      "                \u001b[33mtags\u001b[0m=\u001b[1m[\u001b[0m\u001b[32m'Video Editing'\u001b[0m, \u001b[32m'YouTube Tips'\u001b[0m, \u001b[32m'Editing Techniques'\u001b[0m\u001b[1m]\u001b[0m\n",
      "            \u001b[1m)\u001b[0m,\n",
      "            \u001b[1;35mTaggedVideo\u001b[0m\u001b[1m(\u001b[0m\n",
      "                \u001b[33mtitle\u001b[0m=\u001b[32m'YouTube Analytics: Understanding Your Audience and Content'\u001b[0m,\n",
      "                \u001b[33mtags\u001b[0m=\u001b[1m[\u001b[0m\u001b[32m'YouTube Analytics'\u001b[0m, \u001b[32m'Audience Insights'\u001b[0m, \u001b[32m'Data Driven Strategy'\u001b[0m\u001b[1m]\u001b[0m\n",
      "            \u001b[1m)\u001b[0m,\n",
      "            \u001b[1;35mTaggedVideo\u001b[0m\u001b[1m(\u001b[0m\n",
      "                \u001b[33mtitle\u001b[0m=\u001b[32m'Collaborations: How to Grow Your Audience with Other Creators'\u001b[0m,\n",
      "                \u001b[33mtags\u001b[0m=\u001b[1m[\u001b[0m\u001b[32m'YouTube Collaborations'\u001b[0m, \u001b[32m'Audience Growth'\u001b[0m, \u001b[32m'Networking'\u001b[0m\u001b[1m]\u001b[0m\n",
      "            \u001b[1m)\u001b[0m,\n",
      "            \u001b[1;35mTaggedVideo\u001b[0m\u001b[1m(\u001b[0m\n",
      "                \u001b[33mtitle\u001b[0m=\u001b[32m'Monetizing Your YouTube Channel: From Ads to Merchandise'\u001b[0m,\n",
      "                \u001b[33mtags\u001b[0m=\u001b[1m[\u001b[0m\u001b[32m'YouTube Monetization'\u001b[0m, \u001b[32m'Revenue Streams'\u001b[0m, \u001b[32m'YouTube Business'\u001b[0m\u001b[1m]\u001b[0m\n",
      "            \u001b[1m)\u001b[0m,\n",
      "            \u001b[1;35mTaggedVideo\u001b[0m\u001b[1m(\u001b[0m\n",
      "                \u001b[33mtitle\u001b[0m=\u001b[32m'YouTube Shorts: Trends and Tips for Quick Growth'\u001b[0m,\n",
      "                \u001b[33mtags\u001b[0m=\u001b[1m[\u001b[0m\u001b[32m'YouTube Shorts'\u001b[0m, \u001b[32m'Viral Content'\u001b[0m, \u001b[32m'Short Video Strategy'\u001b[0m\u001b[1m]\u001b[0m\n",
      "            \u001b[1m)\u001b[0m,\n",
      "            \u001b[1;35mTaggedVideo\u001b[0m\u001b[1m(\u001b[0m\n",
      "                \u001b[33mtitle\u001b[0m=\u001b[32m'Building a Loyal Community on YouTube'\u001b[0m,\n",
      "                \u001b[33mtags\u001b[0m=\u001b[1m[\u001b[0m\u001b[32m'YouTube Community'\u001b[0m, \u001b[32m'Audience Engagement'\u001b[0m, \u001b[32m'Community Building'\u001b[0m\u001b[1m]\u001b[0m\n",
      "            \u001b[1m)\u001b[0m\n",
      "        \u001b[1m]\u001b[0m\n",
      "    \u001b[1m)\u001b[0m\n",
      "\u001b[1m)\u001b[0m\n"
     ]
    },
    {
     "data": {
      "text/html": [
       "<pre style=\"white-space:pre;overflow-x:auto;line-height:normal;font-family:Menlo,'DejaVu Sans Mono',consolas,'Courier New',monospace\"></pre>\n"
      ],
      "text/plain": []
     },
     "metadata": {},
     "output_type": "display_data"
    }
   ],
   "source": [
    "with c.pager(styles=True):\n",
    "  c.print(completion.choices[0].message)"
   ]
  }
 ],
 "metadata": {
  "kernelspec": {
   "display_name": "Python 3 (ipykernel)",
   "language": "python",
   "name": "python3"
  },
  "language_info": {
   "codemirror_mode": {
    "name": "ipython",
    "version": 3
   },
   "file_extension": ".py",
   "mimetype": "text/x-python",
   "name": "python",
   "nbconvert_exporter": "python",
   "pygments_lexer": "ipython3",
   "version": "3.12.2"
  }
 },
 "nbformat": 4,
 "nbformat_minor": 5
}
