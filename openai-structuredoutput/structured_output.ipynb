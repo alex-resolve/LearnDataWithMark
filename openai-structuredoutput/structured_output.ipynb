{
 "cells": [
  {
   "cell_type": "code",
   "execution_count": 1,
   "id": "3a229bcc",
   "metadata": {},
   "outputs": [],
   "source": [
    "import csv\n",
    "from rich.console import Console\n",
    "c = Console()"
   ]
  },
  {
   "cell_type": "code",
   "execution_count": 2,
   "id": "f549be84",
   "metadata": {},
   "outputs": [],
   "source": [
    "with open(\"./videos.csv\", \"r\") as videos_file:\n",
    "  reader = csv.DictReader(videos_file)\n",
    "  rows = [row for row in reader]"
   ]
  },
  {
   "cell_type": "code",
   "execution_count": 3,
   "id": "ad635435",
   "metadata": {},
   "outputs": [],
   "source": [
    "with c.pager(styles=True):\n",
    "  c.print(rows)"
   ]
  },
  {
   "cell_type": "code",
   "execution_count": 4,
   "id": "3d7a9824",
   "metadata": {},
   "outputs": [],
   "source": [
    "from pydantic import BaseModel"
   ]
  },
  {
   "cell_type": "code",
   "execution_count": 5,
   "id": "e538501b",
   "metadata": {},
   "outputs": [],
   "source": [
    "class TaggedVideo(BaseModel):\n",
    "  title: str\n",
    "  tags: list[str]\n",
    "\n",
    "class Videos(BaseModel):\n",
    "  videos: list[TaggedVideo]"
   ]
  },
  {
   "cell_type": "code",
   "execution_count": 6,
   "id": "7b14275b",
   "metadata": {},
   "outputs": [],
   "source": [
    "from openai import OpenAI\n",
    "client = OpenAI()"
   ]
  },
  {
   "cell_type": "code",
   "execution_count": 7,
   "id": "e1c73c21",
   "metadata": {},
   "outputs": [],
   "source": [
    "%%time\n",
    "system = \"You are a YouTuber content strategy expert\"\n",
    "user = f\"\"\"Help me to create tags for the provided videos:\n",
    "  {[row[\"Video title\"] for row in rows][:5]}\n",
    "\"\"\"\n",
    "\n",
    "completion = client.beta.chat.completions.parse(    \n",
    "  model=\"gpt-4o-2024-08-06\",\n",
    "  messages=[\n",
    "    {\"role\": \"system\", \"content\": system},\n",
    "    {\"role\": \"user\", \"content\": user},\n",
    "  ],\n",
    "  response_format=Videos,\n",
    ")"
   ]
  },
  {
   "cell_type": "code",
   "execution_count": 8,
   "id": "6d3e53d4",
   "metadata": {},
   "outputs": [],
   "source": [
    "with c.pager(styles=True):\n",
    "  c.print(completion.choices[0].message)"
   ]
  },
  {
   "cell_type": "code",
   "execution_count": 9,
   "id": "949a7927",
   "metadata": {},
   "outputs": [],
   "source": [
    "%%time\n",
    "system = \"You are a YouTuber content strategy expert\"\n",
    "user = \"nothing to parse here\"\n",
    "completion = client.beta.chat.completions.parse(    \n",
    "  model=\"gpt-4o-2024-08-06\",\n",
    "  messages=[\n",
    "    {\"role\": \"system\", \"content\": system},\n",
    "    {\"role\": \"user\", \"content\": user},\n",
    "  ],\n",
    "  response_format=Videos,\n",
    ")"
   ]
  },
  {
   "cell_type": "code",
   "execution_count": 10,
   "id": "c194836d",
   "metadata": {},
   "outputs": [],
   "source": [
    "with c.pager(styles=True):\n",
    "  c.print(completion.choices[0].message)"
   ]
  },
  {
   "cell_type": "code",
   "execution_count": 11,
   "id": "ede379ec",
   "metadata": {},
   "outputs": [],
   "source": [
    "%%time\n",
    "system = \"You are a YouTuber content strategy expert\"\n",
    "user = f\"\"\"Help me to create tags for the provided videos:\n",
    "  {[row[\"Video title\"] for row in rows][:5]}\n",
    "\"\"\"\n",
    "\n",
    "completion = client.beta.chat.completions.parse(    \n",
    "  model=\"gpt-4o-2024-08-06\",\n",
    "  messages=[\n",
    "    {\"role\": \"system\", \"content\": system},\n",
    "    {\"role\": \"user\", \"content\": user},\n",
    "  ],\n",
    "  response_format=Videos,\n",
    ")"
   ]
  },
  {
   "cell_type": "code",
   "execution_count": 12,
   "id": "724872c4",
   "metadata": {},
   "outputs": [],
   "source": [
    "with c.pager(styles=True):\n",
    "  c.print(completion.choices[0].message)"
   ]
  },
  {
   "cell_type": "code",
   "execution_count": 13,
   "id": "aedaa14a",
   "metadata": {},
   "outputs": [],
   "source": [
    "with c.pager(styles=True):\n",
    "  c.print(completion.choices[0].message)"
   ]
  },
  {
   "cell_type": "code",
   "execution_count": 14,
   "id": "d3bd5e68",
   "metadata": {},
   "outputs": [],
   "source": [
    "%pip install nbformat"
   ]
  }
 ],
 "metadata": {},
 "nbformat": 4,
 "nbformat_minor": 5
}
