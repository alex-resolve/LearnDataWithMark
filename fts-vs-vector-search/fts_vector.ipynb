{
 "cells": [
  {
   "cell_type": "markdown",
   "id": "ec469206-bace-471c-93bd-f3ba40110ca5",
   "metadata": {},
   "source": [
    "# Full-Text Search vs Vector Search in DuckDB\n",
    "\n",
    "This is a companion notebook for [a video showing how to do FTS vs Vector Search in DuckDB](https://www.youtube.com/watch?v=U6k7HnQiWzc)."
   ]
  },
  {
   "cell_type": "code",
   "execution_count": 29,
   "id": "a8ca848c-673c-4989-9fb4-06057ec392c6",
   "metadata": {
    "execution": {
     "iopub.execute_input": "2024-07-21T21:03:43.440796Z",
     "iopub.status.busy": "2024-07-21T21:03:43.440138Z",
     "iopub.status.idle": "2024-07-21T21:03:43.583575Z",
     "shell.execute_reply": "2024-07-21T21:03:43.582335Z",
     "shell.execute_reply.started": "2024-07-21T21:03:43.440772Z"
    }
   },
   "outputs": [
    {
     "data": {
      "text/html": [
       "<pre style=\"white-space:pre;overflow-x:auto;line-height:normal;font-family:Menlo,'DejaVu Sans Mono',consolas,'Courier New',monospace\"></pre>\n"
      ],
      "text/plain": []
     },
     "metadata": {},
     "output_type": "display_data"
    },
    {
     "data": {
      "image/jpeg": "[encoded data removed]",
      "text/html": [
       "\n",
       "        <iframe\n",
       "            width=\"560\"\n",
       "            height=\"315\"\n",
       "            src=\"https://www.youtube.com/embed/U6k7HnQiWzc\"\n",
       "            frameborder=\"0\"\n",
       "            allowfullscreen\n",
       "            \n",
       "        ></iframe>\n",
       "        "
      ],
      "text/plain": [
       "\u001b[1m<\u001b[0m\u001b[1;95mIPython.lib.display.YouTubeVideo\u001b[0m\u001b[39m object at \u001b[0m\u001b[1;36m0x1318f6db0\u001b[0m\u001b[1m>\u001b[0m"
      ]
     },
     "execution_count": 29,
     "metadata": {},
     "output_type": "execute_result"
    }
   ],
   "source": [
    "from IPython.display import YouTubeVideo\n",
    "YouTubeVideo('U6k7HnQiWzc', width=560, height=315)"
   ]
  },
  {
   "cell_type": "code",
   "execution_count": 1,
   "id": "549f9239",
   "metadata": {
    "execution": {
     "iopub.execute_input": "2024-07-21T20:59:10.011814Z",
     "iopub.status.busy": "2024-07-21T20:59:10.011365Z",
     "iopub.status.idle": "2024-07-21T20:59:10.018790Z",
     "shell.execute_reply": "2024-07-21T20:59:10.018089Z",
     "shell.execute_reply.started": "2024-07-21T20:59:10.011789Z"
    }
   },
   "outputs": [],
   "source": [
    "file = \"data/ep68.txt\"\n",
    "with open(file, 'r') as reader:\n",
    "    texts = reader.read()"
   ]
  },
  {
   "cell_type": "code",
   "execution_count": 2,
   "id": "dc72826e",
   "metadata": {
    "execution": {
     "iopub.execute_input": "2024-07-21T20:59:13.170013Z",
     "iopub.status.busy": "2024-07-21T20:59:13.169646Z",
     "iopub.status.idle": "2024-07-21T20:59:13.175333Z",
     "shell.execute_reply": "2024-07-21T20:59:13.174510Z",
     "shell.execute_reply.started": "2024-07-21T20:59:13.169989Z"
    }
   },
   "outputs": [],
   "source": [
    "from rich.console import Console\n",
    "c = Console()"
   ]
  },
  {
   "cell_type": "markdown",
   "id": "6f47334f-2532-4685-8fd8-aff91ee823ce",
   "metadata": {
    "execution": {
     "iopub.execute_input": "2024-07-21T20:59:14.331371Z",
     "iopub.status.busy": "2024-07-21T20:59:14.330227Z",
     "iopub.status.idle": "2024-07-21T20:59:14.432538Z",
     "shell.execute_reply": "2024-07-21T20:59:14.432245Z",
     "shell.execute_reply.started": "2024-07-21T20:59:14.331338Z"
    }
   },
   "source": [
    "with c.pager(styles=True):\n",
    "  c.print(texts)"
   ]
  },
  {
   "cell_type": "code",
   "execution_count": 4,
   "id": "69b26ddf",
   "metadata": {
    "execution": {
     "iopub.execute_input": "2024-07-21T20:59:21.886880Z",
     "iopub.status.busy": "2024-07-21T20:59:21.886347Z",
     "iopub.status.idle": "2024-07-21T20:59:22.061422Z",
     "shell.execute_reply": "2024-07-21T20:59:22.061153Z",
     "shell.execute_reply.started": "2024-07-21T20:59:21.886855Z"
    }
   },
   "outputs": [],
   "source": [
    "from langchain_text_splitters import RecursiveCharacterTextSplitter"
   ]
  },
  {
   "cell_type": "code",
   "execution_count": 5,
   "id": "9c6602f4",
   "metadata": {
    "execution": {
     "iopub.execute_input": "2024-07-21T20:59:23.317936Z",
     "iopub.status.busy": "2024-07-21T20:59:23.317732Z",
     "iopub.status.idle": "2024-07-21T20:59:23.320213Z",
     "shell.execute_reply": "2024-07-21T20:59:23.319755Z",
     "shell.execute_reply.started": "2024-07-21T20:59:23.317922Z"
    }
   },
   "outputs": [],
   "source": [
    "text_splitter = RecursiveCharacterTextSplitter(\n",
    "  chunk_size=300,\n",
    "  chunk_overlap=100,\n",
    "  length_function=len,\n",
    "  is_separator_regex=False,\n",
    ")"
   ]
  },
  {
   "cell_type": "code",
   "execution_count": 6,
   "id": "a24216bb",
   "metadata": {
    "execution": {
     "iopub.execute_input": "2024-07-21T20:59:24.840325Z",
     "iopub.status.busy": "2024-07-21T20:59:24.839755Z",
     "iopub.status.idle": "2024-07-21T20:59:24.866759Z",
     "shell.execute_reply": "2024-07-21T20:59:24.866329Z",
     "shell.execute_reply.started": "2024-07-21T20:59:24.840235Z"
    }
   },
   "outputs": [
    {
     "name": "stdout",
     "output_type": "stream",
     "text": [
      "308\n"
     ]
    }
   ],
   "source": [
    "documents = text_splitter.create_documents([texts])\n",
    "print(len(documents))"
   ]
  },
  {
   "cell_type": "code",
   "execution_count": 7,
   "id": "f2dbf1f8",
   "metadata": {
    "execution": {
     "iopub.execute_input": "2024-07-21T20:59:26.160373Z",
     "iopub.status.busy": "2024-07-21T20:59:26.159582Z",
     "iopub.status.idle": "2024-07-21T20:59:26.185333Z",
     "shell.execute_reply": "2024-07-21T20:59:26.184513Z",
     "shell.execute_reply.started": "2024-07-21T20:59:26.160324Z"
    }
   },
   "outputs": [
    {
     "name": "stdout",
     "output_type": "stream",
     "text": [
      "\u001b[1;35mDocument\u001b[0m\u001b[1m(\u001b[0m\n",
      "    \u001b[33mpage_content\u001b[0m=\u001b[32m\"so\u001b[0m\u001b[32m chris last week of course the big news was claude sonnet 3.5 we said on that episode we would \u001b[0m\n",
      "\u001b[32mdaily drive sonnet 3.5 for the entire week which i did and i know you did as well so what do you think now you've \u001b[0m\n",
      "\u001b[32mhad one week of experience with claude sonnet well it's been a pleasure and i think i'm\"\u001b[0m\n",
      "\u001b[1m)\u001b[0m\n"
     ]
    },
    {
     "data": {
      "text/html": [
       "<pre style=\"white-space:pre;overflow-x:auto;line-height:normal;font-family:Menlo,'DejaVu Sans Mono',consolas,'Courier New',monospace\"></pre>\n"
      ],
      "text/plain": []
     },
     "metadata": {},
     "output_type": "display_data"
    }
   ],
   "source": [
    "with c.pager(styles=True):\n",
    "  c.print(documents[0])"
   ]
  },
  {
   "cell_type": "code",
   "execution_count": 8,
   "id": "1009d54b",
   "metadata": {
    "execution": {
     "iopub.execute_input": "2024-07-21T20:59:28.112602Z",
     "iopub.status.busy": "2024-07-21T20:59:28.112218Z",
     "iopub.status.idle": "2024-07-21T20:59:28.230859Z",
     "shell.execute_reply": "2024-07-21T20:59:28.230588Z",
     "shell.execute_reply.started": "2024-07-21T20:59:28.112579Z"
    }
   },
   "outputs": [],
   "source": [
    "import llama_cpp"
   ]
  },
  {
   "cell_type": "code",
   "execution_count": 9,
   "id": "651d5617",
   "metadata": {
    "execution": {
     "iopub.execute_input": "2024-07-21T20:59:29.427934Z",
     "iopub.status.busy": "2024-07-21T20:59:29.427387Z",
     "iopub.status.idle": "2024-07-21T20:59:29.479378Z",
     "shell.execute_reply": "2024-07-21T20:59:29.479048Z",
     "shell.execute_reply.started": "2024-07-21T20:59:29.427911Z"
    }
   },
   "outputs": [],
   "source": [
    "llm = llama_cpp.Llama(\n",
    "  model_path=\"./models/mxbai-embed-large-v1-f16.gguf\", \n",
    "  embedding=True, \n",
    "  verbose=False\n",
    ")"
   ]
  },
  {
   "cell_type": "code",
   "execution_count": 10,
   "id": "6d18ea2a",
   "metadata": {
    "execution": {
     "iopub.execute_input": "2024-07-21T20:59:31.367665Z",
     "iopub.status.busy": "2024-07-21T20:59:31.366825Z",
     "iopub.status.idle": "2024-07-21T20:59:56.068394Z",
     "shell.execute_reply": "2024-07-21T20:59:56.068136Z",
     "shell.execute_reply.started": "2024-07-21T20:59:31.367631Z"
    }
   },
   "outputs": [
    {
     "name": "stdout",
     "output_type": "stream",
     "text": [
      "CPU times: user 1min 57s, sys: 7.21 s, total: 2min 4s\n",
      "Wall time: 24.7 s\n"
     ]
    }
   ],
   "source": [
    "%%time\n",
    "embeddings = llm.create_embedding([item.page_content for item in documents])"
   ]
  },
  {
   "cell_type": "code",
   "execution_count": 11,
   "id": "ee4c7c5d",
   "metadata": {
    "execution": {
     "iopub.execute_input": "2024-07-21T21:00:41.658522Z",
     "iopub.status.busy": "2024-07-21T21:00:41.658128Z",
     "iopub.status.idle": "2024-07-21T21:00:41.665709Z",
     "shell.execute_reply": "2024-07-21T21:00:41.664929Z",
     "shell.execute_reply.started": "2024-07-21T21:00:41.658493Z"
    }
   },
   "outputs": [],
   "source": [
    "documents_embeddings = [ \n",
    "  (document, embeddings['embedding'])  \n",
    "  for document, embeddings in zip(documents, embeddings['data'])\n",
    "]"
   ]
  },
  {
   "cell_type": "code",
   "execution_count": 12,
   "id": "c6b2b136",
   "metadata": {
    "execution": {
     "iopub.execute_input": "2024-07-21T21:00:43.239491Z",
     "iopub.status.busy": "2024-07-21T21:00:43.238870Z",
     "iopub.status.idle": "2024-07-21T21:00:43.342021Z",
     "shell.execute_reply": "2024-07-21T21:00:43.341706Z",
     "shell.execute_reply.started": "2024-07-21T21:00:43.239465Z"
    }
   },
   "outputs": [],
   "source": [
    "import duckdb\n",
    "import uuid"
   ]
  },
  {
   "cell_type": "code",
   "execution_count": 13,
   "id": "30fda281",
   "metadata": {
    "execution": {
     "iopub.execute_input": "2024-07-21T21:01:12.185684Z",
     "iopub.status.busy": "2024-07-21T21:01:12.185281Z",
     "iopub.status.idle": "2024-07-21T21:01:12.224661Z",
     "shell.execute_reply": "2024-07-21T21:01:12.224276Z",
     "shell.execute_reply.started": "2024-07-21T21:01:12.185647Z"
    }
   },
   "outputs": [],
   "source": [
    "con = duckdb.connect(\"podcasts.duckdb\")\n",
    "con.sql(\"\"\"CREATE TABLE podcast_transcript (\n",
    "id STRING,\n",
    "episode INTEGER,\n",
    "paragraph INTEGER,\n",
    "text STRING,\n",
    "embeddings FLOAT[1024]\n",
    ")\"\"\")"
   ]
  },
  {
   "cell_type": "code",
   "execution_count": 14,
   "id": "faeebcd2",
   "metadata": {
    "execution": {
     "iopub.execute_input": "2024-07-21T21:01:13.825582Z",
     "iopub.status.busy": "2024-07-21T21:01:13.825178Z",
     "iopub.status.idle": "2024-07-21T21:01:16.442601Z",
     "shell.execute_reply": "2024-07-21T21:01:16.442204Z",
     "shell.execute_reply.started": "2024-07-21T21:01:13.825560Z"
    }
   },
   "outputs": [],
   "source": [
    "for index, (document, embeddings) in enumerate(documents_embeddings):\n",
    "  con.execute(\n",
    "    \"INSERT INTO podcast_transcript VALUES (?, ?, ?, ?, ?)\", \n",
    "    [str(uuid.uuid4()), 68, index, document.page_content, embeddings]\n",
    "  )"
   ]
  },
  {
   "cell_type": "code",
   "execution_count": 15,
   "id": "b89b876c",
   "metadata": {
    "execution": {
     "iopub.execute_input": "2024-07-21T21:01:19.295821Z",
     "iopub.status.busy": "2024-07-21T21:01:19.295326Z",
     "iopub.status.idle": "2024-07-21T21:01:19.316218Z",
     "shell.execute_reply": "2024-07-21T21:01:19.305969Z",
     "shell.execute_reply.started": "2024-07-21T21:01:19.295796Z"
    }
   },
   "outputs": [],
   "source": [
    "con.sql(\"INSTALL fts\")"
   ]
  },
  {
   "cell_type": "code",
   "execution_count": 16,
   "id": "42f2db74",
   "metadata": {
    "execution": {
     "iopub.execute_input": "2024-07-21T21:01:20.794077Z",
     "iopub.status.busy": "2024-07-21T21:01:20.793736Z",
     "iopub.status.idle": "2024-07-21T21:01:20.841782Z",
     "shell.execute_reply": "2024-07-21T21:01:20.841423Z",
     "shell.execute_reply.started": "2024-07-21T21:01:20.794054Z"
    }
   },
   "outputs": [],
   "source": [
    "con.sql(\"LOAD fts\")"
   ]
  },
  {
   "cell_type": "code",
   "execution_count": 17,
   "id": "2ef6cae2",
   "metadata": {
    "execution": {
     "iopub.execute_input": "2024-07-21T21:01:22.711129Z",
     "iopub.status.busy": "2024-07-21T21:01:22.710731Z",
     "iopub.status.idle": "2024-07-21T21:01:22.778295Z",
     "shell.execute_reply": "2024-07-21T21:01:22.777921Z",
     "shell.execute_reply.started": "2024-07-21T21:01:22.711106Z"
    }
   },
   "outputs": [],
   "source": [
    "con.sql(\"\"\"\n",
    "PRAGMA create_fts_index(\n",
    "    'podcast_transcript', 'id', 'text', overwrite=1\n",
    ");\n",
    "\"\"\")"
   ]
  },
  {
   "cell_type": "code",
   "execution_count": 18,
   "id": "325d9d60",
   "metadata": {
    "execution": {
     "iopub.execute_input": "2024-07-21T21:01:23.845462Z",
     "iopub.status.busy": "2024-07-21T21:01:23.845085Z",
     "iopub.status.idle": "2024-07-21T21:01:23.851005Z",
     "shell.execute_reply": "2024-07-21T21:01:23.850322Z",
     "shell.execute_reply.started": "2024-07-21T21:01:23.845441Z"
    }
   },
   "outputs": [],
   "source": [
    "def fts(query, limit=3):\n",
    "  return con.sql(\"\"\"\n",
    "    SELECT text, paragraph, fts_main_podcast_transcript.match_bm25(\n",
    "            id,\n",
    "            $searchTerm\n",
    "        ) AS score\n",
    "    FROM podcast_transcript\n",
    "    WHERE score IS NOT NULL\n",
    "    ORDER BY score DESC\n",
    "    LIMIT $limit\n",
    "    \"\"\", params={\"searchTerm\": query, \"limit\": limit})"
   ]
  },
  {
   "cell_type": "code",
   "execution_count": 19,
   "id": "8e13f49f",
   "metadata": {
    "execution": {
     "iopub.execute_input": "2024-07-21T21:01:25.134624Z",
     "iopub.status.busy": "2024-07-21T21:01:25.134259Z",
     "iopub.status.idle": "2024-07-21T21:01:25.146567Z",
     "shell.execute_reply": "2024-07-21T21:01:25.142507Z",
     "shell.execute_reply.started": "2024-07-21T21:01:25.134601Z"
    }
   },
   "outputs": [],
   "source": [
    "def vector_search(query, limit=3):\n",
    "  search_vector = llm.create_embedding([query])['data'][0]['embedding']\n",
    "  return con.sql(\"\"\"\n",
    "    SELECT text, paragraph, \n",
    "           array_cosine_similarity(\n",
    "             embeddings, $searchVector::FLOAT[1024]\n",
    "           ) AS score\n",
    "    FROM podcast_transcript\n",
    "    ORDER BY score DESC\n",
    "    LIMIT $limit\n",
    "    \"\"\", params={\"searchVector\": search_vector, \"limit\": limit})"
   ]
  },
  {
   "cell_type": "code",
   "execution_count": 20,
   "id": "3e94bf1f",
   "metadata": {
    "execution": {
     "iopub.execute_input": "2024-07-21T21:01:26.991848Z",
     "iopub.status.busy": "2024-07-21T21:01:26.991411Z",
     "iopub.status.idle": "2024-07-21T21:01:27.147715Z",
     "shell.execute_reply": "2024-07-21T21:01:27.147412Z",
     "shell.execute_reply.started": "2024-07-21T21:01:26.991827Z"
    }
   },
   "outputs": [
    {
     "data": {
      "text/html": [
       "<pre style=\"white-space:pre;overflow-x:auto;line-height:normal;font-family:Menlo,'DejaVu Sans Mono',consolas,'Courier New',monospace\"></pre>\n"
      ],
      "text/plain": []
     },
     "metadata": {},
     "output_type": "display_data"
    },
    {
     "data": {
      "text/plain": [
       "\n",
       "┌─────────────────────────────────────────────────────────────────────────────────────┬───────────┬────────────────────┐\n",
       "│                                        text                                         │ paragraph │       score        │\n",
       "│                                       varchar                                       │   int32   │       double       │\n",
       "├─────────────────────────────────────────────────────────────────────────────────────┼───────────┼────────────────────┤\n",
       "│ integrated soon to be integrated with Apple devices. You'll probably just, you kn…  │         \u001b[1;36m9\u001b[0m │  \u001b[1;36m2.922646170812853\u001b[0m │\n",
       "│ commented last week that people just don't know that Anthropic exists and they ju…  │         \u001b[1;36m8\u001b[0m │  \u001b[1;36m2.075428333815724\u001b[0m │\n",
       "│ is \u001b[1;36m100\u001b[0m being written by ai like there's just no doubt in my mind this is from ai …  │       \u001b[1;36m148\u001b[0m │ \u001b[1;36m1.1605148483879124\u001b[0m │\n",
       "└─────────────────────────────────────────────────────────────────────────────────────┴───────────┴────────────────────┘"
      ]
     },
     "metadata": {},
     "output_type": "display_data"
    },
    {
     "data": {
      "text/html": [
       "<pre style=\"white-space:pre;overflow-x:auto;line-height:normal;font-family:Menlo,'DejaVu Sans Mono',consolas,'Courier New',monospace\"></pre>\n"
      ],
      "text/plain": []
     },
     "metadata": {},
     "output_type": "display_data"
    },
    {
     "data": {
      "text/plain": [
       "\n",
       "┌─────────────────────────────────────────────────────────────────────────────────────────────┬───────────┬────────────┐\n",
       "│                                            text                                             │ paragraph │   score    │\n",
       "│                                           varchar                                           │   int32   │   float    │\n",
       "├─────────────────────────────────────────────────────────────────────────────────────────────┼───────────┼────────────┤\n",
       "│ integrated soon to be integrated with Apple devices. You'll probably just, you know, that…  │         \u001b[1;36m9\u001b[0m │  \u001b[1;36m0.7262134\u001b[0m │\n",
       "│ work with AI day to day. And I think when it comes to businesses using them at the core o…  │        \u001b[1;36m10\u001b[0m │ \u001b[1;36m0.68550885\u001b[0m │\n",
       "│ people are working with AI day to day, where you have a document you're trying to produce…  │        \u001b[1;36m18\u001b[0m │  \u001b[1;36m0.6507178\u001b[0m │\n",
       "└─────────────────────────────────────────────────────────────────────────────────────────────┴───────────┴────────────┘"
      ]
     },
     "metadata": {},
     "output_type": "display_data"
    }
   ],
   "source": [
    "query = \"What are Apple doing around AI?\"\n",
    "display(fts(query))\n",
    "display(vector_search(query))"
   ]
  },
  {
   "cell_type": "code",
   "execution_count": 21,
   "id": "198e0fdc",
   "metadata": {
    "execution": {
     "iopub.execute_input": "2024-07-21T21:01:29.461541Z",
     "iopub.status.busy": "2024-07-21T21:01:29.461090Z",
     "iopub.status.idle": "2024-07-21T21:01:29.469830Z",
     "shell.execute_reply": "2024-07-21T21:01:29.469100Z",
     "shell.execute_reply.started": "2024-07-21T21:01:29.461516Z"
    }
   },
   "outputs": [],
   "source": [
    "from rich.table import Table\n",
    "import random"
   ]
  },
  {
   "cell_type": "code",
   "execution_count": 22,
   "id": "f1ee8af3",
   "metadata": {
    "execution": {
     "iopub.execute_input": "2024-07-21T21:01:30.983401Z",
     "iopub.status.busy": "2024-07-21T21:01:30.982757Z",
     "iopub.status.idle": "2024-07-21T21:01:31.005596Z",
     "shell.execute_reply": "2024-07-21T21:01:30.994350Z",
     "shell.execute_reply.started": "2024-07-21T21:01:30.983372Z"
    }
   },
   "outputs": [],
   "source": [
    "def format_results(query, fts_res, vector_res):\n",
    "  results = zip(fts_res.fetchall(), vector_res.fetchall())\n",
    "  table = Table(title=query)\n",
    "  table.add_column(\"FTS\")\n",
    "  table.add_column(\"Vector\")\n",
    "  colors = random.sample([15, 11, 14, 13, 9, 200], len(fts_res))  \n",
    "  for index, (a, b) in enumerate(results):\n",
    "    table.add_row(a[0], b[0], style=f\"color({colors[index]})\")\n",
    "  return table"
   ]
  },
  {
   "cell_type": "code",
   "execution_count": 23,
   "id": "6abd7038",
   "metadata": {
    "execution": {
     "iopub.execute_input": "2024-07-21T21:01:34.725039Z",
     "iopub.status.busy": "2024-07-21T21:01:34.724235Z",
     "iopub.status.idle": "2024-07-21T21:01:34.840316Z",
     "shell.execute_reply": "2024-07-21T21:01:34.840036Z",
     "shell.execute_reply.started": "2024-07-21T21:01:34.724953Z"
    }
   },
   "outputs": [
    {
     "name": "stdout",
     "output_type": "stream",
     "text": [
      "\u001b[3m                                                                                                                   \u001b[0m\n",
      "\u001b[3m                         Which AI model did they refer to as having a 'death blow' impact?                         \u001b[0m\n",
      "\u001b[3m                                                                                                                   \u001b[0m\n",
      "┏━━━━━━━━━━━━━━━━━━━━━━━━━━━━━━━━━━━━━━━━━━━━━━━━━━━━━━━━┳━━━━━━━━━━━━━━━━━━━━━━━━━━━━━━━━━━━━━━━━━━━━━━━━━━━━━━━━┓\n",
      "┃\u001b[1m \u001b[0m\u001b[1mFTS                                                   \u001b[0m\u001b[1m \u001b[0m┃\u001b[1m \u001b[0m\u001b[1mVector                                                \u001b[0m\u001b[1m \u001b[0m┃\n",
      "┡━━━━━━━━━━━━━━━━━━━━━━━━━━━━━━━━━━━━━━━━━━━━━━━━━━━━━━━━╇━━━━━━━━━━━━━━━━━━━━━━━━━━━━━━━━━━━━━━━━━━━━━━━━━━━━━━━━┩\n",
      "│\u001b[95m \u001b[0m\u001b[95mis so far superior to gpt 4.0 that i i don't know like\u001b[0m\u001b[95m \u001b[0m│\u001b[95m \u001b[0m\u001b[95madmit it like even if they press, like you'd have to  \u001b[0m\u001b[95m \u001b[0m│\n",
      "│\u001b[95m \u001b[0m\u001b[95mi'm almost scared for open ai like i'm like they      \u001b[0m\u001b[95m \u001b[0m│\u001b[95m \u001b[0m\u001b[95mget me in like a freaking cross-examination or        \u001b[0m\u001b[95m \u001b[0m│\n",
      "│\u001b[95m \u001b[0m\u001b[95mbetter have something because this this is like a     \u001b[0m\u001b[95m \u001b[0m│\u001b[95m \u001b[0m\u001b[95msomething to admit that I'm using AI on a day-to-day  \u001b[0m\u001b[95m \u001b[0m│\n",
      "│\u001b[95m \u001b[0m\u001b[95mdeath blow and I know a lot of people rightly         \u001b[0m\u001b[95m \u001b[0m│\u001b[95m \u001b[0m\u001b[95mbasis to pump this stuff out. All right, you've ruined\u001b[0m\u001b[95m \u001b[0m│\n",
      "│\u001b[95m \u001b[0m\u001b[95mcommented last week that people just don't know that  \u001b[0m\u001b[95m \u001b[0m│\u001b[95m \u001b[0m\u001b[95mmy segue into the next segment. You were meant to say \u001b[0m\u001b[95m \u001b[0m│\n",
      "│\u001b[95m \u001b[0m\u001b[95mAnthropic exists and they just, you know, chat        \u001b[0m\u001b[95m \u001b[0m│\u001b[95m \u001b[0m\u001b[95mwhere are all the AI hardware simps                   \u001b[0m\u001b[95m \u001b[0m│\n",
      "│\u001b[91m \u001b[0m\u001b[91mbit quicker thanks to their sponsored ads like telling\u001b[0m\u001b[91m \u001b[0m│\u001b[91m \u001b[0m\u001b[91mof stuff and customizing the model i forget the exact \u001b[0m\u001b[91m \u001b[0m│\n",
      "│\u001b[91m \u001b[0m\u001b[91mus what to click on but you pointed out over on hack  \u001b[0m\u001b[91m \u001b[0m│\u001b[91m \u001b[0m\u001b[91mwording they use for that, but they have the ability  \u001b[0m\u001b[91m \u001b[0m│\n",
      "│\u001b[91m \u001b[0m\u001b[91mand use this comment i have to agree with all this um \u001b[0m\u001b[91m \u001b[0m│\u001b[91m \u001b[0m\u001b[91min there to do multi-shot training where you're giving\u001b[0m\u001b[91m \u001b[0m│\n",
      "│\u001b[91m \u001b[0m\u001b[91min reference to google's ai stuff i tried switching   \u001b[0m\u001b[91m \u001b[0m│\u001b[91m \u001b[0m\u001b[91mit examples of input and output, and then they will   \u001b[0m\u001b[91m \u001b[0m│\n",
      "│\u001b[91m \u001b[0m\u001b[91mtoini, but the lack of clear billing quotas, horrible \u001b[0m\u001b[91m \u001b[0m│\u001b[91m \u001b[0m\u001b[91mrefine the model to suit your use case. So I think as \u001b[0m\u001b[91m \u001b[0m│\n",
      "│\u001b[91m \u001b[0m\u001b[91mdocumentation, even poor                              \u001b[0m\u001b[91m \u001b[0m│\u001b[91m \u001b[0m\u001b[91ma hosted solution on Vertex AI                        \u001b[0m\u001b[91m \u001b[0m│\n",
      "│\u001b[96m \u001b[0m\u001b[96mwrites Google's documentation or does the copy editing\u001b[0m\u001b[96m \u001b[0m│\u001b[96m \u001b[0m\u001b[96mpeople are working with AI day to day, where you have \u001b[0m\u001b[96m \u001b[0m│\n",
      "│\u001b[96m \u001b[0m\u001b[96mfor their console, but it is hard to adapt. I've spent\u001b[0m\u001b[96m \u001b[0m│\u001b[96m \u001b[0m\u001b[96ma document you're trying to produce, you've got a     \u001b[0m\u001b[96m \u001b[0m│\n",
      "│\u001b[96m \u001b[0m\u001b[96mhours troubleshooting only to find out it's because   \u001b[0m\u001b[96m \u001b[0m│\u001b[96m \u001b[0m\u001b[96mproblem you're trying to solve. And it seems to kind  \u001b[0m\u001b[96m \u001b[0m│\n",
      "│\u001b[96m \u001b[0m\u001b[96mthe documentation is referring to the same thing by   \u001b[0m\u001b[96m \u001b[0m│\u001b[96m \u001b[0m\u001b[96mof know when to go into that mode and work on with you\u001b[0m\u001b[96m \u001b[0m│\n",
      "│\u001b[96m \u001b[0m\u001b[96mtwo different names. It's 2024. Also, I shouldn't be  \u001b[0m\u001b[96m \u001b[0m│\u001b[96m \u001b[0m\u001b[96miteratively on a problem. Yeah, a lot of people call  \u001b[0m\u001b[96m \u001b[0m│\n",
      "│\u001b[96m \u001b[0m\u001b[96mseeing print statements without                       \u001b[0m\u001b[96m \u001b[0m│\u001b[96m \u001b[0m\u001b[96mthat out on X saying that, unlike                     \u001b[0m\u001b[96m \u001b[0m│\n",
      "└────────────────────────────────────────────────────────┴────────────────────────────────────────────────────────┘\n"
     ]
    },
    {
     "data": {
      "text/html": [
       "<pre style=\"white-space:pre;overflow-x:auto;line-height:normal;font-family:Menlo,'DejaVu Sans Mono',consolas,'Courier New',monospace\"></pre>\n"
      ],
      "text/plain": []
     },
     "metadata": {},
     "output_type": "display_data"
    }
   ],
   "source": [
    "query = \"\"\"\n",
    "Which AI model did they refer to as having a 'death blow' impact?\n",
    "\"\"\"\n",
    "with c.pager(styles=True):\n",
    "  c.print(format_results(query, fts(query), vector_search(query)))"
   ]
  },
  {
   "cell_type": "code",
   "execution_count": 24,
   "id": "d4ee34e8",
   "metadata": {
    "execution": {
     "iopub.execute_input": "2024-07-21T21:01:36.922908Z",
     "iopub.status.busy": "2024-07-21T21:01:36.921548Z",
     "iopub.status.idle": "2024-07-21T21:01:37.029124Z",
     "shell.execute_reply": "2024-07-21T21:01:37.028807Z",
     "shell.execute_reply.started": "2024-07-21T21:01:36.922697Z"
    }
   },
   "outputs": [
    {
     "name": "stdout",
     "output_type": "stream",
     "text": [
      "\u001b[3m                                                                                                                   \u001b[0m\n",
      "\u001b[3m                                  Which company is making their AI inaccessible?                                   \u001b[0m\n",
      "\u001b[3m                                                                                                                   \u001b[0m\n",
      "┏━━━━━━━━━━━━━━━━━━━━━━━━━━━━━━━━━━━━━━━━━━━━━━━━━━━━━━━━┳━━━━━━━━━━━━━━━━━━━━━━━━━━━━━━━━━━━━━━━━━━━━━━━━━━━━━━━━┓\n",
      "┃\u001b[1m \u001b[0m\u001b[1mFTS                                                   \u001b[0m\u001b[1m \u001b[0m┃\u001b[1m \u001b[0m\u001b[1mVector                                                \u001b[0m\u001b[1m \u001b[0m┃\n",
      "┡━━━━━━━━━━━━━━━━━━━━━━━━━━━━━━━━━━━━━━━━━━━━━━━━━━━━━━━━╇━━━━━━━━━━━━━━━━━━━━━━━━━━━━━━━━━━━━━━━━━━━━━━━━━━━━━━━━┩\n",
      "│\u001b[96m \u001b[0m\u001b[96minto hosting events, into forcing companies into using\u001b[0m\u001b[96m \u001b[0m│\u001b[96m \u001b[0m\u001b[96mGoogle Cloud. We use it for our company right but if i\u001b[0m\u001b[96m \u001b[0m│\n",
      "│\u001b[96m \u001b[0m\u001b[96mit, like making them an offer they can't refuse to use\u001b[0m\u001b[96m \u001b[0m│\u001b[96m \u001b[0m\u001b[96mtry to access google's ai stuff through our company   \u001b[0m\u001b[96m \u001b[0m│\n",
      "│\u001b[96m \u001b[0m\u001b[96mtheir models over others? There just doesn't seem to  \u001b[0m\u001b[96m \u001b[0m│\u001b[96m \u001b[0m\u001b[96maccount i'm blocked i can't actually use it through   \u001b[0m\u001b[96m \u001b[0m│\n",
      "│\u001b[96m \u001b[0m\u001b[96mbe a drive. And keep in mind, we have Google Cloud. We\u001b[0m\u001b[96m \u001b[0m│\u001b[96m \u001b[0m\u001b[96mour company account because we pay them money and yet \u001b[0m\u001b[96m \u001b[0m│\n",
      "│\u001b[96m \u001b[0m\u001b[96muse it for our company right but if i try to access   \u001b[0m\u001b[96m \u001b[0m│\u001b[96m \u001b[0m\u001b[96mon my free account where i've never paid them anything\u001b[0m\u001b[96m \u001b[0m│\n",
      "│\u001b[96m \u001b[0m\u001b[96mgoogle's ai stuff through our                         \u001b[0m\u001b[96m \u001b[0m│\u001b[96m \u001b[0m\u001b[96mgo for your life like it's it                         \u001b[0m\u001b[96m \u001b[0m│\n",
      "│\u001b[97m \u001b[0m\u001b[97mdoing it is to stay relevant for their stock price. I \u001b[0m\u001b[97m \u001b[0m│\u001b[97m \u001b[0m\u001b[97mwork with AI day to day. And I think when it comes to \u001b[0m\u001b[97m \u001b[0m│\n",
      "│\u001b[97m \u001b[0m\u001b[97mmean, Meta alone has probably kept themselves up there\u001b[0m\u001b[97m \u001b[0m│\u001b[97m \u001b[0m\u001b[97mbusinesses using them at the core of their            \u001b[0m\u001b[97m \u001b[0m│\n",
      "│\u001b[97m \u001b[0m\u001b[97mthrough AI stuff. So why aren't they investing the    \u001b[0m\u001b[97m \u001b[0m│\u001b[97m \u001b[0m\u001b[97mapplications, you want to use whichever one is best.  \u001b[0m\u001b[97m \u001b[0m│\n",
      "│\u001b[97m \u001b[0m\u001b[97msame amount of money into developer resources, into   \u001b[0m\u001b[97m \u001b[0m│\u001b[97m \u001b[0m\u001b[97mSo perhaps on that consumer level, they might not get \u001b[0m\u001b[97m \u001b[0m│\n",
      "│\u001b[97m \u001b[0m\u001b[97mhosting events, into forcing companies into using it, \u001b[0m\u001b[97m \u001b[0m│\u001b[97m \u001b[0m\u001b[97mthe same attention. But I think people building       \u001b[0m\u001b[97m \u001b[0m│\n",
      "│\u001b[97m \u001b[0m\u001b[97mlike making them an offer they                        \u001b[0m\u001b[97m \u001b[0m│\u001b[97m \u001b[0m\u001b[97mserious AI apps would have to look at this just       \u001b[0m\u001b[97m \u001b[0m│\n",
      "│\u001b[38;5;200m \u001b[0m\u001b[38;5;200mGoogle Cloud. We use it for our company right but if i\u001b[0m\u001b[38;5;200m \u001b[0m│\u001b[38;5;200m \u001b[0m\u001b[38;5;200madmit it like even if they press, like you'd have to  \u001b[0m\u001b[38;5;200m \u001b[0m│\n",
      "│\u001b[38;5;200m \u001b[0m\u001b[38;5;200mtry to access google's ai stuff through our company   \u001b[0m\u001b[38;5;200m \u001b[0m│\u001b[38;5;200m \u001b[0m\u001b[38;5;200mget me in like a freaking cross-examination or        \u001b[0m\u001b[38;5;200m \u001b[0m│\n",
      "│\u001b[38;5;200m \u001b[0m\u001b[38;5;200maccount i'm blocked i can't actually use it through   \u001b[0m\u001b[38;5;200m \u001b[0m│\u001b[38;5;200m \u001b[0m\u001b[38;5;200msomething to admit that I'm using AI on a day-to-day  \u001b[0m\u001b[38;5;200m \u001b[0m│\n",
      "│\u001b[38;5;200m \u001b[0m\u001b[38;5;200mour company account because we pay them money and yet \u001b[0m\u001b[38;5;200m \u001b[0m│\u001b[38;5;200m \u001b[0m\u001b[38;5;200mbasis to pump this stuff out. All right, you've ruined\u001b[0m\u001b[38;5;200m \u001b[0m│\n",
      "│\u001b[38;5;200m \u001b[0m\u001b[38;5;200mon my free account where i've never paid them anything\u001b[0m\u001b[38;5;200m \u001b[0m│\u001b[38;5;200m \u001b[0m\u001b[38;5;200mmy segue into the next segment. You were meant to say \u001b[0m\u001b[38;5;200m \u001b[0m│\n",
      "│\u001b[38;5;200m \u001b[0m\u001b[38;5;200mgo for your life like it's it                         \u001b[0m\u001b[38;5;200m \u001b[0m│\u001b[38;5;200m \u001b[0m\u001b[38;5;200mwhere are all the AI hardware simps                   \u001b[0m\u001b[38;5;200m \u001b[0m│\n",
      "└────────────────────────────────────────────────────────┴────────────────────────────────────────────────────────┘\n"
     ]
    },
    {
     "data": {
      "text/html": [
       "<pre style=\"white-space:pre;overflow-x:auto;line-height:normal;font-family:Menlo,'DejaVu Sans Mono',consolas,'Courier New',monospace\"></pre>\n"
      ],
      "text/plain": []
     },
     "metadata": {},
     "output_type": "display_data"
    }
   ],
   "source": [
    "query = \"\"\"\n",
    "Which company is making their AI inaccessible?\n",
    "\"\"\"\n",
    "with c.pager(styles=True):\n",
    "  c.print(format_results(query, fts(query), vector_search(query)))"
   ]
  },
  {
   "cell_type": "code",
   "execution_count": 25,
   "id": "aa92e936",
   "metadata": {
    "execution": {
     "iopub.execute_input": "2024-07-21T21:01:38.659338Z",
     "iopub.status.busy": "2024-07-21T21:01:38.659016Z",
     "iopub.status.idle": "2024-07-21T21:01:38.750379Z",
     "shell.execute_reply": "2024-07-21T21:01:38.750042Z",
     "shell.execute_reply.started": "2024-07-21T21:01:38.659317Z"
    }
   },
   "outputs": [
    {
     "name": "stdout",
     "output_type": "stream",
     "text": [
      "\u001b[3m                                                                                                                   \u001b[0m\n",
      "\u001b[3m                                  Which company is making their AI inaccessible?                                   \u001b[0m\n",
      "\u001b[3m                                                                                                                   \u001b[0m\n",
      "┏━━━━━━━━━━━━━━━━━━━━━━━━━━━━━━━━━━━━━━━━━━━━━━━━━━━━━━━━┳━━━━━━━━━━━━━━━━━━━━━━━━━━━━━━━━━━━━━━━━━━━━━━━━━━━━━━━━┓\n",
      "┃\u001b[1m \u001b[0m\u001b[1mFTS                                                   \u001b[0m\u001b[1m \u001b[0m┃\u001b[1m \u001b[0m\u001b[1mVector                                                \u001b[0m\u001b[1m \u001b[0m┃\n",
      "┡━━━━━━━━━━━━━━━━━━━━━━━━━━━━━━━━━━━━━━━━━━━━━━━━━━━━━━━━╇━━━━━━━━━━━━━━━━━━━━━━━━━━━━━━━━━━━━━━━━━━━━━━━━━━━━━━━━┩\n",
      "│\u001b[96m \u001b[0m\u001b[96minto hosting events, into forcing companies into using\u001b[0m\u001b[96m \u001b[0m│\u001b[96m \u001b[0m\u001b[96mGoogle Cloud. We use it for our company right but if i\u001b[0m\u001b[96m \u001b[0m│\n",
      "│\u001b[96m \u001b[0m\u001b[96mit, like making them an offer they can't refuse to use\u001b[0m\u001b[96m \u001b[0m│\u001b[96m \u001b[0m\u001b[96mtry to access google's ai stuff through our company   \u001b[0m\u001b[96m \u001b[0m│\n",
      "│\u001b[96m \u001b[0m\u001b[96mtheir models over others? There just doesn't seem to  \u001b[0m\u001b[96m \u001b[0m│\u001b[96m \u001b[0m\u001b[96maccount i'm blocked i can't actually use it through   \u001b[0m\u001b[96m \u001b[0m│\n",
      "│\u001b[96m \u001b[0m\u001b[96mbe a drive. And keep in mind, we have Google Cloud. We\u001b[0m\u001b[96m \u001b[0m│\u001b[96m \u001b[0m\u001b[96mour company account because we pay them money and yet \u001b[0m\u001b[96m \u001b[0m│\n",
      "│\u001b[96m \u001b[0m\u001b[96muse it for our company right but if i try to access   \u001b[0m\u001b[96m \u001b[0m│\u001b[96m \u001b[0m\u001b[96mon my free account where i've never paid them anything\u001b[0m\u001b[96m \u001b[0m│\n",
      "│\u001b[96m \u001b[0m\u001b[96mgoogle's ai stuff through our                         \u001b[0m\u001b[96m \u001b[0m│\u001b[96m \u001b[0m\u001b[96mgo for your life like it's it                         \u001b[0m\u001b[96m \u001b[0m│\n",
      "│\u001b[97m \u001b[0m\u001b[97mdoing it is to stay relevant for their stock price. I \u001b[0m\u001b[97m \u001b[0m│\u001b[97m \u001b[0m\u001b[97mwork with AI day to day. And I think when it comes to \u001b[0m\u001b[97m \u001b[0m│\n",
      "│\u001b[97m \u001b[0m\u001b[97mmean, Meta alone has probably kept themselves up there\u001b[0m\u001b[97m \u001b[0m│\u001b[97m \u001b[0m\u001b[97mbusinesses using them at the core of their            \u001b[0m\u001b[97m \u001b[0m│\n",
      "│\u001b[97m \u001b[0m\u001b[97mthrough AI stuff. So why aren't they investing the    \u001b[0m\u001b[97m \u001b[0m│\u001b[97m \u001b[0m\u001b[97mapplications, you want to use whichever one is best.  \u001b[0m\u001b[97m \u001b[0m│\n",
      "│\u001b[97m \u001b[0m\u001b[97msame amount of money into developer resources, into   \u001b[0m\u001b[97m \u001b[0m│\u001b[97m \u001b[0m\u001b[97mSo perhaps on that consumer level, they might not get \u001b[0m\u001b[97m \u001b[0m│\n",
      "│\u001b[97m \u001b[0m\u001b[97mhosting events, into forcing companies into using it, \u001b[0m\u001b[97m \u001b[0m│\u001b[97m \u001b[0m\u001b[97mthe same attention. But I think people building       \u001b[0m\u001b[97m \u001b[0m│\n",
      "│\u001b[97m \u001b[0m\u001b[97mlike making them an offer they                        \u001b[0m\u001b[97m \u001b[0m│\u001b[97m \u001b[0m\u001b[97mserious AI apps would have to look at this just       \u001b[0m\u001b[97m \u001b[0m│\n",
      "│\u001b[95m \u001b[0m\u001b[95mGoogle Cloud. We use it for our company right but if i\u001b[0m\u001b[95m \u001b[0m│\u001b[95m \u001b[0m\u001b[95madmit it like even if they press, like you'd have to  \u001b[0m\u001b[95m \u001b[0m│\n",
      "│\u001b[95m \u001b[0m\u001b[95mtry to access google's ai stuff through our company   \u001b[0m\u001b[95m \u001b[0m│\u001b[95m \u001b[0m\u001b[95mget me in like a freaking cross-examination or        \u001b[0m\u001b[95m \u001b[0m│\n",
      "│\u001b[95m \u001b[0m\u001b[95maccount i'm blocked i can't actually use it through   \u001b[0m\u001b[95m \u001b[0m│\u001b[95m \u001b[0m\u001b[95msomething to admit that I'm using AI on a day-to-day  \u001b[0m\u001b[95m \u001b[0m│\n",
      "│\u001b[95m \u001b[0m\u001b[95mour company account because we pay them money and yet \u001b[0m\u001b[95m \u001b[0m│\u001b[95m \u001b[0m\u001b[95mbasis to pump this stuff out. All right, you've ruined\u001b[0m\u001b[95m \u001b[0m│\n",
      "│\u001b[95m \u001b[0m\u001b[95mon my free account where i've never paid them anything\u001b[0m\u001b[95m \u001b[0m│\u001b[95m \u001b[0m\u001b[95mmy segue into the next segment. You were meant to say \u001b[0m\u001b[95m \u001b[0m│\n",
      "│\u001b[95m \u001b[0m\u001b[95mgo for your life like it's it                         \u001b[0m\u001b[95m \u001b[0m│\u001b[95m \u001b[0m\u001b[95mwhere are all the AI hardware simps                   \u001b[0m\u001b[95m \u001b[0m│\n",
      "└────────────────────────────────────────────────────────┴────────────────────────────────────────────────────────┘\n"
     ]
    },
    {
     "data": {
      "text/html": [
       "<pre style=\"white-space:pre;overflow-x:auto;line-height:normal;font-family:Menlo,'DejaVu Sans Mono',consolas,'Courier New',monospace\"></pre>\n"
      ],
      "text/plain": []
     },
     "metadata": {},
     "output_type": "display_data"
    }
   ],
   "source": [
    "query = \"\"\"\n",
    "Which company is making their AI inaccessible?\n",
    "\"\"\"\n",
    "with c.pager(styles=True):\n",
    "  c.print(format_results(query, fts(query), vector_search(query)))"
   ]
  }
 ],
 "metadata": {
  "kernelspec": {
   "display_name": "Python 3 (ipykernel)",
   "language": "python",
   "name": "python3"
  },
  "language_info": {
   "codemirror_mode": {
    "name": "ipython",
    "version": 3
   },
   "file_extension": ".py",
   "mimetype": "text/x-python",
   "name": "python",
   "nbconvert_exporter": "python",
   "pygments_lexer": "ipython3",
   "version": "3.12.2"
  }
 },
 "nbformat": 4,
 "nbformat_minor": 5
}
