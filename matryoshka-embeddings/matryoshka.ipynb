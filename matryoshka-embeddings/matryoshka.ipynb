{
 "cells": [
  {
   "cell_type": "markdown",
   "id": "199a14f7",
   "metadata": {},
   "source": [
    "# An intro to Matryoskha Embeddings"
   ]
  },
  {
   "cell_type": "code",
   "execution_count": null,
   "id": "65d55c4f-1621-424e-9f2a-e970c0dc557b",
   "metadata": {},
   "outputs": [],
   "source": [
    "%pip install ranx duckdb"
   ]
  },
  {
   "cell_type": "code",
   "execution_count": 1,
   "id": "7baaac03",
   "metadata": {
    "execution": {
     "iopub.execute_input": "2024-08-09T06:35:27.418609Z",
     "iopub.status.busy": "2024-08-09T06:35:27.418071Z",
     "iopub.status.idle": "2024-08-09T06:35:27.472294Z",
     "shell.execute_reply": "2024-08-09T06:35:27.471946Z",
     "shell.execute_reply.started": "2024-08-09T06:35:27.418566Z"
    }
   },
   "outputs": [],
   "source": [
    "import duckdb"
   ]
  },
  {
   "cell_type": "code",
   "execution_count": 2,
   "id": "4ffd1078",
   "metadata": {
    "execution": {
     "iopub.execute_input": "2024-08-09T06:35:27.473642Z",
     "iopub.status.busy": "2024-08-09T06:35:27.473467Z",
     "iopub.status.idle": "2024-08-09T06:35:27.479893Z",
     "shell.execute_reply": "2024-08-09T06:35:27.479347Z",
     "shell.execute_reply.started": "2024-08-09T06:35:27.473628Z"
    }
   },
   "outputs": [],
   "source": [
    "con = duckdb.connect(\"olympics.duckdb\")"
   ]
  },
  {
   "cell_type": "code",
   "execution_count": 3,
   "id": "7552af2e",
   "metadata": {
    "execution": {
     "iopub.execute_input": "2024-08-09T06:35:27.480811Z",
     "iopub.status.busy": "2024-08-09T06:35:27.480670Z",
     "iopub.status.idle": "2024-08-09T06:35:27.493694Z",
     "shell.execute_reply": "2024-08-09T06:35:27.493315Z",
     "shell.execute_reply.started": "2024-08-09T06:35:27.480797Z"
    }
   },
   "outputs": [
    {
     "data": {
      "text/html": [
       "<pre style=\"white-space:pre;overflow-x:auto;line-height:normal;font-family:Menlo,'DejaVu Sans Mono',consolas,'Courier New',monospace\"></pre>\n"
      ],
      "text/plain": []
     },
     "metadata": {},
     "output_type": "display_data"
    },
    {
     "data": {
      "text/plain": [
       "\n",
       "┌─────────────┬─────────────┬─────────┬─────────┬─────────┬─────────┐\n",
       "│ column_name │ column_type │  null   │   key   │ default │  extra  │\n",
       "│   varchar   │   varchar   │ varchar │ varchar │ varchar │ varchar │\n",
       "├─────────────┼─────────────┼─────────┼─────────┼─────────┼─────────┤\n",
       "│ index       │ BIGINT      │ YES     │ NULL    │ NULL    │ NULL    │\n",
       "│ text        │ VARCHAR     │ YES     │ NULL    │ NULL    │ NULL    │\n",
       "│ url         │ VARCHAR     │ YES     │ NULL    │ NULL    │ NULL    │\n",
       "│ title       │ VARCHAR     │ YES     │ NULL    │ NULL    │ NULL    │\n",
       "└─────────────┴─────────────┴─────────┴─────────┴─────────┴─────────┘"
      ]
     },
     "execution_count": 3,
     "metadata": {},
     "output_type": "execute_result"
    }
   ],
   "source": [
    "con.sql(\"DESCRIBE olympics\")"
   ]
  },
  {
   "cell_type": "code",
   "execution_count": 4,
   "id": "0bfe7901",
   "metadata": {
    "execution": {
     "iopub.execute_input": "2024-08-09T06:35:27.494540Z",
     "iopub.status.busy": "2024-08-09T06:35:27.494319Z",
     "iopub.status.idle": "2024-08-09T06:35:27.506539Z",
     "shell.execute_reply": "2024-08-09T06:35:27.506156Z",
     "shell.execute_reply.started": "2024-08-09T06:35:27.494528Z"
    }
   },
   "outputs": [
    {
     "data": {
      "text/html": [
       "<pre style=\"white-space:pre;overflow-x:auto;line-height:normal;font-family:Menlo,'DejaVu Sans Mono',consolas,'Courier New',monospace\"></pre>\n"
      ],
      "text/plain": []
     },
     "metadata": {},
     "output_type": "display_data"
    },
    {
     "data": {
      "text/plain": [
       "\n",
       "┌───────┬──────────────────────┬──────────────────────┬────────────────────────────────────────────────────────────────┐\n",
       "│ index │         text         │         url          │                             title                              │\n",
       "│ int64 │       varchar        │       varchar        │                            varchar                             │\n",
       "├───────┼──────────────────────┼──────────────────────┼────────────────────────────────────────────────────────────────┤\n",
       "│     \u001b[1;36m0\u001b[0m │ The \u001b[1;36m2024\u001b[0m Olympics …  │ \u001b[4;94mhttps://www.bbc.co\u001b[0m…  │ Paris \u001b[1;36m2024\u001b[0m Olympic opening ceremony kicks off Games in uniqu…  │\n",
       "│     \u001b[1;36m1\u001b[0m │ Swapping a stadium…  │ \u001b[4;94mhttps://www.bbc.co\u001b[0m…  │ Paris \u001b[1;36m2024\u001b[0m Olympic opening ceremony kicks off Games in uniqu…  │\n",
       "│     \u001b[1;36m2\u001b[0m │ Blue, white and re…  │ \u001b[4;94mhttps://www.bbc.co\u001b[0m…  │ Paris \u001b[1;36m2024\u001b[0m Olympic opening ceremony kicks off Games in uniqu…  │\n",
       "│     \u001b[1;36m3\u001b[0m │ There were surpris…  │ \u001b[4;94mhttps://www.bbc.co\u001b[0m…  │ Paris \u001b[1;36m2024\u001b[0m Olympic opening ceremony kicks off Games in uniqu…  │\n",
       "│     \u001b[1;36m4\u001b[0m │ The day had starte…  │ \u001b[4;94mhttps://www.bbc.co\u001b[0m…  │ Paris \u001b[1;36m2024\u001b[0m Olympic opening ceremony kicks off Games in uniqu…  │\n",
       "│     \u001b[1;36m5\u001b[0m │ The lashing rain m…  │ \u001b[4;94mhttps://www.bbc.co\u001b[0m…  │ Paris \u001b[1;36m2024\u001b[0m Olympic opening ceremony kicks off Games in uniqu…  │\n",
       "│     \u001b[1;36m6\u001b[0m │ The last two boats…  │ \u001b[4;94mhttps://www.bbc.co\u001b[0m…  │ Paris \u001b[1;36m2024\u001b[0m Olympic opening ceremony kicks off Games in uniqu…  │\n",
       "│     \u001b[1;36m7\u001b[0m │ Rower Helen Glover…  │ \u001b[4;94mhttps://www.bbc.co\u001b[0m…  │ Paris \u001b[1;36m2024\u001b[0m Olympic opening ceremony kicks off Games in uniqu…  │\n",
       "│     \u001b[1;36m8\u001b[0m │ In opening the 33r…  │ \u001b[4;94mhttps://www.bbc.co\u001b[0m…  │ Paris \u001b[1;36m2024\u001b[0m Olympic opening ceremony kicks off Games in uniqu…  │\n",
       "│     \u001b[1;36m9\u001b[0m │ More than \u001b[1;36m10\u001b[0m,\u001b[1;36m500\u001b[0m a…  │ \u001b[4;94mhttps://www.bbc.co\u001b[0m…  │ Paris \u001b[1;36m2024\u001b[0m Olympic opening ceremony kicks off Games in uniqu…  │\n",
       "├───────┴──────────────────────┴──────────────────────┴────────────────────────────────────────────────────────────────┤\n",
       "│ \u001b[1;36m10\u001b[0m rows                                                                                                    \u001b[1;36m4\u001b[0m columns │\n",
       "└──────────────────────────────────────────────────────────────────────────────────────────────────────────────────────┘"
      ]
     },
     "execution_count": 4,
     "metadata": {},
     "output_type": "execute_result"
    }
   ],
   "source": [
    "con.sql(\"SELECT * FROM olympics LIMIT 10\")"
   ]
  },
  {
   "cell_type": "markdown",
   "id": "1de740d3",
   "metadata": {},
   "source": [
    "## Create Embeddings"
   ]
  },
  {
   "cell_type": "code",
   "execution_count": 5,
   "id": "e10a272b",
   "metadata": {
    "execution": {
     "iopub.execute_input": "2024-08-09T06:35:27.508311Z",
     "iopub.status.busy": "2024-08-09T06:35:27.508170Z",
     "iopub.status.idle": "2024-08-09T06:35:27.515083Z",
     "shell.execute_reply": "2024-08-09T06:35:27.514016Z",
     "shell.execute_reply.started": "2024-08-09T06:35:27.508298Z"
    }
   },
   "outputs": [],
   "source": [
    "con.sql(\"\"\"\n",
    "ALTER TABLE olympics \n",
    "ADD COLUMN embeddings_1024 FLOAT[1024];\n",
    "\"\"\")"
   ]
  },
  {
   "cell_type": "code",
   "execution_count": 6,
   "id": "05cc0c24",
   "metadata": {
    "execution": {
     "iopub.execute_input": "2024-08-09T06:35:27.516381Z",
     "iopub.status.busy": "2024-08-09T06:35:27.515843Z",
     "iopub.status.idle": "2024-08-09T06:35:27.709500Z",
     "shell.execute_reply": "2024-08-09T06:35:27.687864Z",
     "shell.execute_reply.started": "2024-08-09T06:35:27.516363Z"
    }
   },
   "outputs": [],
   "source": [
    "import llama_cpp"
   ]
  },
  {
   "cell_type": "code",
   "execution_count": 7,
   "id": "8f305979",
   "metadata": {
    "execution": {
     "iopub.execute_input": "2024-08-09T06:35:27.731178Z",
     "iopub.status.busy": "2024-08-09T06:35:27.729332Z",
     "iopub.status.idle": "2024-08-09T06:35:27.799102Z",
     "shell.execute_reply": "2024-08-09T06:35:27.797695Z",
     "shell.execute_reply.started": "2024-08-09T06:35:27.731153Z"
    }
   },
   "outputs": [],
   "source": [
    "llm = llama_cpp.Llama(\n",
    "  model_path=\"./models/mxbai-embed-large-v1-f16.gguf\", \n",
    "  embedding=True, \n",
    "  verbose=False\n",
    ")"
   ]
  },
  {
   "cell_type": "code",
   "execution_count": 8,
   "id": "dd798f6b",
   "metadata": {
    "execution": {
     "iopub.execute_input": "2024-08-09T06:35:27.803472Z",
     "iopub.status.busy": "2024-08-09T06:35:27.801792Z",
     "iopub.status.idle": "2024-08-09T06:35:27.808578Z",
     "shell.execute_reply": "2024-08-09T06:35:27.808000Z",
     "shell.execute_reply.started": "2024-08-09T06:35:27.803434Z"
    }
   },
   "outputs": [],
   "source": [
    "rows = con.sql(\"SELECT index, text FROM olympics\").fetchall()"
   ]
  },
  {
   "cell_type": "code",
   "execution_count": 9,
   "id": "dd5c1b7a",
   "metadata": {
    "execution": {
     "iopub.execute_input": "2024-08-09T06:35:27.811107Z",
     "iopub.status.busy": "2024-08-09T06:35:27.810294Z",
     "iopub.status.idle": "2024-08-09T06:35:30.673956Z",
     "shell.execute_reply": "2024-08-09T06:35:30.673599Z",
     "shell.execute_reply.started": "2024-08-09T06:35:27.811042Z"
    }
   },
   "outputs": [],
   "source": [
    "embeddings = llm.create_embedding([text for index, text in rows])['data']"
   ]
  },
  {
   "cell_type": "code",
   "execution_count": 10,
   "id": "bdf1d2a1",
   "metadata": {
    "execution": {
     "iopub.execute_input": "2024-08-09T06:35:30.674555Z",
     "iopub.status.busy": "2024-08-09T06:35:30.674413Z",
     "iopub.status.idle": "2024-08-09T06:35:31.227748Z",
     "shell.execute_reply": "2024-08-09T06:35:31.227313Z",
     "shell.execute_reply.started": "2024-08-09T06:35:30.674543Z"
    }
   },
   "outputs": [],
   "source": [
    "for (index, text), embedding in zip(rows, embeddings):\n",
    "  con.execute(\n",
    "    \"UPDATE olympics SET embeddings_1024 = ? WHERE index = ?\", \n",
    "    [embedding['embedding'], index]\n",
    "  )"
   ]
  },
  {
   "cell_type": "code",
   "execution_count": 11,
   "id": "b34bc381",
   "metadata": {
    "execution": {
     "iopub.execute_input": "2024-08-09T06:35:31.228477Z",
     "iopub.status.busy": "2024-08-09T06:35:31.228284Z",
     "iopub.status.idle": "2024-08-09T06:35:31.248520Z",
     "shell.execute_reply": "2024-08-09T06:35:31.248172Z",
     "shell.execute_reply.started": "2024-08-09T06:35:31.228464Z"
    }
   },
   "outputs": [
    {
     "data": {
      "text/html": [
       "<pre style=\"white-space:pre;overflow-x:auto;line-height:normal;font-family:Menlo,'DejaVu Sans Mono',consolas,'Courier New',monospace\"></pre>\n"
      ],
      "text/plain": []
     },
     "metadata": {},
     "output_type": "display_data"
    },
    {
     "data": {
      "text/plain": [
       "\n",
       "┌───────┬──────────────────────┬──────────────────────┬──────────────────────┬─────────────────────────────────────────┐\n",
       "│ index │         text         │         url          │        title         │             embeddings_1024             │\n",
       "│ int64 │       varchar        │       varchar        │       varchar        │               float\u001b[1m[\u001b[0m\u001b[1;36m1024\u001b[0m\u001b[1m]\u001b[0m               │\n",
       "├───────┼──────────────────────┼──────────────────────┼──────────────────────┼─────────────────────────────────────────┤\n",
       "│     \u001b[1;36m0\u001b[0m │ The \u001b[1;36m2024\u001b[0m Olympics …  │ \u001b[4;94mhttps://www.bbc.co\u001b[0m…  │ Paris \u001b[1;36m2024\u001b[0m Olympic…  │ \u001b[1m[\u001b[0m\u001b[1;36m-0.65678865\u001b[0m, \u001b[1;36m0.375833\u001b[0m, \u001b[1;36m-0.2038792\u001b[0m, \u001b[1;36m0\u001b[0m…  │\n",
       "│     \u001b[1;36m1\u001b[0m │ Swapping a stadium…  │ \u001b[4;94mhttps://www.bbc.co\u001b[0m…  │ Paris \u001b[1;36m2024\u001b[0m Olympic…  │ \u001b[1m[\u001b[0m\u001b[1;36m-0.3371891\u001b[0m, \u001b[1;36m0.25818387\u001b[0m, \u001b[1;36m0.2695669\u001b[0m, \u001b[1;36m0\u001b[0m…  │\n",
       "│     \u001b[1;36m2\u001b[0m │ Blue, white and re…  │ \u001b[4;94mhttps://www.bbc.co\u001b[0m…  │ Paris \u001b[1;36m2024\u001b[0m Olympic…  │ \u001b[1m[\u001b[0m\u001b[1;36m-0.83171785\u001b[0m, \u001b[1;36m0.1003966\u001b[0m, \u001b[1;36m-0.060408145\u001b[0m…  │\n",
       "│     \u001b[1;36m3\u001b[0m │ There were surpris…  │ \u001b[4;94mhttps://www.bbc.co\u001b[0m…  │ Paris \u001b[1;36m2024\u001b[0m Olympic…  │ \u001b[1m[\u001b[0m\u001b[1;36m-0.5007831\u001b[0m, \u001b[1;36m-0.34818622\u001b[0m, \u001b[1;36m-0.252199\u001b[0m, …  │\n",
       "│     \u001b[1;36m4\u001b[0m │ The day had starte…  │ \u001b[4;94mhttps://www.bbc.co\u001b[0m…  │ Paris \u001b[1;36m2024\u001b[0m Olympic…  │ \u001b[1m[\u001b[0m\u001b[1;36m-0.7839575\u001b[0m, \u001b[1;36m0.3689994\u001b[0m, \u001b[1;36m0.14207014\u001b[0m, -…  │\n",
       "│     \u001b[1;36m5\u001b[0m │ The lashing rain m…  │ \u001b[4;94mhttps://www.bbc.co\u001b[0m…  │ Paris \u001b[1;36m2024\u001b[0m Olympic…  │ \u001b[1m[\u001b[0m\u001b[1;36m-0.66538346\u001b[0m, \u001b[1;36m0.52875763\u001b[0m, \u001b[1;36m0.28001732\u001b[0m,…  │\n",
       "│     \u001b[1;36m6\u001b[0m │ The last two boats…  │ \u001b[4;94mhttps://www.bbc.co\u001b[0m…  │ Paris \u001b[1;36m2024\u001b[0m Olympic…  │ \u001b[1m[\u001b[0m\u001b[1;36m0.17822085\u001b[0m, \u001b[1;36m0.20966539\u001b[0m, \u001b[1;36m-0.1453345\u001b[0m, …  │\n",
       "│     \u001b[1;36m7\u001b[0m │ Rower Helen Glover…  │ \u001b[4;94mhttps://www.bbc.co\u001b[0m…  │ Paris \u001b[1;36m2024\u001b[0m Olympic…  │ \u001b[1m[\u001b[0m\u001b[1;36m0.2866247\u001b[0m, \u001b[1;36m0.12310446\u001b[0m, \u001b[1;36m0.30808836\u001b[0m, -…  │\n",
       "│     \u001b[1;36m8\u001b[0m │ In opening the 33r…  │ \u001b[4;94mhttps://www.bbc.co\u001b[0m…  │ Paris \u001b[1;36m2024\u001b[0m Olympic…  │ \u001b[1m[\u001b[0m\u001b[1;36m-0.49977207\u001b[0m, \u001b[1;36m-0.22307938\u001b[0m, \u001b[1;36m0.26677692\u001b[0m…  │\n",
       "│     \u001b[1;36m9\u001b[0m │ More than \u001b[1;36m10\u001b[0m,\u001b[1;36m500\u001b[0m a…  │ \u001b[4;94mhttps://www.bbc.co\u001b[0m…  │ Paris \u001b[1;36m2024\u001b[0m Olympic…  │ \u001b[1m[\u001b[0m\u001b[1;36m-0.2956072\u001b[0m, \u001b[1;36m-0.014742069\u001b[0m, \u001b[1;36m-0.1694545\u001b[0m…  │\n",
       "├───────┴──────────────────────┴──────────────────────┴──────────────────────┴─────────────────────────────────────────┤\n",
       "│ \u001b[1;36m10\u001b[0m rows                                                                                                    \u001b[1;36m5\u001b[0m columns │\n",
       "└──────────────────────────────────────────────────────────────────────────────────────────────────────────────────────┘"
      ]
     },
     "execution_count": 11,
     "metadata": {},
     "output_type": "execute_result"
    }
   ],
   "source": [
    "con.sql(\"SELECT * FROM olympics LIMIT 10\"\"\")"
   ]
  },
  {
   "cell_type": "code",
   "execution_count": 12,
   "id": "0b270237",
   "metadata": {
    "execution": {
     "iopub.execute_input": "2024-08-09T06:35:31.249159Z",
     "iopub.status.busy": "2024-08-09T06:35:31.249031Z",
     "iopub.status.idle": "2024-08-09T06:35:31.251625Z",
     "shell.execute_reply": "2024-08-09T06:35:31.251172Z",
     "shell.execute_reply.started": "2024-08-09T06:35:31.249148Z"
    }
   },
   "outputs": [],
   "source": [
    "import numpy as np"
   ]
  },
  {
   "cell_type": "markdown",
   "id": "3697be3f",
   "metadata": {},
   "source": [
    "## Create truncated embeddings"
   ]
  },
  {
   "cell_type": "code",
   "execution_count": 13,
   "id": "c53cc756",
   "metadata": {
    "execution": {
     "iopub.execute_input": "2024-08-09T06:35:31.252329Z",
     "iopub.status.busy": "2024-08-09T06:35:31.252201Z",
     "iopub.status.idle": "2024-08-09T06:35:31.254566Z",
     "shell.execute_reply": "2024-08-09T06:35:31.254037Z",
     "shell.execute_reply.started": "2024-08-09T06:35:31.252316Z"
    }
   },
   "outputs": [],
   "source": [
    "def normalize(vec: list[float]) -> list[float]:\n",
    "    return (vec / np.linalg.norm(vec)).tolist()"
   ]
  },
  {
   "cell_type": "code",
   "execution_count": 14,
   "id": "5f56cf37",
   "metadata": {
    "execution": {
     "iopub.execute_input": "2024-08-09T06:35:31.259425Z",
     "iopub.status.busy": "2024-08-09T06:35:31.259191Z",
     "iopub.status.idle": "2024-08-09T06:35:31.263770Z",
     "shell.execute_reply": "2024-08-09T06:35:31.263326Z",
     "shell.execute_reply.started": "2024-08-09T06:35:31.259397Z"
    }
   },
   "outputs": [
    {
     "data": {
      "text/html": [
       "<pre style=\"white-space:pre;overflow-x:auto;line-height:normal;font-family:Menlo,'DejaVu Sans Mono',consolas,'Courier New',monospace\"></pre>\n"
      ],
      "text/plain": []
     },
     "metadata": {},
     "output_type": "display_data"
    },
    {
     "data": {
      "text/plain": [
       "\u001b[1m<\u001b[0m\u001b[1;95mduckdb.duckdb.DuckDBPyConnection\u001b[0m\u001b[39m object at \u001b[0m\u001b[1;36m0x1058ae2b0\u001b[0m\u001b[1m>\u001b[0m"
      ]
     },
     "execution_count": 14,
     "metadata": {},
     "output_type": "execute_result"
    }
   ],
   "source": [
    "con.create_function(name=\"normalize\", function=normalize)"
   ]
  },
  {
   "cell_type": "code",
   "execution_count": 15,
   "id": "a3064611",
   "metadata": {
    "execution": {
     "iopub.execute_input": "2024-08-09T06:35:31.264505Z",
     "iopub.status.busy": "2024-08-09T06:35:31.264397Z",
     "iopub.status.idle": "2024-08-09T06:35:31.295897Z",
     "shell.execute_reply": "2024-08-09T06:35:31.295479Z",
     "shell.execute_reply.started": "2024-08-09T06:35:31.264494Z"
    }
   },
   "outputs": [
    {
     "data": {
      "text/html": [
       "<pre style=\"white-space:pre;overflow-x:auto;line-height:normal;font-family:Menlo,'DejaVu Sans Mono',consolas,'Courier New',monospace\"></pre>\n"
      ],
      "text/plain": []
     },
     "metadata": {},
     "output_type": "display_data"
    },
    {
     "data": {
      "text/plain": [
       "\n",
       "┌───────┬──────────────────────┬──────────────────────┬────────────────────────────────────────────────────────────────┐\n",
       "│ index │         text         │   embeddings_1024    │                         embeddings_512                         │\n",
       "│ int64 │       varchar        │     float\u001b[1m[\u001b[0m\u001b[1;36m1024\u001b[0m\u001b[1m]\u001b[0m      │                           float\u001b[1m[\u001b[0m\u001b[1;36m512\u001b[0m\u001b[1m]\u001b[0m                           │\n",
       "├───────┼──────────────────────┼──────────────────────┼────────────────────────────────────────────────────────────────┤\n",
       "│     \u001b[1;36m0\u001b[0m │ The \u001b[1;36m2024\u001b[0m Olympics …  │ \u001b[1m[\u001b[0m\u001b[1;36m-0.65678865\u001b[0m, \u001b[1;36m0.37\u001b[0m…  │ \u001b[1m[\u001b[0m\u001b[1;36m-0.05296788\u001b[0m, \u001b[1;36m0.030309716\u001b[0m, \u001b[1;36m-0.016442198\u001b[0m, \u001b[1;36m0.010034871\u001b[0m, \u001b[1;36m-0.023\u001b[0m…  │\n",
       "│     \u001b[1;36m1\u001b[0m │ Swapping a stadium…  │ \u001b[1m[\u001b[0m\u001b[1;36m-0.3371891\u001b[0m, \u001b[1;36m0.258\u001b[0m…  │ \u001b[1m[\u001b[0m\u001b[1;36m-0.030085044\u001b[0m, \u001b[1;36m0.023035955\u001b[0m, \u001b[1;36m0.024051582\u001b[0m, \u001b[1;36m0.048912287\u001b[0m, \u001b[1;36m-0.044\u001b[0m…  │\n",
       "│     \u001b[1;36m2\u001b[0m │ Blue, white and re…  │ \u001b[1m[\u001b[0m\u001b[1;36m-0.83171785\u001b[0m, \u001b[1;36m0.10\u001b[0m…  │ \u001b[1m[\u001b[0m\u001b[1;36m-0.07096644\u001b[0m, \u001b[1;36m0.008566354\u001b[0m, \u001b[1;36m-0.0051543335\u001b[0m, \u001b[1;36m0.056356296\u001b[0m, \u001b[1;36m-0.01\u001b[0m…  │\n",
       "│     \u001b[1;36m3\u001b[0m │ There were surpris…  │ \u001b[1m[\u001b[0m\u001b[1;36m-0.5007831\u001b[0m, \u001b[1;36m-0.34\u001b[0m…  │ \u001b[1m[\u001b[0m\u001b[1;36m-0.039365005\u001b[0m, \u001b[1;36m-0.02736984\u001b[0m, \u001b[1;36m-0.019824581\u001b[0m, \u001b[1;36m0.03224219\u001b[0m, \u001b[1;36m-0.057\u001b[0m…  │\n",
       "│     \u001b[1;36m4\u001b[0m │ The day had starte…  │ \u001b[1m[\u001b[0m\u001b[1;36m-0.7839575\u001b[0m, \u001b[1;36m0.368\u001b[0m…  │ \u001b[1m[\u001b[0m\u001b[1;36m-0.068026334\u001b[0m, \u001b[1;36m0.03201918\u001b[0m, \u001b[1;36m0.012327851\u001b[0m, \u001b[1;36m-0.060917247\u001b[0m, \u001b[1;36m-0.054\u001b[0m…  │\n",
       "└───────┴──────────────────────┴──────────────────────┴────────────────────────────────────────────────────────────────┘"
      ]
     },
     "execution_count": 15,
     "metadata": {},
     "output_type": "execute_result"
    }
   ],
   "source": [
    "con.sql(\"\"\"\n",
    "SELECT index, text, \n",
    "       embeddings_1024, \n",
    "       normalize(embeddings_1024[:512])::float[512] AS embeddings_512\n",
    "FROM olympics \n",
    "LIMIT 5\n",
    "\"\"\")"
   ]
  },
  {
   "cell_type": "code",
   "execution_count": 16,
   "id": "8e921cbd",
   "metadata": {
    "execution": {
     "iopub.execute_input": "2024-08-09T06:35:31.296666Z",
     "iopub.status.busy": "2024-08-09T06:35:31.296553Z",
     "iopub.status.idle": "2024-08-09T06:35:31.401526Z",
     "shell.execute_reply": "2024-08-09T06:35:31.401172Z",
     "shell.execute_reply.started": "2024-08-09T06:35:31.296655Z"
    }
   },
   "outputs": [],
   "source": [
    "dimensions = [16, 32, 64, 128, 256, 512]\n",
    "for dimension in dimensions:\n",
    "  con.sql(f\"\"\"\n",
    "  ALTER TABLE olympics \n",
    "  ADD COLUMN embeddings_{dimension} FLOAT[{dimension}];\n",
    "  \"\"\")\n",
    "\n",
    "  con.sql(f\"\"\"\n",
    "  UPDATE olympics \n",
    "  SET embeddings_{dimension} = normalize(embeddings_1024[:{dimension}])\n",
    "  \"\"\")"
   ]
  },
  {
   "cell_type": "code",
   "execution_count": 17,
   "id": "6a2d8808",
   "metadata": {
    "execution": {
     "iopub.execute_input": "2024-08-09T06:35:31.402333Z",
     "iopub.status.busy": "2024-08-09T06:35:31.402115Z",
     "iopub.status.idle": "2024-08-09T06:35:31.406154Z",
     "shell.execute_reply": "2024-08-09T06:35:31.405453Z",
     "shell.execute_reply.started": "2024-08-09T06:35:31.402319Z"
    }
   },
   "outputs": [],
   "source": [
    "def vector_search(query, dimension=1024):\n",
    "  raw_embedding = llm.create_embedding([query])\n",
    "  search_vector = raw_embedding['data'][0]['embedding']\n",
    "\n",
    "  if dimension < len(search_vector):\n",
    "    search_vector = normalize(search_vector[:dimension])\n",
    "\n",
    "  return con.sql(f\"\"\"\n",
    "  SELECT index, text,\n",
    "          array_cosine_similarity(\n",
    "            \"embeddings_{dimension}\", $searchVector::FLOAT[{dimension}]\n",
    "          ) AS score\n",
    "  FROM olympics\n",
    "  ORDER BY score DESC\n",
    "  LIMIT 3\n",
    "  \"\"\", params={\"searchVector\": search_vector})"
   ]
  },
  {
   "cell_type": "markdown",
   "id": "0f068280",
   "metadata": {},
   "source": [
    "## Query embeddings"
   ]
  },
  {
   "cell_type": "code",
   "execution_count": 18,
   "id": "35f0f6f0",
   "metadata": {
    "execution": {
     "iopub.execute_input": "2024-08-09T06:35:31.406911Z",
     "iopub.status.busy": "2024-08-09T06:35:31.406791Z",
     "iopub.status.idle": "2024-08-09T06:35:31.529671Z",
     "shell.execute_reply": "2024-08-09T06:35:31.529101Z",
     "shell.execute_reply.started": "2024-08-09T06:35:31.406899Z"
    }
   },
   "outputs": [
    {
     "data": {
      "text/html": [
       "<pre style=\"white-space:pre;overflow-x:auto;line-height:normal;font-family:Menlo,'DejaVu Sans Mono',consolas,'Courier New',monospace\"></pre>\n"
      ],
      "text/plain": []
     },
     "metadata": {},
     "output_type": "display_data"
    },
    {
     "data": {
      "text/plain": [
       "\n",
       "┌───────┬──────────────────────────────────────────────────────────────────────────────────────────────────┬───────────┐\n",
       "│ index │                                               text                                               │   score   │\n",
       "│ int64 │                                             varchar                                              │   float   │\n",
       "├───────┼──────────────────────────────────────────────────────────────────────────────────────────────────┼───────────┤\n",
       "│     \u001b[1;36m0\u001b[0m │ The \u001b[1;36m2024\u001b[0m Olympics opened in Paris in spectacular style with thousands of athletes sailing alon…  │ \u001b[1;36m0.6873059\u001b[0m │\n",
       "│    \u001b[1;36m29\u001b[0m │ The peace anthem, part of all Olympic opening ceremonies, is aligned with the message of unity…  │ \u001b[1;36m0.6783502\u001b[0m │\n",
       "│    \u001b[1;36m10\u001b[0m │ When organisers first revealed plans to hold the opening ceremony along the river in the heart…  │ \u001b[1;36m0.6705272\u001b[0m │\n",
       "└───────┴──────────────────────────────────────────────────────────────────────────────────────────────────┴───────────┘"
      ]
     },
     "execution_count": 18,
     "metadata": {},
     "output_type": "execute_result"
    }
   ],
   "source": [
    "query = 'Where did the opening ceremony take place?'\n",
    "vector_search(query)"
   ]
  },
  {
   "cell_type": "code",
   "execution_count": 19,
   "id": "926c21ab",
   "metadata": {
    "execution": {
     "iopub.execute_input": "2024-08-09T06:35:31.530952Z",
     "iopub.status.busy": "2024-08-09T06:35:31.530641Z",
     "iopub.status.idle": "2024-08-09T06:35:31.533439Z",
     "shell.execute_reply": "2024-08-09T06:35:31.532808Z",
     "shell.execute_reply.started": "2024-08-09T06:35:31.530928Z"
    }
   },
   "outputs": [],
   "source": [
    "from rich.console import Console\n",
    "c = Console()"
   ]
  },
  {
   "cell_type": "code",
   "execution_count": 20,
   "id": "b3503702",
   "metadata": {
    "execution": {
     "iopub.execute_input": "2024-08-09T06:35:31.534445Z",
     "iopub.status.busy": "2024-08-09T06:35:31.534236Z",
     "iopub.status.idle": "2024-08-09T06:35:32.279906Z",
     "shell.execute_reply": "2024-08-09T06:35:32.279581Z",
     "shell.execute_reply.started": "2024-08-09T06:35:31.534428Z"
    }
   },
   "outputs": [
    {
     "name": "stdout",
     "output_type": "stream",
     "text": [
      "\u001b[1;36m1024\u001b[0m\n",
      "┌───────┬──────────────────────────────────────────────────────────────────────────────────────────────────┬───────\n",
      "────┐\n",
      "│ index │                                               text                                               │   \n",
      "score   │\n",
      "│ int64 │                                             varchar                                              │   \n",
      "float   │\n",
      "├───────┼──────────────────────────────────────────────────────────────────────────────────────────────────┼───────\n",
      "────┤\n",
      "│     \u001b[1;36m0\u001b[0m │ The \u001b[1;36m2024\u001b[0m Olympics opened in Paris in spectacular style with thousands of athletes sailing alon…  │ \n",
      "\u001b[1;36m0.6873059\u001b[0m │\n",
      "│    \u001b[1;36m29\u001b[0m │ The peace anthem, part of all Olympic opening ceremonies, is aligned with the message of unity…  │ \n",
      "\u001b[1;36m0.6783502\u001b[0m │\n",
      "│    \u001b[1;36m10\u001b[0m │ When organisers first revealed plans to hold the opening ceremony along the river in the heart…  │ \n",
      "\u001b[1;36m0.6705272\u001b[0m │\n",
      "└───────┴──────────────────────────────────────────────────────────────────────────────────────────────────┴───────\n",
      "────┘\n",
      "\n",
      "\u001b[1;36m512\u001b[0m\n",
      "┌───────┬─────────────────────────────────────────────────────────────────────────────────────────────────┬────────\n",
      "────┐\n",
      "│ index │                                              text                                               │   score\n",
      "│\n",
      "│ int64 │                                             varchar                                             │   float\n",
      "│\n",
      "├───────┼─────────────────────────────────────────────────────────────────────────────────────────────────┼────────\n",
      "────┤\n",
      "│     \u001b[1;36m0\u001b[0m │ The \u001b[1;36m2024\u001b[0m Olympics opened in Paris in spectacular style with thousands of athletes sailing alo…  │ \n",
      "\u001b[1;36m0.67208034\u001b[0m │\n",
      "│    \u001b[1;36m10\u001b[0m │ When organisers first revealed plans to hold the opening ceremony along the river in the hear…  │  \n",
      "\u001b[1;36m0.6615691\u001b[0m │\n",
      "│    \u001b[1;36m29\u001b[0m │ The peace anthem, part of all Olympic opening ceremonies, is aligned with the message of unit…  │ \n",
      "\u001b[1;36m0.65946716\u001b[0m │\n",
      "└───────┴─────────────────────────────────────────────────────────────────────────────────────────────────┴────────\n",
      "────┘\n",
      "\n",
      "\u001b[1;36m256\u001b[0m\n",
      "┌───────┬──────────────────────────────────────────────────────────────────────────────────────────────────┬───────\n",
      "────┐\n",
      "│ index │                                               text                                               │   \n",
      "score   │\n",
      "│ int64 │                                             varchar                                              │   \n",
      "float   │\n",
      "├───────┼──────────────────────────────────────────────────────────────────────────────────────────────────┼───────\n",
      "────┤\n",
      "│     \u001b[1;36m0\u001b[0m │ The \u001b[1;36m2024\u001b[0m Olympics opened in Paris in spectacular style with thousands of athletes sailing alon…  │ \n",
      "\u001b[1;36m0.6897556\u001b[0m │\n",
      "│    \u001b[1;36m29\u001b[0m │ The peace anthem, part of all Olympic opening ceremonies, is aligned with the message of unity…  │ \n",
      "\u001b[1;36m0.6893634\u001b[0m │\n",
      "│     \u001b[1;36m8\u001b[0m │ In opening the 33rd summer Olympics, which are taking part against a difficult international a…  │ \n",
      "\u001b[1;36m0.6713518\u001b[0m │\n",
      "└───────┴──────────────────────────────────────────────────────────────────────────────────────────────────┴───────\n",
      "────┘\n",
      "\n",
      "\u001b[1;36m128\u001b[0m\n",
      "┌───────┬─────────────────────────────────────────────────────────────────────────────────────────────────┬────────\n",
      "────┐\n",
      "│ index │                                              text                                               │   score\n",
      "│\n",
      "│ int64 │                                             varchar                                             │   float\n",
      "│\n",
      "├───────┼─────────────────────────────────────────────────────────────────────────────────────────────────┼────────\n",
      "────┤\n",
      "│    \u001b[1;36m29\u001b[0m │ The peace anthem, part of all Olympic opening ceremonies, is aligned with the message of unit…  │ \n",
      "\u001b[1;36m0.71029234\u001b[0m │\n",
      "│     \u001b[1;36m8\u001b[0m │ In opening the 33rd summer Olympics, which are taking part against a difficult international …  │ \n",
      "\u001b[1;36m0.69472164\u001b[0m │\n",
      "│     \u001b[1;36m0\u001b[0m │ The \u001b[1;36m2024\u001b[0m Olympics opened in Paris in spectacular style with thousands of athletes sailing alo…  │  \n",
      "\u001b[1;36m0.6653537\u001b[0m │\n",
      "└───────┴─────────────────────────────────────────────────────────────────────────────────────────────────┴────────\n",
      "────┘\n",
      "\n",
      "\u001b[1;36m64\u001b[0m\n",
      "┌───────┬─────────────────────────────────────────────────────────────────────────────────────────────────┬────────\n",
      "────┐\n",
      "│ index │                                              text                                               │   score\n",
      "│\n",
      "│ int64 │                                             varchar                                             │   float\n",
      "│\n",
      "├───────┼─────────────────────────────────────────────────────────────────────────────────────────────────┼────────\n",
      "────┤\n",
      "│    \u001b[1;36m10\u001b[0m │ When organisers first revealed plans to hold the opening ceremony along the river in the hear…  │  \n",
      "\u001b[1;36m0.7275378\u001b[0m │\n",
      "│     \u001b[1;36m1\u001b[0m │ Swapping a stadium for a waterway for the first time to open the \u001b[32m\"greatest show on Earth\"\u001b[0m, th…  │  \n",
      "\u001b[1;36m0.7124138\u001b[0m │\n",
      "│     \u001b[1;36m0\u001b[0m │ The \u001b[1;36m2024\u001b[0m Olympics opened in Paris in spectacular style with thousands of athletes sailing alo…  │ \n",
      "\u001b[1;36m0.70676225\u001b[0m │\n",
      "└───────┴─────────────────────────────────────────────────────────────────────────────────────────────────┴────────\n",
      "────┘\n",
      "\n",
      "\u001b[1;36m32\u001b[0m\n",
      "┌───────┬─────────────────────────────────────────────────────────────────────────────────────────────────┬────────\n",
      "────┐\n",
      "│ index │                                              text                                               │   score\n",
      "│\n",
      "│ int64 │                                             varchar                                             │   float\n",
      "│\n",
      "├───────┼─────────────────────────────────────────────────────────────────────────────────────────────────┼────────\n",
      "────┤\n",
      "│    \u001b[1;36m29\u001b[0m │ The peace anthem, part of all Olympic opening ceremonies, is aligned with the message of unit…  │ \n",
      "\u001b[1;36m0.74140775\u001b[0m │\n",
      "│    \u001b[1;36m37\u001b[0m │ The eventing gets under way at Versailles \u001b[1m(\u001b[0mfrom \u001b[1;92m08:30\u001b[0m BST\u001b[1m)\u001b[0m with Great Britain defending their…  │ \n",
      "\u001b[1;36m0.73871326\u001b[0m │\n",
      "│    \u001b[1;36m25\u001b[0m │ But there was one more magical moment to come, with Dion thrilling the crowds at the Eiffel T…  │   \n",
      "\u001b[1;36m0.734094\u001b[0m │\n",
      "└───────┴─────────────────────────────────────────────────────────────────────────────────────────────────┴────────\n",
      "────┘\n",
      "\n",
      "\u001b[1;36m16\u001b[0m\n",
      "┌───────┬─────────────────────────────────────────────────────────────────────────────────────────────────┬────────\n",
      "────┐\n",
      "│ index │                                              text                                               │   score\n",
      "│\n",
      "│ int64 │                                             varchar                                             │   float\n",
      "│\n",
      "├───────┼─────────────────────────────────────────────────────────────────────────────────────────────────┼────────\n",
      "────┤\n",
      "│    \u001b[1;36m37\u001b[0m │ The eventing gets under way at Versailles \u001b[1m(\u001b[0mfrom \u001b[1;92m08:30\u001b[0m BST\u001b[1m)\u001b[0m with Great Britain defending their…  │ \n",
      "\u001b[1;36m0.77930886\u001b[0m │\n",
      "│     \u001b[1;36m4\u001b[0m │ The day had started with major disruption when the French train network was hit by arson atta…  │  \n",
      "\u001b[1;36m0.6659473\u001b[0m │\n",
      "│    \u001b[1;36m10\u001b[0m │ When organisers first revealed plans to hold the opening ceremony along the river in the hear…  │  \n",
      "\u001b[1;36m0.6352853\u001b[0m │\n",
      "└───────┴─────────────────────────────────────────────────────────────────────────────────────────────────┴────────\n",
      "────┘\n",
      "\n"
     ]
    },
    {
     "data": {
      "text/html": [
       "<pre style=\"white-space:pre;overflow-x:auto;line-height:normal;font-family:Menlo,'DejaVu Sans Mono',consolas,'Courier New',monospace\"></pre>\n"
      ],
      "text/plain": []
     },
     "metadata": {},
     "output_type": "display_data"
    }
   ],
   "source": [
    "with c.pager(styles=True):\n",
    "  dimensions = [16, 32, 64, 128, 256, 512, 1024]\n",
    "  for dimension in dimensions[::-1]:\n",
    "    c.print(dimension)\n",
    "    c.print(vector_search(query, dimension))"
   ]
  },
  {
   "cell_type": "code",
   "execution_count": 24,
   "id": "4b5c9ea1",
   "metadata": {
    "execution": {
     "iopub.execute_input": "2024-08-09T06:37:04.096257Z",
     "iopub.status.busy": "2024-08-09T06:37:04.095582Z",
     "iopub.status.idle": "2024-08-09T06:37:25.443351Z",
     "shell.execute_reply": "2024-08-09T06:37:25.438693Z",
     "shell.execute_reply.started": "2024-08-09T06:37:04.096215Z"
    }
   },
   "outputs": [],
   "source": [
    "from ranx import Qrels, Run, compare\n",
    "from functools import partial"
   ]
  },
  {
   "cell_type": "markdown",
   "id": "691af216",
   "metadata": {},
   "source": [
    "## Evalute embeddings"
   ]
  },
  {
   "cell_type": "code",
   "execution_count": 25,
   "id": "a331516d",
   "metadata": {
    "execution": {
     "iopub.execute_input": "2024-08-09T06:37:31.684335Z",
     "iopub.status.busy": "2024-08-09T06:37:31.683192Z",
     "iopub.status.idle": "2024-08-09T06:37:40.727380Z",
     "shell.execute_reply": "2024-08-09T06:37:40.727022Z",
     "shell.execute_reply.started": "2024-08-09T06:37:31.684273Z"
    }
   },
   "outputs": [],
   "source": [
    "qrels = Qrels.from_file(\"data/questions.json\")"
   ]
  },
  {
   "cell_type": "code",
   "execution_count": 26,
   "id": "b9ce7c9a",
   "metadata": {
    "execution": {
     "iopub.execute_input": "2024-08-09T06:37:42.134043Z",
     "iopub.status.busy": "2024-08-09T06:37:42.133402Z",
     "iopub.status.idle": "2024-08-09T06:37:42.144748Z",
     "shell.execute_reply": "2024-08-09T06:37:42.142625Z",
     "shell.execute_reply.started": "2024-08-09T06:37:42.133993Z"
    }
   },
   "outputs": [],
   "source": [
    "functions = [\n",
    "  (partial(vector_search, dimension=dimension), dimension)\n",
    "  for dimension in dimensions\n",
    "]"
   ]
  },
  {
   "cell_type": "code",
   "execution_count": 27,
   "id": "a10deff8",
   "metadata": {
    "execution": {
     "iopub.execute_input": "2024-08-09T06:37:43.238902Z",
     "iopub.status.busy": "2024-08-09T06:37:43.238460Z",
     "iopub.status.idle": "2024-08-09T06:37:43.245944Z",
     "shell.execute_reply": "2024-08-09T06:37:43.244529Z",
     "shell.execute_reply.started": "2024-08-09T06:37:43.238869Z"
    }
   },
   "outputs": [],
   "source": [
    "def create_run(qrels, retrieval_fn, name):\n",
    "  run_dict = {\n",
    "    question: {\n",
    "      str(index): score\n",
    "      for index, score in (retrieval_fn(question)\n",
    "                            .select(\"index, score\")\n",
    "                            .fetchall()\n",
    "                          )\n",
    "    }\n",
    "    for question in qrels.to_dict()\n",
    "  }\n",
    "  return Run(run_dict, name=name)"
   ]
  },
  {
   "cell_type": "code",
   "execution_count": 28,
   "id": "7ee54d78",
   "metadata": {
    "execution": {
     "iopub.execute_input": "2024-08-09T06:37:44.739117Z",
     "iopub.status.busy": "2024-08-09T06:37:44.738614Z",
     "iopub.status.idle": "2024-08-09T06:38:06.578157Z",
     "shell.execute_reply": "2024-08-09T06:38:06.577869Z",
     "shell.execute_reply.started": "2024-08-09T06:37:44.739084Z"
    }
   },
   "outputs": [
    {
     "name": "stdout",
     "output_type": "stream",
     "text": [
      "CPU times: user 2min 21s, sys: 3.56 s, total: 2min 25s\n",
      "Wall time: 21.8 s\n"
     ]
    }
   ],
   "source": [
    "%%time\n",
    "runs = [\n",
    "   create_run(qrels, fn, name)\n",
    "   for fn, name in functions\n",
    "]"
   ]
  },
  {
   "cell_type": "code",
   "execution_count": 29,
   "id": "c8b49857",
   "metadata": {
    "execution": {
     "iopub.execute_input": "2024-08-09T06:38:08.422830Z",
     "iopub.status.busy": "2024-08-09T06:38:08.422381Z",
     "iopub.status.idle": "2024-08-09T06:38:11.663149Z",
     "shell.execute_reply": "2024-08-09T06:38:11.662753Z",
     "shell.execute_reply.started": "2024-08-09T06:38:08.422798Z"
    }
   },
   "outputs": [
    {
     "name": "stderr",
     "output_type": "stream",
     "text": [
      "/Users/markhneedham/miniforge3/lib/python3.10/site-packages/ranx/metrics/hit_rate.py:38: NumbaTypeSafetyWarning: \u001b[1m\u001b[1m\u001b[1munsafe cast from uint64 to int64. Precision may be lost.\u001b[0m\u001b[0m\u001b[0m\n",
      "  scores[i] = _hit_rate(qrels[i], run[i], k, rel_lvl)\n"
     ]
    }
   ],
   "source": [
    "comparison = compare(\n",
    "    qrels,\n",
    "    runs=runs,\n",
    "    metrics=[\"hit_rate\"],\n",
    ")"
   ]
  },
  {
   "cell_type": "code",
   "execution_count": 30,
   "id": "1365ded4",
   "metadata": {
    "execution": {
     "iopub.execute_input": "2024-08-09T06:38:13.010774Z",
     "iopub.status.busy": "2024-08-09T06:38:13.010303Z",
     "iopub.status.idle": "2024-08-09T06:38:13.023619Z",
     "shell.execute_reply": "2024-08-09T06:38:13.022302Z",
     "shell.execute_reply.started": "2024-08-09T06:38:13.010741Z"
    }
   },
   "outputs": [
    {
     "data": {
      "text/html": [
       "<pre style=\"white-space:pre;overflow-x:auto;line-height:normal;font-family:Menlo,'DejaVu Sans Mono',consolas,'Courier New',monospace\"></pre>\n"
      ],
      "text/plain": []
     },
     "metadata": {},
     "output_type": "display_data"
    },
    {
     "data": {
      "text/plain": [
       "\n",
       "#      Model  Hit Rate\n",
       "---  -------  ----------\n",
       "a         \u001b[1;36m16\u001b[0m  \u001b[1;36m0.550\u001b[0m\n",
       "b         \u001b[1;36m32\u001b[0m  \u001b[1;36m0.350\u001b[0m\n",
       "c         \u001b[1;36m64\u001b[0m  \u001b[1;36m0.\u001b[0m700ᵇ\n",
       "d        \u001b[1;36m128\u001b[0m  \u001b[1;36m0.\u001b[0m850ᵇ\n",
       "e        \u001b[1;36m256\u001b[0m  \u001b[1;36m0.\u001b[0m800ᵇ\n",
       "f        \u001b[1;36m512\u001b[0m  \u001b[1;36m0.\u001b[0m950ᵃᵇ\n",
       "g       \u001b[1;36m1024\u001b[0m  \u001b[1;36m0.\u001b[0m750ᵇ"
      ]
     },
     "execution_count": 30,
     "metadata": {},
     "output_type": "execute_result"
    }
   ],
   "source": [
    "comparison"
   ]
  },
  {
   "cell_type": "code",
   "execution_count": 31,
   "id": "ac62e28d",
   "metadata": {
    "execution": {
     "iopub.execute_input": "2024-08-09T06:38:14.733209Z",
     "iopub.status.busy": "2024-08-09T06:38:14.732731Z",
     "iopub.status.idle": "2024-08-09T06:38:14.768201Z",
     "shell.execute_reply": "2024-08-09T06:38:14.767652Z",
     "shell.execute_reply.started": "2024-08-09T06:38:14.733156Z"
    }
   },
   "outputs": [
    {
     "name": "stdout",
     "output_type": "stream",
     "text": [
      "\u001b[1m{\u001b[0m\n",
      "    \u001b[1m(\u001b[0m\u001b[1;36m16\u001b[0m, \u001b[1;36m32\u001b[0m\u001b[1m)\u001b[0m: \u001b[1m{\u001b[0m\u001b[32m'hit_rate'\u001b[0m: \u001b[1m{\u001b[0m\u001b[32m'W'\u001b[0m: \u001b[1;36m5\u001b[0m, \u001b[32m'T'\u001b[0m: \u001b[1;36m14\u001b[0m, \u001b[32m'L'\u001b[0m: \u001b[1;36m1\u001b[0m\u001b[1m}\u001b[0m\u001b[1m}\u001b[0m,\n",
      "    \u001b[1m(\u001b[0m\u001b[1;36m16\u001b[0m, \u001b[1;36m64\u001b[0m\u001b[1m)\u001b[0m: \u001b[1m{\u001b[0m\u001b[32m'hit_rate'\u001b[0m: \u001b[1m{\u001b[0m\u001b[32m'W'\u001b[0m: \u001b[1;36m3\u001b[0m, \u001b[32m'T'\u001b[0m: \u001b[1;36m11\u001b[0m, \u001b[32m'L'\u001b[0m: \u001b[1;36m6\u001b[0m\u001b[1m}\u001b[0m\u001b[1m}\u001b[0m,\n",
      "    \u001b[1m(\u001b[0m\u001b[1;36m16\u001b[0m, \u001b[1;36m128\u001b[0m\u001b[1m)\u001b[0m: \u001b[1m{\u001b[0m\u001b[32m'hit_rate'\u001b[0m: \u001b[1m{\u001b[0m\u001b[32m'W'\u001b[0m: \u001b[1;36m2\u001b[0m, \u001b[32m'T'\u001b[0m: \u001b[1;36m10\u001b[0m, \u001b[32m'L'\u001b[0m: \u001b[1;36m8\u001b[0m\u001b[1m}\u001b[0m\u001b[1m}\u001b[0m,\n",
      "    \u001b[1m(\u001b[0m\u001b[1;36m16\u001b[0m, \u001b[1;36m256\u001b[0m\u001b[1m)\u001b[0m: \u001b[1m{\u001b[0m\u001b[32m'hit_rate'\u001b[0m: \u001b[1m{\u001b[0m\u001b[32m'W'\u001b[0m: \u001b[1;36m3\u001b[0m, \u001b[32m'T'\u001b[0m: \u001b[1;36m9\u001b[0m, \u001b[32m'L'\u001b[0m: \u001b[1;36m8\u001b[0m\u001b[1m}\u001b[0m\u001b[1m}\u001b[0m,\n",
      "    \u001b[1m(\u001b[0m\u001b[1;36m16\u001b[0m, \u001b[1;36m512\u001b[0m\u001b[1m)\u001b[0m: \u001b[1m{\u001b[0m\u001b[32m'hit_rate'\u001b[0m: \u001b[1m{\u001b[0m\u001b[32m'W'\u001b[0m: \u001b[1;36m1\u001b[0m, \u001b[32m'T'\u001b[0m: \u001b[1;36m10\u001b[0m, \u001b[32m'L'\u001b[0m: \u001b[1;36m9\u001b[0m\u001b[1m}\u001b[0m\u001b[1m}\u001b[0m,\n",
      "    \u001b[1m(\u001b[0m\u001b[1;36m16\u001b[0m, \u001b[1;36m1024\u001b[0m\u001b[1m)\u001b[0m: \u001b[1m{\u001b[0m\u001b[32m'hit_rate'\u001b[0m: \u001b[1m{\u001b[0m\u001b[32m'W'\u001b[0m: \u001b[1;36m3\u001b[0m, \u001b[32m'T'\u001b[0m: \u001b[1;36m10\u001b[0m, \u001b[32m'L'\u001b[0m: \u001b[1;36m7\u001b[0m\u001b[1m}\u001b[0m\u001b[1m}\u001b[0m,\n",
      "    \u001b[1m(\u001b[0m\u001b[1;36m32\u001b[0m, \u001b[1;36m16\u001b[0m\u001b[1m)\u001b[0m: \u001b[1m{\u001b[0m\u001b[32m'hit_rate'\u001b[0m: \u001b[1m{\u001b[0m\u001b[32m'W'\u001b[0m: \u001b[1;36m1\u001b[0m, \u001b[32m'T'\u001b[0m: \u001b[1;36m14\u001b[0m, \u001b[32m'L'\u001b[0m: \u001b[1;36m5\u001b[0m\u001b[1m}\u001b[0m\u001b[1m}\u001b[0m,\n",
      "    \u001b[1m(\u001b[0m\u001b[1;36m32\u001b[0m, \u001b[1;36m64\u001b[0m\u001b[1m)\u001b[0m: \u001b[1m{\u001b[0m\u001b[32m'hit_rate'\u001b[0m: \u001b[1m{\u001b[0m\u001b[32m'W'\u001b[0m: \u001b[1;36m0\u001b[0m, \u001b[32m'T'\u001b[0m: \u001b[1;36m13\u001b[0m, \u001b[32m'L'\u001b[0m: \u001b[1;36m7\u001b[0m\u001b[1m}\u001b[0m\u001b[1m}\u001b[0m,\n",
      "    \u001b[1m(\u001b[0m\u001b[1;36m32\u001b[0m, \u001b[1;36m128\u001b[0m\u001b[1m)\u001b[0m: \u001b[1m{\u001b[0m\u001b[32m'hit_rate'\u001b[0m: \u001b[1m{\u001b[0m\u001b[32m'W'\u001b[0m: \u001b[1;36m1\u001b[0m, \u001b[32m'T'\u001b[0m: \u001b[1;36m8\u001b[0m, \u001b[32m'L'\u001b[0m: \u001b[1;36m11\u001b[0m\u001b[1m}\u001b[0m\u001b[1m}\u001b[0m,\n",
      "    \u001b[1m(\u001b[0m\u001b[1;36m32\u001b[0m, \u001b[1;36m256\u001b[0m\u001b[1m)\u001b[0m: \u001b[1m{\u001b[0m\u001b[32m'hit_rate'\u001b[0m: \u001b[1m{\u001b[0m\u001b[32m'W'\u001b[0m: \u001b[1;36m1\u001b[0m, \u001b[32m'T'\u001b[0m: \u001b[1;36m9\u001b[0m, \u001b[32m'L'\u001b[0m: \u001b[1;36m10\u001b[0m\u001b[1m}\u001b[0m\u001b[1m}\u001b[0m,\n",
      "    \u001b[1m(\u001b[0m\u001b[1;36m32\u001b[0m, \u001b[1;36m512\u001b[0m\u001b[1m)\u001b[0m: \u001b[1m{\u001b[0m\u001b[32m'hit_rate'\u001b[0m: \u001b[1m{\u001b[0m\u001b[32m'W'\u001b[0m: \u001b[1;36m0\u001b[0m, \u001b[32m'T'\u001b[0m: \u001b[1;36m8\u001b[0m, \u001b[32m'L'\u001b[0m: \u001b[1;36m12\u001b[0m\u001b[1m}\u001b[0m\u001b[1m}\u001b[0m,\n",
      "    \u001b[1m(\u001b[0m\u001b[1;36m32\u001b[0m, \u001b[1;36m1024\u001b[0m\u001b[1m)\u001b[0m: \u001b[1m{\u001b[0m\u001b[32m'hit_rate'\u001b[0m: \u001b[1m{\u001b[0m\u001b[32m'W'\u001b[0m: \u001b[1;36m1\u001b[0m, \u001b[32m'T'\u001b[0m: \u001b[1;36m10\u001b[0m, \u001b[32m'L'\u001b[0m: \u001b[1;36m9\u001b[0m\u001b[1m}\u001b[0m\u001b[1m}\u001b[0m,\n",
      "    \u001b[1m(\u001b[0m\u001b[1;36m64\u001b[0m, \u001b[1;36m16\u001b[0m\u001b[1m)\u001b[0m: \u001b[1m{\u001b[0m\u001b[32m'hit_rate'\u001b[0m: \u001b[1m{\u001b[0m\u001b[32m'W'\u001b[0m: \u001b[1;36m6\u001b[0m, \u001b[32m'T'\u001b[0m: \u001b[1;36m11\u001b[0m, \u001b[32m'L'\u001b[0m: \u001b[1;36m3\u001b[0m\u001b[1m}\u001b[0m\u001b[1m}\u001b[0m,\n",
      "    \u001b[1m(\u001b[0m\u001b[1;36m64\u001b[0m, \u001b[1;36m32\u001b[0m\u001b[1m)\u001b[0m: \u001b[1m{\u001b[0m\u001b[32m'hit_rate'\u001b[0m: \u001b[1m{\u001b[0m\u001b[32m'W'\u001b[0m: \u001b[1;36m7\u001b[0m, \u001b[32m'T'\u001b[0m: \u001b[1;36m13\u001b[0m, \u001b[32m'L'\u001b[0m: \u001b[1;36m0\u001b[0m\u001b[1m}\u001b[0m\u001b[1m}\u001b[0m,\n",
      "    \u001b[1m(\u001b[0m\u001b[1;36m64\u001b[0m, \u001b[1;36m128\u001b[0m\u001b[1m)\u001b[0m: \u001b[1m{\u001b[0m\u001b[32m'hit_rate'\u001b[0m: \u001b[1m{\u001b[0m\u001b[32m'W'\u001b[0m: \u001b[1;36m1\u001b[0m, \u001b[32m'T'\u001b[0m: \u001b[1;36m15\u001b[0m, \u001b[32m'L'\u001b[0m: \u001b[1;36m4\u001b[0m\u001b[1m}\u001b[0m\u001b[1m}\u001b[0m,\n",
      "    \u001b[1m(\u001b[0m\u001b[1;36m64\u001b[0m, \u001b[1;36m256\u001b[0m\u001b[1m)\u001b[0m: \u001b[1m{\u001b[0m\u001b[32m'hit_rate'\u001b[0m: \u001b[1m{\u001b[0m\u001b[32m'W'\u001b[0m: \u001b[1;36m1\u001b[0m, \u001b[32m'T'\u001b[0m: \u001b[1;36m16\u001b[0m, \u001b[32m'L'\u001b[0m: \u001b[1;36m3\u001b[0m\u001b[1m}\u001b[0m\u001b[1m}\u001b[0m,\n",
      "    \u001b[1m(\u001b[0m\u001b[1;36m64\u001b[0m, \u001b[1;36m512\u001b[0m\u001b[1m)\u001b[0m: \u001b[1m{\u001b[0m\u001b[32m'hit_rate'\u001b[0m: \u001b[1m{\u001b[0m\u001b[32m'W'\u001b[0m: \u001b[1;36m0\u001b[0m, \u001b[32m'T'\u001b[0m: \u001b[1;36m15\u001b[0m, \u001b[32m'L'\u001b[0m: \u001b[1;36m5\u001b[0m\u001b[1m}\u001b[0m\u001b[1m}\u001b[0m,\n",
      "    \u001b[1m(\u001b[0m\u001b[1;36m64\u001b[0m, \u001b[1;36m1024\u001b[0m\u001b[1m)\u001b[0m: \u001b[1m{\u001b[0m\u001b[32m'hit_rate'\u001b[0m: \u001b[1m{\u001b[0m\u001b[32m'W'\u001b[0m: \u001b[1;36m2\u001b[0m, \u001b[32m'T'\u001b[0m: \u001b[1;36m15\u001b[0m, \u001b[32m'L'\u001b[0m: \u001b[1;36m3\u001b[0m\u001b[1m}\u001b[0m\u001b[1m}\u001b[0m,\n",
      "    \u001b[1m(\u001b[0m\u001b[1;36m128\u001b[0m, \u001b[1;36m16\u001b[0m\u001b[1m)\u001b[0m: \u001b[1m{\u001b[0m\u001b[32m'hit_rate'\u001b[0m: \u001b[1m{\u001b[0m\u001b[32m'W'\u001b[0m: \u001b[1;36m8\u001b[0m, \u001b[32m'T'\u001b[0m: \u001b[1;36m10\u001b[0m, \u001b[32m'L'\u001b[0m: \u001b[1;36m2\u001b[0m\u001b[1m}\u001b[0m\u001b[1m}\u001b[0m,\n",
      "    \u001b[1m(\u001b[0m\u001b[1;36m128\u001b[0m, \u001b[1;36m32\u001b[0m\u001b[1m)\u001b[0m: \u001b[1m{\u001b[0m\u001b[32m'hit_rate'\u001b[0m: \u001b[1m{\u001b[0m\u001b[32m'W'\u001b[0m: \u001b[1;36m11\u001b[0m, \u001b[32m'T'\u001b[0m: \u001b[1;36m8\u001b[0m, \u001b[32m'L'\u001b[0m: \u001b[1;36m1\u001b[0m\u001b[1m}\u001b[0m\u001b[1m}\u001b[0m,\n",
      "    \u001b[1m(\u001b[0m\u001b[1;36m128\u001b[0m, \u001b[1;36m64\u001b[0m\u001b[1m)\u001b[0m: \u001b[1m{\u001b[0m\u001b[32m'hit_rate'\u001b[0m: \u001b[1m{\u001b[0m\u001b[32m'W'\u001b[0m: \u001b[1;36m4\u001b[0m, \u001b[32m'T'\u001b[0m: \u001b[1;36m15\u001b[0m, \u001b[32m'L'\u001b[0m: \u001b[1;36m1\u001b[0m\u001b[1m}\u001b[0m\u001b[1m}\u001b[0m,\n",
      "    \u001b[1m(\u001b[0m\u001b[1;36m128\u001b[0m, \u001b[1;36m256\u001b[0m\u001b[1m)\u001b[0m: \u001b[1m{\u001b[0m\u001b[32m'hit_rate'\u001b[0m: \u001b[1m{\u001b[0m\u001b[32m'W'\u001b[0m: \u001b[1;36m1\u001b[0m, \u001b[32m'T'\u001b[0m: \u001b[1;36m19\u001b[0m, \u001b[32m'L'\u001b[0m: \u001b[1;36m0\u001b[0m\u001b[1m}\u001b[0m\u001b[1m}\u001b[0m,\n",
      "    \u001b[1m(\u001b[0m\u001b[1;36m128\u001b[0m, \u001b[1;36m512\u001b[0m\u001b[1m)\u001b[0m: \u001b[1m{\u001b[0m\u001b[32m'hit_rate'\u001b[0m: \u001b[1m{\u001b[0m\u001b[32m'W'\u001b[0m: \u001b[1;36m0\u001b[0m, \u001b[32m'T'\u001b[0m: \u001b[1;36m18\u001b[0m, \u001b[32m'L'\u001b[0m: \u001b[1;36m2\u001b[0m\u001b[1m}\u001b[0m\u001b[1m}\u001b[0m,\n",
      "    \u001b[1m(\u001b[0m\u001b[1;36m128\u001b[0m, \u001b[1;36m1024\u001b[0m\u001b[1m)\u001b[0m: \u001b[1m{\u001b[0m\u001b[32m'hit_rate'\u001b[0m: \u001b[1m{\u001b[0m\u001b[32m'W'\u001b[0m: \u001b[1;36m2\u001b[0m, \u001b[32m'T'\u001b[0m: \u001b[1;36m18\u001b[0m, \u001b[32m'L'\u001b[0m: \u001b[1;36m0\u001b[0m\u001b[1m}\u001b[0m\u001b[1m}\u001b[0m,\n",
      "    \u001b[1m(\u001b[0m\u001b[1;36m256\u001b[0m, \u001b[1;36m16\u001b[0m\u001b[1m)\u001b[0m: \u001b[1m{\u001b[0m\u001b[32m'hit_rate'\u001b[0m: \u001b[1m{\u001b[0m\u001b[32m'W'\u001b[0m: \u001b[1;36m8\u001b[0m, \u001b[32m'T'\u001b[0m: \u001b[1;36m9\u001b[0m, \u001b[32m'L'\u001b[0m: \u001b[1;36m3\u001b[0m\u001b[1m}\u001b[0m\u001b[1m}\u001b[0m,\n",
      "    \u001b[1m(\u001b[0m\u001b[1;36m256\u001b[0m, \u001b[1;36m32\u001b[0m\u001b[1m)\u001b[0m: \u001b[1m{\u001b[0m\u001b[32m'hit_rate'\u001b[0m: \u001b[1m{\u001b[0m\u001b[32m'W'\u001b[0m: \u001b[1;36m10\u001b[0m, \u001b[32m'T'\u001b[0m: \u001b[1;36m9\u001b[0m, \u001b[32m'L'\u001b[0m: \u001b[1;36m1\u001b[0m\u001b[1m}\u001b[0m\u001b[1m}\u001b[0m,\n",
      "    \u001b[1m(\u001b[0m\u001b[1;36m256\u001b[0m, \u001b[1;36m64\u001b[0m\u001b[1m)\u001b[0m: \u001b[1m{\u001b[0m\u001b[32m'hit_rate'\u001b[0m: \u001b[1m{\u001b[0m\u001b[32m'W'\u001b[0m: \u001b[1;36m3\u001b[0m, \u001b[32m'T'\u001b[0m: \u001b[1;36m16\u001b[0m, \u001b[32m'L'\u001b[0m: \u001b[1;36m1\u001b[0m\u001b[1m}\u001b[0m\u001b[1m}\u001b[0m,\n",
      "    \u001b[1m(\u001b[0m\u001b[1;36m256\u001b[0m, \u001b[1;36m128\u001b[0m\u001b[1m)\u001b[0m: \u001b[1m{\u001b[0m\u001b[32m'hit_rate'\u001b[0m: \u001b[1m{\u001b[0m\u001b[32m'W'\u001b[0m: \u001b[1;36m0\u001b[0m, \u001b[32m'T'\u001b[0m: \u001b[1;36m19\u001b[0m, \u001b[32m'L'\u001b[0m: \u001b[1;36m1\u001b[0m\u001b[1m}\u001b[0m\u001b[1m}\u001b[0m,\n",
      "    \u001b[1m(\u001b[0m\u001b[1;36m256\u001b[0m, \u001b[1;36m512\u001b[0m\u001b[1m)\u001b[0m: \u001b[1m{\u001b[0m\u001b[32m'hit_rate'\u001b[0m: \u001b[1m{\u001b[0m\u001b[32m'W'\u001b[0m: \u001b[1;36m0\u001b[0m, \u001b[32m'T'\u001b[0m: \u001b[1;36m17\u001b[0m, \u001b[32m'L'\u001b[0m: \u001b[1;36m3\u001b[0m\u001b[1m}\u001b[0m\u001b[1m}\u001b[0m,\n",
      "    \u001b[1m(\u001b[0m\u001b[1;36m256\u001b[0m, \u001b[1;36m1024\u001b[0m\u001b[1m)\u001b[0m: \u001b[1m{\u001b[0m\u001b[32m'hit_rate'\u001b[0m: \u001b[1m{\u001b[0m\u001b[32m'W'\u001b[0m: \u001b[1;36m1\u001b[0m, \u001b[32m'T'\u001b[0m: \u001b[1;36m19\u001b[0m, \u001b[32m'L'\u001b[0m: \u001b[1;36m0\u001b[0m\u001b[1m}\u001b[0m\u001b[1m}\u001b[0m,\n",
      "    \u001b[1m(\u001b[0m\u001b[1;36m512\u001b[0m, \u001b[1;36m16\u001b[0m\u001b[1m)\u001b[0m: \u001b[1m{\u001b[0m\u001b[32m'hit_rate'\u001b[0m: \u001b[1m{\u001b[0m\u001b[32m'W'\u001b[0m: \u001b[1;36m9\u001b[0m, \u001b[32m'T'\u001b[0m: \u001b[1;36m10\u001b[0m, \u001b[32m'L'\u001b[0m: \u001b[1;36m1\u001b[0m\u001b[1m}\u001b[0m\u001b[1m}\u001b[0m,\n",
      "    \u001b[1m(\u001b[0m\u001b[1;36m512\u001b[0m, \u001b[1;36m32\u001b[0m\u001b[1m)\u001b[0m: \u001b[1m{\u001b[0m\u001b[32m'hit_rate'\u001b[0m: \u001b[1m{\u001b[0m\u001b[32m'W'\u001b[0m: \u001b[1;36m12\u001b[0m, \u001b[32m'T'\u001b[0m: \u001b[1;36m8\u001b[0m, \u001b[32m'L'\u001b[0m: \u001b[1;36m0\u001b[0m\u001b[1m}\u001b[0m\u001b[1m}\u001b[0m,\n",
      "    \u001b[1m(\u001b[0m\u001b[1;36m512\u001b[0m, \u001b[1;36m64\u001b[0m\u001b[1m)\u001b[0m: \u001b[1m{\u001b[0m\u001b[32m'hit_rate'\u001b[0m: \u001b[1m{\u001b[0m\u001b[32m'W'\u001b[0m: \u001b[1;36m5\u001b[0m, \u001b[32m'T'\u001b[0m: \u001b[1;36m15\u001b[0m, \u001b[32m'L'\u001b[0m: \u001b[1;36m0\u001b[0m\u001b[1m}\u001b[0m\u001b[1m}\u001b[0m,\n",
      "    \u001b[1m(\u001b[0m\u001b[1;36m512\u001b[0m, \u001b[1;36m128\u001b[0m\u001b[1m)\u001b[0m: \u001b[1m{\u001b[0m\u001b[32m'hit_rate'\u001b[0m: \u001b[1m{\u001b[0m\u001b[32m'W'\u001b[0m: \u001b[1;36m2\u001b[0m, \u001b[32m'T'\u001b[0m: \u001b[1;36m18\u001b[0m, \u001b[32m'L'\u001b[0m: \u001b[1;36m0\u001b[0m\u001b[1m}\u001b[0m\u001b[1m}\u001b[0m,\n",
      "    \u001b[1m(\u001b[0m\u001b[1;36m512\u001b[0m, \u001b[1;36m256\u001b[0m\u001b[1m)\u001b[0m: \u001b[1m{\u001b[0m\u001b[32m'hit_rate'\u001b[0m: \u001b[1m{\u001b[0m\u001b[32m'W'\u001b[0m: \u001b[1;36m3\u001b[0m, \u001b[32m'T'\u001b[0m: \u001b[1;36m17\u001b[0m, \u001b[32m'L'\u001b[0m: \u001b[1;36m0\u001b[0m\u001b[1m}\u001b[0m\u001b[1m}\u001b[0m,\n",
      "    \u001b[1m(\u001b[0m\u001b[1;36m512\u001b[0m, \u001b[1;36m1024\u001b[0m\u001b[1m)\u001b[0m: \u001b[1m{\u001b[0m\u001b[32m'hit_rate'\u001b[0m: \u001b[1m{\u001b[0m\u001b[32m'W'\u001b[0m: \u001b[1;36m4\u001b[0m, \u001b[32m'T'\u001b[0m: \u001b[1;36m16\u001b[0m, \u001b[32m'L'\u001b[0m: \u001b[1;36m0\u001b[0m\u001b[1m}\u001b[0m\u001b[1m}\u001b[0m,\n",
      "    \u001b[1m(\u001b[0m\u001b[1;36m1024\u001b[0m, \u001b[1;36m16\u001b[0m\u001b[1m)\u001b[0m: \u001b[1m{\u001b[0m\u001b[32m'hit_rate'\u001b[0m: \u001b[1m{\u001b[0m\u001b[32m'W'\u001b[0m: \u001b[1;36m7\u001b[0m, \u001b[32m'T'\u001b[0m: \u001b[1;36m10\u001b[0m, \u001b[32m'L'\u001b[0m: \u001b[1;36m3\u001b[0m\u001b[1m}\u001b[0m\u001b[1m}\u001b[0m,\n",
      "    \u001b[1m(\u001b[0m\u001b[1;36m1024\u001b[0m, \u001b[1;36m32\u001b[0m\u001b[1m)\u001b[0m: \u001b[1m{\u001b[0m\u001b[32m'hit_rate'\u001b[0m: \u001b[1m{\u001b[0m\u001b[32m'W'\u001b[0m: \u001b[1;36m9\u001b[0m, \u001b[32m'T'\u001b[0m: \u001b[1;36m10\u001b[0m, \u001b[32m'L'\u001b[0m: \u001b[1;36m1\u001b[0m\u001b[1m}\u001b[0m\u001b[1m}\u001b[0m,\n",
      "    \u001b[1m(\u001b[0m\u001b[1;36m1024\u001b[0m, \u001b[1;36m64\u001b[0m\u001b[1m)\u001b[0m: \u001b[1m{\u001b[0m\u001b[32m'hit_rate'\u001b[0m: \u001b[1m{\u001b[0m\u001b[32m'W'\u001b[0m: \u001b[1;36m3\u001b[0m, \u001b[32m'T'\u001b[0m: \u001b[1;36m15\u001b[0m, \u001b[32m'L'\u001b[0m: \u001b[1;36m2\u001b[0m\u001b[1m}\u001b[0m\u001b[1m}\u001b[0m,\n",
      "    \u001b[1m(\u001b[0m\u001b[1;36m1024\u001b[0m, \u001b[1;36m128\u001b[0m\u001b[1m)\u001b[0m: \u001b[1m{\u001b[0m\u001b[32m'hit_rate'\u001b[0m: \u001b[1m{\u001b[0m\u001b[32m'W'\u001b[0m: \u001b[1;36m0\u001b[0m, \u001b[32m'T'\u001b[0m: \u001b[1;36m18\u001b[0m, \u001b[32m'L'\u001b[0m: \u001b[1;36m2\u001b[0m\u001b[1m}\u001b[0m\u001b[1m}\u001b[0m,\n",
      "    \u001b[1m(\u001b[0m\u001b[1;36m1024\u001b[0m, \u001b[1;36m256\u001b[0m\u001b[1m)\u001b[0m: \u001b[1m{\u001b[0m\u001b[32m'hit_rate'\u001b[0m: \u001b[1m{\u001b[0m\u001b[32m'W'\u001b[0m: \u001b[1;36m0\u001b[0m, \u001b[32m'T'\u001b[0m: \u001b[1;36m19\u001b[0m, \u001b[32m'L'\u001b[0m: \u001b[1;36m1\u001b[0m\u001b[1m}\u001b[0m\u001b[1m}\u001b[0m,\n",
      "    \u001b[1m(\u001b[0m\u001b[1;36m1024\u001b[0m, \u001b[1;36m512\u001b[0m\u001b[1m)\u001b[0m: \u001b[1m{\u001b[0m\u001b[32m'hit_rate'\u001b[0m: \u001b[1m{\u001b[0m\u001b[32m'W'\u001b[0m: \u001b[1;36m0\u001b[0m, \u001b[32m'T'\u001b[0m: \u001b[1;36m16\u001b[0m, \u001b[32m'L'\u001b[0m: \u001b[1;36m4\u001b[0m\u001b[1m}\u001b[0m\u001b[1m}\u001b[0m\n",
      "\u001b[1m}\u001b[0m\n"
     ]
    },
    {
     "data": {
      "text/html": [
       "<pre style=\"white-space:pre;overflow-x:auto;line-height:normal;font-family:Menlo,'DejaVu Sans Mono',consolas,'Courier New',monospace\"></pre>\n"
      ],
      "text/plain": []
     },
     "metadata": {},
     "output_type": "display_data"
    }
   ],
   "source": [
    "with c.pager(styles=True):\n",
    "  c.print(comparison.win_tie_loss)"
   ]
  }
 ],
 "metadata": {
  "kernelspec": {
   "display_name": "Python 3 (ipykernel)",
   "language": "python",
   "name": "python3"
  },
  "language_info": {
   "codemirror_mode": {
    "name": "ipython",
    "version": 3
   },
   "file_extension": ".py",
   "mimetype": "text/x-python",
   "name": "python",
   "nbconvert_exporter": "python",
   "pygments_lexer": "ipython3",
   "version": "3.10.12"
  }
 },
 "nbformat": 4,
 "nbformat_minor": 5
}
