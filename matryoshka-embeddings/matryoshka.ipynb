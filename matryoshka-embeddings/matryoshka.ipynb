{
 "cells": [
  {
   "cell_type": "markdown",
   "id": "199a14f7",
   "metadata": {},
   "source": [
    "# An intro to Matryoskha Embeddings"
   ]
  },
  {
   "cell_type": "code",
   "execution_count": 1,
   "id": "7baaac03",
   "metadata": {},
   "outputs": [],
   "source": [
    "import duckdb"
   ]
  },
  {
   "cell_type": "code",
   "execution_count": 2,
   "id": "4ffd1078",
   "metadata": {},
   "outputs": [],
   "source": [
    "con = duckdb.connect(\"olympics.duckdb\")"
   ]
  },
  {
   "cell_type": "code",
   "execution_count": 3,
   "id": "7552af2e",
   "metadata": {},
   "outputs": [],
   "source": [
    "con.sql(\"DESCRIBE olympics\")"
   ]
  },
  {
   "cell_type": "code",
   "execution_count": 4,
   "id": "0bfe7901",
   "metadata": {},
   "outputs": [],
   "source": [
    "con.sql(\"SELECT * FROM olympics LIMIT 10\")"
   ]
  },
  {
   "cell_type": "markdown",
   "id": "1de740d3",
   "metadata": {},
   "source": [
    "## Create Embeddings"
   ]
  },
  {
   "cell_type": "code",
   "execution_count": null,
   "id": "e10a272b",
   "metadata": {},
   "outputs": [],
   "source": [
    "con.sql(\"\"\"\n",
    "ALTER TABLE olympics \n",
    "ADD COLUMN embeddings_1024 FLOAT[1024];\n",
    "\"\"\")"
   ]
  },
  {
   "cell_type": "code",
   "execution_count": 6,
   "id": "05cc0c24",
   "metadata": {},
   "outputs": [],
   "source": [
    "import llama_cpp"
   ]
  },
  {
   "cell_type": "code",
   "execution_count": 7,
   "id": "8f305979",
   "metadata": {},
   "outputs": [],
   "source": [
    "llm = llama_cpp.Llama(\n",
    "  model_path=\"./models/mxbai-embed-large-v1-f16.gguf\", \n",
    "  embedding=True, \n",
    "  verbose=False\n",
    ")"
   ]
  },
  {
   "cell_type": "code",
   "execution_count": 8,
   "id": "dd798f6b",
   "metadata": {},
   "outputs": [],
   "source": [
    "rows = con.sql(\"SELECT index, text FROM olympics\").fetchall()"
   ]
  },
  {
   "cell_type": "code",
   "execution_count": 9,
   "id": "dd5c1b7a",
   "metadata": {},
   "outputs": [],
   "source": [
    "embeddings = llm.create_embedding([text for index, text in rows])['data']"
   ]
  },
  {
   "cell_type": "code",
   "execution_count": 10,
   "id": "bdf1d2a1",
   "metadata": {},
   "outputs": [],
   "source": [
    "for (index, text), embedding in zip(rows, embeddings):\n",
    "  con.execute(\n",
    "    \"UPDATE olympics SET embeddings_1024 = ? WHERE index = ?\", \n",
    "    [embedding['embedding'], index]\n",
    "  )"
   ]
  },
  {
   "cell_type": "code",
   "execution_count": 11,
   "id": "b34bc381",
   "metadata": {},
   "outputs": [],
   "source": [
    "con.sql(\"SELECT * FROM olympics LIMIT 10\"\"\")"
   ]
  },
  {
   "cell_type": "code",
   "execution_count": 12,
   "id": "0b270237",
   "metadata": {},
   "outputs": [],
   "source": [
    "import numpy as np"
   ]
  },
  {
   "cell_type": "markdown",
   "id": "3697be3f",
   "metadata": {},
   "source": [
    "## Create truncated embeddings"
   ]
  },
  {
   "cell_type": "code",
   "execution_count": null,
   "id": "c53cc756",
   "metadata": {},
   "outputs": [],
   "source": [
    "def normalize(vec: list[float]) -> list[float]:\n",
    "    return (vec / np.linalg.norm(vec)).tolist()"
   ]
  },
  {
   "cell_type": "code",
   "execution_count": 14,
   "id": "5f56cf37",
   "metadata": {},
   "outputs": [],
   "source": [
    "con.create_function(name=\"normalize\", function=normalize)"
   ]
  },
  {
   "cell_type": "code",
   "execution_count": 15,
   "id": "a3064611",
   "metadata": {},
   "outputs": [],
   "source": [
    "con.sql(\"\"\"\n",
    "SELECT index, text, \n",
    "       embeddings_1024, \n",
    "       normalize(embeddings_1024[:512])::float[512] AS embeddings_512\n",
    "FROM olympics \n",
    "LIMIT 5\n",
    "\"\"\")"
   ]
  },
  {
   "cell_type": "code",
   "execution_count": 16,
   "id": "8e921cbd",
   "metadata": {},
   "outputs": [],
   "source": [
    "dimensions = [16, 32, 64, 128, 256, 512]\n",
    "for dimension in dimensions:\n",
    "  con.sql(f\"\"\"\n",
    "  ALTER TABLE olympics \n",
    "  ADD COLUMN embeddings_{dimension} FLOAT[{dimension}];\n",
    "  \"\"\")\n",
    "\n",
    "  con.sql(f\"\"\"\n",
    "  UPDATE olympics \n",
    "  SET embeddings_{dimension} = normalize(embeddings_1024[:{dimension}])\n",
    "  \"\"\")"
   ]
  },
  {
   "cell_type": "code",
   "execution_count": 17,
   "id": "6a2d8808",
   "metadata": {},
   "outputs": [],
   "source": [
    "def vector_search(query, dimension=1024):\n",
    "  raw_embedding = llm.create_embedding([query])\n",
    "  search_vector = raw_embedding['data'][0]['embedding']\n",
    "\n",
    "  if dimension < len(search_vector):\n",
    "    search_vector = normalize(search_vector[:dimension])\n",
    "\n",
    "  return con.sql(f\"\"\"\n",
    "  SELECT index, text,\n",
    "          array_cosine_similarity(\n",
    "            \"embeddings_{dimension}\", $searchVector::FLOAT[{dimension}]\n",
    "          ) AS score\n",
    "  FROM olympics\n",
    "  ORDER BY score DESC\n",
    "  LIMIT 3\n",
    "  \"\"\", params={\"searchVector\": search_vector})"
   ]
  },
  {
   "cell_type": "markdown",
   "id": "0f068280",
   "metadata": {},
   "source": [
    "## Query embeddings"
   ]
  },
  {
   "cell_type": "code",
   "execution_count": 18,
   "id": "35f0f6f0",
   "metadata": {},
   "outputs": [],
   "source": [
    "query = 'Where did the opening ceremony take place?'\n",
    "vector_search(query)"
   ]
  },
  {
   "cell_type": "code",
   "execution_count": 19,
   "id": "926c21ab",
   "metadata": {},
   "outputs": [],
   "source": [
    "from rich.console import Console\n",
    "c = Console()"
   ]
  },
  {
   "cell_type": "code",
   "execution_count": 20,
   "id": "b3503702",
   "metadata": {},
   "outputs": [],
   "source": [
    "with c.pager(styles=True):\n",
    "  dimensions = [16, 32, 64, 128, 256, 512, 1024]\n",
    "  for dimension in dimensions[::-1]:\n",
    "    c.print(dimension)\n",
    "    c.print(vector_search(query, dimension))"
   ]
  },
  {
   "cell_type": "code",
   "execution_count": 21,
   "id": "4b5c9ea1",
   "metadata": {},
   "outputs": [],
   "source": [
    "from ranx import Qrels, Run, compare\n",
    "from functools import partial"
   ]
  },
  {
   "cell_type": "markdown",
   "id": "691af216",
   "metadata": {},
   "source": [
    "## Evalute embeddings"
   ]
  },
  {
   "cell_type": "code",
   "execution_count": 22,
   "id": "a331516d",
   "metadata": {},
   "outputs": [],
   "source": [
    "qrels = Qrels.from_file(\"data/questions.json\")"
   ]
  },
  {
   "cell_type": "code",
   "execution_count": 23,
   "id": "b9ce7c9a",
   "metadata": {},
   "outputs": [],
   "source": [
    "functions = [\n",
    "  (partial(vector_search, dimension=dimension), dimension)\n",
    "  for dimension in dimensions\n",
    "]"
   ]
  },
  {
   "cell_type": "code",
   "execution_count": 24,
   "id": "a10deff8",
   "metadata": {},
   "outputs": [],
   "source": [
    "def create_run(qrels, retrieval_fn, name):\n",
    "  run_dict = {\n",
    "    question: {\n",
    "      str(index): score\n",
    "      for index, score in (retrieval_fn(question)\n",
    "                            .select(\"index, score\")\n",
    "                            .fetchall()\n",
    "                          )\n",
    "    }\n",
    "    for question in qrels.to_dict()\n",
    "  }\n",
    "  return Run(run_dict, name=name)"
   ]
  },
  {
   "cell_type": "code",
   "execution_count": 25,
   "id": "7ee54d78",
   "metadata": {},
   "outputs": [],
   "source": [
    "%%time\n",
    "runs = [\n",
    "   create_run(qrels, fn, name)\n",
    "   for fn, name in functions\n",
    "]"
   ]
  },
  {
   "cell_type": "code",
   "execution_count": 26,
   "id": "c8b49857",
   "metadata": {},
   "outputs": [],
   "source": [
    "comparison = compare(\n",
    "    qrels,\n",
    "    runs=runs,\n",
    "    metrics=[\"hit_rate\"],\n",
    ")"
   ]
  },
  {
   "cell_type": "code",
   "execution_count": 27,
   "id": "1365ded4",
   "metadata": {},
   "outputs": [],
   "source": [
    "comparison"
   ]
  },
  {
   "cell_type": "code",
   "execution_count": 28,
   "id": "ac62e28d",
   "metadata": {},
   "outputs": [],
   "source": [
    "with c.pager(styles=True):\n",
    "  c.print(comparison.win_tie_loss)"
   ]
  }
 ],
 "metadata": {
  "language_info": {
   "name": "python"
  }
 },
 "nbformat": 4,
 "nbformat_minor": 5
}
