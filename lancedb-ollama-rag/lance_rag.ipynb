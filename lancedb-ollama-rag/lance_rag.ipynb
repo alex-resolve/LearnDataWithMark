{
 "cells": [
  {
   "cell_type": "markdown",
   "id": "a02efc66-1f3d-4622-8e0c-515173ce3583",
   "metadata": {
    "execution": {
     "iopub.execute_input": "2024-09-14T14:35:51.613763Z",
     "iopub.status.busy": "2024-09-14T14:35:51.613192Z",
     "iopub.status.idle": "2024-09-14T14:35:51.621210Z",
     "shell.execute_reply": "2024-09-14T14:35:51.617670Z",
     "shell.execute_reply.started": "2024-09-14T14:35:51.613731Z"
    }
   },
   "source": [
    "# Local RAG with Ollama and LanceDB"
   ]
  },
  {
   "cell_type": "code",
   "execution_count": 2,
   "id": "61f66d85",
   "metadata": {
    "execution": {
     "iopub.execute_input": "2024-09-14T14:35:54.233113Z",
     "iopub.status.busy": "2024-09-14T14:35:54.231828Z",
     "iopub.status.idle": "2024-09-14T14:35:54.309164Z",
     "shell.execute_reply": "2024-09-14T14:35:54.308844Z",
     "shell.execute_reply.started": "2024-09-14T14:35:54.233072Z"
    }
   },
   "outputs": [],
   "source": [
    "import ollama"
   ]
  },
  {
   "cell_type": "markdown",
   "id": "a2eff3dd-118d-4977-ae08-03be4a8d3410",
   "metadata": {},
   "source": [
    "## Chatting with no context"
   ]
  },
  {
   "cell_type": "code",
   "execution_count": 3,
   "id": "573514b3",
   "metadata": {
    "execution": {
     "iopub.execute_input": "2024-09-14T14:35:55.759789Z",
     "iopub.status.busy": "2024-09-14T14:35:55.759370Z",
     "iopub.status.idle": "2024-09-14T14:36:10.668600Z",
     "shell.execute_reply": "2024-09-14T14:36:10.668261Z",
     "shell.execute_reply.started": "2024-09-14T14:35:55.759759Z"
    }
   },
   "outputs": [
    {
     "name": "stdout",
     "output_type": "stream",
     "text": [
      "The answer to this question can vary depending on the specific model of iPhone and release date, but I'll focus on some notable releases.\n",
      "\n",
      "Here are some of the most significant new features introduced in popular iPhone models:\n",
      "\n",
      "1. **iPhone 4 (2010)**:\n",
      "\t* A new design with a stainless steel frame and glass front and back.\n",
      "\t* A 5MP camera with LED flash.\n",
      "\t* HD video recording capabilities.\n",
      "2. **iPhone 4S (2011)**:\n",
      "\t* Siri, an intelligent personal assistant that allows voice commands.\n",
      "\t* Improved cameras with 8MP stills and 1080p video.\n",
      "\t* Dual-core processor for faster performance.\n",
      "3. **iPhone 5 (2012)**:\n",
      "\t* A larger 4-inch screen with a new Lightning connector.\n",
      "\t* Better cameras, including a 8MP camera with improved low-light performance.\n",
      "\t* New features like iCloud and Passbook.\n",
      "4. **iPhone 6 and iPhone 6 Plus (2014)**:\n",
      "\t* Larger screens (4.7 inches for the standard model, 5.5 inches for the Plus).\n",
      "\t* Improved cameras with a new front-facing camera (2MP) and a rear camera with optical image stabilization.\n",
      "\t* Touch ID fingerprint recognition.\n",
      "5. **iPhone 6S and iPhone 6S Plus (2015)**:\n",
      "\t* 3D Touch pressure-sensitive display for deeper interactions.\n",
      "\t* 12MP camera with improved low-light performance and a new front-facing camera (5MP).\n",
      "\t* Improved processors for faster performance.\n",
      "6. **iPhone X (2017)**:\n",
      "\t* An all-screen design with no home button, and Face ID facial recognition.\n",
      "\t* Dual cameras with telephoto lens and optical zoom capabilities.\n",
      "\t* A new \"A11 Bionic\" processor with improved power efficiency.\n",
      "\n",
      "These are just a few examples of the significant new features introduced in popular iPhone models."
     ]
    }
   ],
   "source": [
    "question = \"What were the iPhone's best new features\"\n",
    "stream = ollama.chat(\n",
    "  model=\"llama3.1\", stream=True,\n",
    "  messages = [\n",
    "    { \"role\": \"user\", 'content': f\"Question: {question}\"}\n",
    "  ]\n",
    ")\n",
    "for chunk in stream:\n",
    "  print(chunk['message']['content'], end='', flush=True)"
   ]
  },
  {
   "cell_type": "markdown",
   "id": "d971f7a5-3a02-47bb-a315-911d809738f3",
   "metadata": {},
   "source": [
    "## Ingesting data"
   ]
  },
  {
   "cell_type": "code",
   "execution_count": 5,
   "id": "09ae8e6a",
   "metadata": {
    "execution": {
     "iopub.execute_input": "2024-09-14T14:36:16.065427Z",
     "iopub.status.busy": "2024-09-14T14:36:16.064907Z",
     "iopub.status.idle": "2024-09-14T14:36:16.076029Z",
     "shell.execute_reply": "2024-09-14T14:36:16.074062Z",
     "shell.execute_reply.started": "2024-09-14T14:36:16.065396Z"
    }
   },
   "outputs": [],
   "source": [
    "import pandas as pd"
   ]
  },
  {
   "cell_type": "code",
   "execution_count": 6,
   "id": "e6dd54e4",
   "metadata": {
    "execution": {
     "iopub.execute_input": "2024-09-14T14:36:17.615589Z",
     "iopub.status.busy": "2024-09-14T14:36:17.615166Z",
     "iopub.status.idle": "2024-09-14T14:36:17.653410Z",
     "shell.execute_reply": "2024-09-14T14:36:17.653032Z",
     "shell.execute_reply.started": "2024-09-14T14:36:17.615558Z"
    }
   },
   "outputs": [],
   "source": [
    "df = pd.read_csv(\"data/sentences.csv\")"
   ]
  },
  {
   "cell_type": "code",
   "execution_count": 7,
   "id": "b08ebacb",
   "metadata": {
    "execution": {
     "iopub.execute_input": "2024-09-14T14:36:19.285865Z",
     "iopub.status.busy": "2024-09-14T14:36:19.285225Z",
     "iopub.status.idle": "2024-09-14T14:36:19.307688Z",
     "shell.execute_reply": "2024-09-14T14:36:19.307348Z",
     "shell.execute_reply.started": "2024-09-14T14:36:19.285825Z"
    }
   },
   "outputs": [
    {
     "data": {
      "text/html": [
       "<pre style=\"white-space:pre;overflow-x:auto;line-height:normal;font-family:Menlo,'DejaVu Sans Mono',consolas,'Courier New',monospace\"></pre>\n"
      ],
      "text/plain": []
     },
     "metadata": {},
     "output_type": "display_data"
    },
    {
     "data": {
      "text/plain": [
       "\n",
       "url         \u001b[4;94mhttps://www.bbc.com/news/articles/clylqly0n28o\u001b[0m\n",
       "title    Bedford Debenhams plan: 'We need a reason to c\u001b[33m...\u001b[0m\n",
       "index                                                    \u001b[1;36m0\u001b[0m\n",
       "text     Shoppers have said they hope a council's plans\u001b[33m...\u001b[0m\n",
       "Name: \u001b[1;36m0\u001b[0m, dtype: object"
      ]
     },
     "execution_count": 7,
     "metadata": {},
     "output_type": "execute_result"
    }
   ],
   "source": [
    "df.iloc[0]"
   ]
  },
  {
   "cell_type": "code",
   "execution_count": 8,
   "id": "5ad1376b",
   "metadata": {
    "execution": {
     "iopub.execute_input": "2024-09-14T14:36:22.342478Z",
     "iopub.status.busy": "2024-09-14T14:36:22.342010Z",
     "iopub.status.idle": "2024-09-14T14:36:22.686236Z",
     "shell.execute_reply": "2024-09-14T14:36:22.685919Z",
     "shell.execute_reply.started": "2024-09-14T14:36:22.342442Z"
    }
   },
   "outputs": [
    {
     "name": "stderr",
     "output_type": "stream",
     "text": [
      "/Users/markhneedham/miniforge3/lib/python3.10/site-packages/tqdm/auto.py:21: TqdmWarning: IProgress not found. Please update jupyter and ipywidgets. See https://ipywidgets.readthedocs.io/en/stable/user_install.html\n",
      "  from .autonotebook import tqdm as notebook_tqdm\n"
     ]
    }
   ],
   "source": [
    "import lancedb\n",
    "import time\n",
    "from lancedb.pydantic import LanceModel, Vector\n",
    "from lancedb.embeddings import EmbeddingFunctionRegistry"
   ]
  },
  {
   "cell_type": "code",
   "execution_count": 9,
   "id": "7ee1a99d",
   "metadata": {
    "execution": {
     "iopub.execute_input": "2024-09-14T14:36:26.118572Z",
     "iopub.status.busy": "2024-09-14T14:36:26.118121Z",
     "iopub.status.idle": "2024-09-14T14:36:26.129455Z",
     "shell.execute_reply": "2024-09-14T14:36:26.128436Z",
     "shell.execute_reply.started": "2024-09-14T14:36:26.118539Z"
    }
   },
   "outputs": [],
   "source": [
    "registry = EmbeddingFunctionRegistry.get_instance()\n",
    "embedder = registry.get(\"ollama\").create(name=\"mxbai-embed-large\")"
   ]
  },
  {
   "cell_type": "code",
   "execution_count": 10,
   "id": "002653d3",
   "metadata": {
    "execution": {
     "iopub.execute_input": "2024-09-14T14:36:27.532762Z",
     "iopub.status.busy": "2024-09-14T14:36:27.532327Z",
     "iopub.status.idle": "2024-09-14T14:36:28.891061Z",
     "shell.execute_reply": "2024-09-14T14:36:28.890743Z",
     "shell.execute_reply.started": "2024-09-14T14:36:27.532732Z"
    }
   },
   "outputs": [],
   "source": [
    "class Schema(LanceModel):\n",
    "  text: str = embedder.SourceField()\n",
    "  vector: Vector(embedder.ndims()) = embedder.VectorField()\n",
    "  index: int\n",
    "  title: str\n",
    "  url: str"
   ]
  },
  {
   "cell_type": "code",
   "execution_count": 11,
   "id": "63b75828",
   "metadata": {
    "execution": {
     "iopub.execute_input": "2024-09-14T14:36:30.033219Z",
     "iopub.status.busy": "2024-09-14T14:36:30.032820Z",
     "iopub.status.idle": "2024-09-14T14:36:30.090179Z",
     "shell.execute_reply": "2024-09-14T14:36:30.089797Z",
     "shell.execute_reply.started": "2024-09-14T14:36:30.033190Z"
    }
   },
   "outputs": [],
   "source": [
    "db = lancedb.connect(\"./lancedb\")\n",
    "table = db.create_table(\"sentences\", schema=Schema)"
   ]
  },
  {
   "cell_type": "code",
   "execution_count": 12,
   "id": "0aad3e4d",
   "metadata": {
    "execution": {
     "iopub.execute_input": "2024-09-14T14:36:31.750936Z",
     "iopub.status.busy": "2024-09-14T14:36:31.750482Z",
     "iopub.status.idle": "2024-09-14T14:37:10.248852Z",
     "shell.execute_reply": "2024-09-14T14:37:10.248274Z",
     "shell.execute_reply.started": "2024-09-14T14:36:31.750906Z"
    }
   },
   "outputs": [
    {
     "name": "stdout",
     "output_type": "stream",
     "text": [
      "CPU times: user 1.7 s, sys: 145 ms, total: 1.84 s\n",
      "Wall time: 38.5 s\n"
     ]
    }
   ],
   "source": [
    "%%time\n",
    "table.add(df)"
   ]
  },
  {
   "cell_type": "code",
   "execution_count": 15,
   "id": "7e432f74",
   "metadata": {
    "execution": {
     "iopub.execute_input": "2024-09-14T14:37:13.466539Z",
     "iopub.status.busy": "2024-09-14T14:37:13.465829Z",
     "iopub.status.idle": "2024-09-14T14:37:13.530621Z",
     "shell.execute_reply": "2024-09-14T14:37:13.530153Z",
     "shell.execute_reply.started": "2024-09-14T14:37:13.466507Z"
    }
   },
   "outputs": [
    {
     "data": {
      "text/html": [
       "<pre style=\"white-space:pre;overflow-x:auto;line-height:normal;font-family:Menlo,'DejaVu Sans Mono',consolas,'Courier New',monospace\"></pre>\n"
      ],
      "text/plain": []
     },
     "metadata": {},
     "output_type": "display_data"
    },
    {
     "data": {
      "text/plain": [
       "\n",
       "text      Shoppers have said they hope a council's plans\u001b[33m...\u001b[0m\n",
       "vector    \u001b[1m[\u001b[0m\u001b[1;36m-0.36013725\u001b[0m, \u001b[1;36m0.2258691\u001b[0m, \u001b[1;36m-0.62453365\u001b[0m, \u001b[1;36m0.441479\u001b[0m\u001b[33m...\u001b[0m\n",
       "index                                                     \u001b[1;36m0\u001b[0m\n",
       "title     Bedford Debenhams plan: 'We need a reason to c\u001b[33m...\u001b[0m\n",
       "url          \u001b[4;94mhttps://www.bbc.com/news/articles/clylqly0n28o\u001b[0m\n",
       "Name: \u001b[1;36m0\u001b[0m, dtype: object"
      ]
     },
     "execution_count": 15,
     "metadata": {},
     "output_type": "execute_result"
    }
   ],
   "source": [
    "table.to_pandas().iloc[0]"
   ]
  },
  {
   "cell_type": "markdown",
   "id": "3b9e9ac4-9364-475f-9886-49637f17f6b9",
   "metadata": {
    "execution": {
     "iopub.execute_input": "2024-09-14T14:37:24.605681Z",
     "iopub.status.busy": "2024-09-14T14:37:24.604962Z",
     "iopub.status.idle": "2024-09-14T14:37:24.614178Z",
     "shell.execute_reply": "2024-09-14T14:37:24.610649Z",
     "shell.execute_reply.started": "2024-09-14T14:37:24.605649Z"
    }
   },
   "source": [
    "## Querying LanceDB"
   ]
  },
  {
   "cell_type": "code",
   "execution_count": 17,
   "id": "c48ab980",
   "metadata": {
    "execution": {
     "iopub.execute_input": "2024-09-14T14:37:27.309620Z",
     "iopub.status.busy": "2024-09-14T14:37:27.309127Z",
     "iopub.status.idle": "2024-09-14T14:37:27.318884Z",
     "shell.execute_reply": "2024-09-14T14:37:27.318128Z",
     "shell.execute_reply.started": "2024-09-14T14:37:27.309590Z"
    }
   },
   "outputs": [],
   "source": [
    "from utils import view"
   ]
  },
  {
   "cell_type": "code",
   "execution_count": 18,
   "id": "08cca766",
   "metadata": {
    "execution": {
     "iopub.execute_input": "2024-09-14T14:37:28.772363Z",
     "iopub.status.busy": "2024-09-14T14:37:28.771890Z",
     "iopub.status.idle": "2024-09-14T14:37:28.886910Z",
     "shell.execute_reply": "2024-09-14T14:37:28.886601Z",
     "shell.execute_reply.started": "2024-09-14T14:37:28.772333Z"
    }
   },
   "outputs": [
    {
     "name": "stdout",
     "output_type": "stream",
     "text": [
      "\u001b[1m[\u001b[0m\n",
      "    \u001b[1;35mSchema\u001b[0m\u001b[1m(\u001b[0m\n",
      "        \u001b[33mtext\u001b[0m=\u001b[32m'\"The combination of Apple Intelligence and new camera features on the iPhone 16 will help spur \u001b[0m\n",
      "\u001b[32mupgrades from loyal Apple customers,\" he said. \"Particularly as Apple is positioning this latest update as being a \u001b[0m\n",
      "\u001b[32mfuture-proof purchase for customers wanting to get Apple Intelligence features as they roll out over the next few \u001b[0m\n",
      "\u001b[32myears.\"'\u001b[0m,\n",
      "        \u001b[33mvector\u001b[0m=\u001b[1;35mFixedSizeList\u001b[0m\u001b[1m(\u001b[0m\u001b[33mdim\u001b[0m=\u001b[1;36m1024\u001b[0m\u001b[1m)\u001b[0m,\n",
      "        \u001b[33mindex\u001b[0m=\u001b[1;36m1247\u001b[0m,\n",
      "        \u001b[33mtitle\u001b[0m=\u001b[32m'Apple banks on AI to boost sales of new iPhone 16 - BBC News'\u001b[0m,\n",
      "        \u001b[33murl\u001b[0m=\u001b[32m'https://www.bbc.com/news/articles/c8erzx2n3j7o'\u001b[0m\n",
      "    \u001b[1m)\u001b[0m,\n",
      "    \u001b[1;35mSchema\u001b[0m\u001b[1m(\u001b[0m\n",
      "        \u001b[33mtext\u001b[0m=\u001b[32m'Apple said its new phones, which come with longer lasting batteries, more powerful chips and enhanced\u001b[0m\n",
      "\u001b[32mprivacy features, were its first built specifically to handle AI and its new \"Apple Intelligence\" tools, many of \u001b[0m\n",
      "\u001b[32mwhich were announced in June. '\u001b[0m,\n",
      "        \u001b[33mvector\u001b[0m=\u001b[1;35mFixedSizeList\u001b[0m\u001b[1m(\u001b[0m\u001b[33mdim\u001b[0m=\u001b[1;36m1024\u001b[0m\u001b[1m)\u001b[0m,\n",
      "        \u001b[33mindex\u001b[0m=\u001b[1;36m1235\u001b[0m,\n",
      "        \u001b[33mtitle\u001b[0m=\u001b[32m'Apple banks on AI to boost sales of new iPhone 16 - BBC News'\u001b[0m,\n",
      "        \u001b[33murl\u001b[0m=\u001b[32m'https://www.bbc.com/news/articles/c8erzx2n3j7o'\u001b[0m\n",
      "    \u001b[1m)\u001b[0m,\n",
      "    \u001b[1;35mSchema\u001b[0m\u001b[1m(\u001b[0m\n",
      "        \u001b[33mtext\u001b[0m=\u001b[32m'The button is an external clue to the changes Apple said it had made inside its latest smartphone, \u001b[0m\n",
      "\u001b[32maimed at harnessing the latest in artificial intelligence \u001b[0m\u001b[32m(\u001b[0m\u001b[32mAI\u001b[0m\u001b[32m)\u001b[0m\u001b[32m.'\u001b[0m,\n",
      "        \u001b[33mvector\u001b[0m=\u001b[1;35mFixedSizeList\u001b[0m\u001b[1m(\u001b[0m\u001b[33mdim\u001b[0m=\u001b[1;36m1024\u001b[0m\u001b[1m)\u001b[0m,\n",
      "        \u001b[33mindex\u001b[0m=\u001b[1;36m1231\u001b[0m,\n",
      "        \u001b[33mtitle\u001b[0m=\u001b[32m'Apple banks on AI to boost sales of new iPhone 16 - BBC News'\u001b[0m,\n",
      "        \u001b[33murl\u001b[0m=\u001b[32m'https://www.bbc.com/news/articles/c8erzx2n3j7o'\u001b[0m\n",
      "    \u001b[1m)\u001b[0m\n",
      "\u001b[1m]\u001b[0m\n"
     ]
    },
    {
     "data": {
      "text/html": [
       "<pre style=\"white-space:pre;overflow-x:auto;line-height:normal;font-family:Menlo,'DejaVu Sans Mono',consolas,'Courier New',monospace\"></pre>\n"
      ],
      "text/plain": []
     },
     "metadata": {},
     "output_type": "display_data"
    }
   ],
   "source": [
    "rows = (table\n",
    "  .search(question)\n",
    "  .limit(3)\n",
    "  .to_pydantic(Schema)\n",
    ")\n",
    "\n",
    "view(rows)"
   ]
  },
  {
   "cell_type": "code",
   "execution_count": 19,
   "id": "ece2fc14",
   "metadata": {
    "execution": {
     "iopub.execute_input": "2024-09-14T14:37:30.788100Z",
     "iopub.status.busy": "2024-09-14T14:37:30.787696Z",
     "iopub.status.idle": "2024-09-14T14:37:30.796350Z",
     "shell.execute_reply": "2024-09-14T14:37:30.795101Z",
     "shell.execute_reply.started": "2024-09-14T14:37:30.788071Z"
    }
   },
   "outputs": [],
   "source": [
    "def extract_context(rows):\n",
    "  return sorted(\n",
    "    [\n",
    "      {\"title\": r.title, \"text\": r.text, \"index\": r.index} \n",
    "      for r in rows\n",
    "    ], \n",
    "    key=lambda x: x['index']\n",
    "  )"
   ]
  },
  {
   "cell_type": "code",
   "execution_count": 20,
   "id": "717c9de3",
   "metadata": {
    "execution": {
     "iopub.execute_input": "2024-09-14T14:37:32.519226Z",
     "iopub.status.busy": "2024-09-14T14:37:32.518514Z",
     "iopub.status.idle": "2024-09-14T14:37:32.544034Z",
     "shell.execute_reply": "2024-09-14T14:37:32.543078Z",
     "shell.execute_reply.started": "2024-09-14T14:37:32.519167Z"
    }
   },
   "outputs": [
    {
     "name": "stdout",
     "output_type": "stream",
     "text": [
      "\u001b[1m[\u001b[0m\n",
      "    \u001b[1m{\u001b[0m\n",
      "        \u001b[32m'title'\u001b[0m: \u001b[32m'Apple banks on AI to boost sales of new iPhone 16 - BBC News'\u001b[0m,\n",
      "        \u001b[32m'text'\u001b[0m: \u001b[32m'The button is an external clue to the changes Apple said it had made inside its latest smartphone,\u001b[0m\n",
      "\u001b[32maimed at harnessing the latest in artificial intelligence \u001b[0m\u001b[32m(\u001b[0m\u001b[32mAI\u001b[0m\u001b[32m)\u001b[0m\u001b[32m.'\u001b[0m,\n",
      "        \u001b[32m'index'\u001b[0m: \u001b[1;36m1231\u001b[0m\n",
      "    \u001b[1m}\u001b[0m,\n",
      "    \u001b[1m{\u001b[0m\n",
      "        \u001b[32m'title'\u001b[0m: \u001b[32m'Apple banks on AI to boost sales of new iPhone 16 - BBC News'\u001b[0m,\n",
      "        \u001b[32m'text'\u001b[0m: \u001b[32m'Apple said its new phones, which come with longer lasting batteries, more powerful chips and \u001b[0m\n",
      "\u001b[32menhanced privacy features, were its first built specifically to handle AI and its new \"Apple Intelligence\" tools, \u001b[0m\n",
      "\u001b[32mmany of which were announced in June. '\u001b[0m,\n",
      "        \u001b[32m'index'\u001b[0m: \u001b[1;36m1235\u001b[0m\n",
      "    \u001b[1m}\u001b[0m,\n",
      "    \u001b[1m{\u001b[0m\n",
      "        \u001b[32m'title'\u001b[0m: \u001b[32m'Apple banks on AI to boost sales of new iPhone 16 - BBC News'\u001b[0m,\n",
      "        \u001b[32m'text'\u001b[0m: \u001b[32m'\"The combination of Apple Intelligence and new camera features on the iPhone 16 will help spur \u001b[0m\n",
      "\u001b[32mupgrades from loyal Apple customers,\" he said. \"Particularly as Apple is positioning this latest update as being a \u001b[0m\n",
      "\u001b[32mfuture-proof purchase for customers wanting to get Apple Intelligence features as they roll out over the next few \u001b[0m\n",
      "\u001b[32myears.\"'\u001b[0m,\n",
      "        \u001b[32m'index'\u001b[0m: \u001b[1;36m1247\u001b[0m\n",
      "    \u001b[1m}\u001b[0m\n",
      "\u001b[1m]\u001b[0m\n"
     ]
    },
    {
     "data": {
      "text/html": [
       "<pre style=\"white-space:pre;overflow-x:auto;line-height:normal;font-family:Menlo,'DejaVu Sans Mono',consolas,'Courier New',monospace\"></pre>\n"
      ],
      "text/plain": []
     },
     "metadata": {},
     "output_type": "display_data"
    }
   ],
   "source": [
    "view(extract_context(rows))"
   ]
  },
  {
   "cell_type": "markdown",
   "id": "4f7f0113-9b7e-4104-a4d1-83aec9e6fd6d",
   "metadata": {
    "execution": {
     "iopub.execute_input": "2024-09-14T14:37:54.535737Z",
     "iopub.status.busy": "2024-09-14T14:37:54.535242Z",
     "iopub.status.idle": "2024-09-14T14:37:54.541662Z",
     "shell.execute_reply": "2024-09-14T14:37:54.540304Z",
     "shell.execute_reply.started": "2024-09-14T14:37:54.535706Z"
    }
   },
   "source": [
    "## Chatting with context"
   ]
  },
  {
   "cell_type": "code",
   "execution_count": 21,
   "id": "78e99e78",
   "metadata": {
    "execution": {
     "iopub.execute_input": "2024-09-14T14:37:34.774473Z",
     "iopub.status.busy": "2024-09-14T14:37:34.773183Z",
     "iopub.status.idle": "2024-09-14T14:37:34.788664Z",
     "shell.execute_reply": "2024-09-14T14:37:34.787903Z",
     "shell.execute_reply.started": "2024-09-14T14:37:34.774411Z"
    }
   },
   "outputs": [],
   "source": [
    "SYSTEM = \"\"\"\n",
    "You will receive paragraphs of text from a news article. \n",
    "Answer the subsequent question using that context.\n",
    "\"\"\""
   ]
  },
  {
   "cell_type": "code",
   "execution_count": 22,
   "id": "c65c9b7c",
   "metadata": {
    "execution": {
     "iopub.execute_input": "2024-09-14T14:37:37.120456Z",
     "iopub.status.busy": "2024-09-14T14:37:37.120029Z",
     "iopub.status.idle": "2024-09-14T14:37:39.064150Z",
     "shell.execute_reply": "2024-09-14T14:37:39.063758Z",
     "shell.execute_reply.started": "2024-09-14T14:37:37.120425Z"
    }
   },
   "outputs": [
    {
     "name": "stdout",
     "output_type": "stream",
     "text": [
      "According to the text, the new features of the iPhone include:\n",
      "\n",
      "1. Longer lasting batteries\n",
      "2. More powerful chips\n",
      "3. Enhanced privacy features\n",
      "4. A camera with enhanced features (specifically mentioned as being part of the combination that will help spur upgrades)"
     ]
    }
   ],
   "source": [
    "question = \"What were the iPhone's best new features\"\n",
    "rows = (table.search(question).limit(3).to_pydantic(Schema))\n",
    "context = extract_context(rows)\n",
    "stream = ollama.chat(\n",
    "  model=\"llama3.1\", stream=True,\n",
    "  messages = [\n",
    "    { \"role\": \"system\", 'content': SYSTEM},\n",
    "    { \"role\": \"user\", 'content': f\"Context: {context}\"},\n",
    "    { \"role\": \"user\", 'content': f\"Question: {question}\"}\n",
    "  ]\n",
    ")\n",
    "for chunk in stream:\n",
    "  print(chunk['message']['content'], end='', flush=True)"
   ]
  }
 ],
 "metadata": {
  "kernelspec": {
   "display_name": "Python 3 (ipykernel)",
   "language": "python",
   "name": "python3"
  },
  "language_info": {
   "codemirror_mode": {
    "name": "ipython",
    "version": 3
   },
   "file_extension": ".py",
   "mimetype": "text/x-python",
   "name": "python",
   "nbconvert_exporter": "python",
   "pygments_lexer": "ipython3",
   "version": "3.10.12"
  }
 },
 "nbformat": 4,
 "nbformat_minor": 5
}
