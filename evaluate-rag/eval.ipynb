{
 "cells": [
  {
   "cell_type": "markdown",
   "id": "93e325b8",
   "metadata": {},
   "source": [
    "# Evaluating retrieval in a RAG pipeline"
   ]
  },
  {
   "cell_type": "code",
   "execution_count": 1,
   "id": "90855bc0",
   "metadata": {
    "execution": {
     "iopub.execute_input": "2024-08-04T09:32:33.258028Z",
     "iopub.status.busy": "2024-08-04T09:32:33.257316Z",
     "iopub.status.idle": "2024-08-04T09:32:35.468073Z",
     "shell.execute_reply": "2024-08-04T09:32:35.467649Z",
     "shell.execute_reply.started": "2024-08-04T09:32:33.257986Z"
    }
   },
   "outputs": [],
   "source": [
    "from ranx import Qrels, Run, evaluate, compare"
   ]
  },
  {
   "cell_type": "code",
   "execution_count": 2,
   "id": "3a377f4b",
   "metadata": {
    "execution": {
     "iopub.execute_input": "2024-08-04T09:32:35.469589Z",
     "iopub.status.busy": "2024-08-04T09:32:35.469323Z",
     "iopub.status.idle": "2024-08-04T09:32:35.471891Z",
     "shell.execute_reply": "2024-08-04T09:32:35.471634Z",
     "shell.execute_reply.started": "2024-08-04T09:32:35.469572Z"
    }
   },
   "outputs": [],
   "source": [
    "qrels_dict = {\n",
    "  \"q_1\": { \"d_12\": 1 },\n",
    "  \"q_2\": { \"d_11\": 1 },\n",
    "  \"q_3\": { \"d_10\": 1 }\n",
    "}"
   ]
  },
  {
   "cell_type": "code",
   "execution_count": 3,
   "id": "2e49c4de",
   "metadata": {
    "execution": {
     "iopub.execute_input": "2024-08-04T09:32:35.472535Z",
     "iopub.status.busy": "2024-08-04T09:32:35.472417Z",
     "iopub.status.idle": "2024-08-04T09:32:36.461525Z",
     "shell.execute_reply": "2024-08-04T09:32:36.461053Z",
     "shell.execute_reply.started": "2024-08-04T09:32:35.472526Z"
    }
   },
   "outputs": [],
   "source": [
    "qrels = Qrels(qrels_dict)"
   ]
  },
  {
   "cell_type": "code",
   "execution_count": 4,
   "id": "9476d750",
   "metadata": {
    "execution": {
     "iopub.execute_input": "2024-08-04T09:32:36.462478Z",
     "iopub.status.busy": "2024-08-04T09:32:36.462279Z",
     "iopub.status.idle": "2024-08-04T09:32:36.465379Z",
     "shell.execute_reply": "2024-08-04T09:32:36.464640Z",
     "shell.execute_reply.started": "2024-08-04T09:32:36.462463Z"
    }
   },
   "outputs": [],
   "source": [
    "run1_dict = {\n",
    "  \"q_1\": { \"d_12\": 0.9, \"d_23\": 0.8, \"d_25\": 0.7 },\n",
    "  \"q_2\": { \"d_12\": 0.9, \"d_25\": 0.7, \"d_36\": 0.6},\n",
    "  \"q_3\": { \"d_10\": 1.0}\n",
    "}"
   ]
  },
  {
   "cell_type": "code",
   "execution_count": 5,
   "id": "ffda3756",
   "metadata": {
    "execution": {
     "iopub.execute_input": "2024-08-04T09:32:36.467313Z",
     "iopub.status.busy": "2024-08-04T09:32:36.467106Z",
     "iopub.status.idle": "2024-08-04T09:32:36.631047Z",
     "shell.execute_reply": "2024-08-04T09:32:36.626035Z",
     "shell.execute_reply.started": "2024-08-04T09:32:36.467301Z"
    }
   },
   "outputs": [],
   "source": [
    "run1 = Run(run1_dict)"
   ]
  },
  {
   "cell_type": "code",
   "execution_count": 6,
   "id": "e72024ec",
   "metadata": {
    "execution": {
     "iopub.execute_input": "2024-08-04T09:32:36.631760Z",
     "iopub.status.busy": "2024-08-04T09:32:36.631643Z",
     "iopub.status.idle": "2024-08-04T09:32:37.995353Z",
     "shell.execute_reply": "2024-08-04T09:32:37.995046Z",
     "shell.execute_reply.started": "2024-08-04T09:32:36.631750Z"
    }
   },
   "outputs": [
    {
     "data": {
      "text/html": [
       "<pre style=\"white-space:pre;overflow-x:auto;line-height:normal;font-family:Menlo,'DejaVu Sans Mono',consolas,'Courier New',monospace\"></pre>\n"
      ],
      "text/plain": []
     },
     "metadata": {},
     "output_type": "display_data"
    },
    {
     "data": {
      "text/plain": [
       "\u001b[1;35mnp.float64\u001b[0m\u001b[1m(\u001b[0m\u001b[1;36m0.6666666666666666\u001b[0m\u001b[1m)\u001b[0m"
      ]
     },
     "execution_count": 6,
     "metadata": {},
     "output_type": "execute_result"
    }
   ],
   "source": [
    "evaluate(qrels, run1, [\"hit_rate\"])"
   ]
  },
  {
   "cell_type": "code",
   "execution_count": 7,
   "id": "12e88a4c",
   "metadata": {
    "execution": {
     "iopub.execute_input": "2024-08-04T09:32:37.996135Z",
     "iopub.status.busy": "2024-08-04T09:32:37.995865Z",
     "iopub.status.idle": "2024-08-04T09:32:37.998648Z",
     "shell.execute_reply": "2024-08-04T09:32:37.998161Z",
     "shell.execute_reply.started": "2024-08-04T09:32:37.996115Z"
    }
   },
   "outputs": [],
   "source": [
    "run2_dict = {\n",
    "  \"q_1\": { \"d_32\": 0.5, \"d_35\": 0.4},\n",
    "  \"q_2\": { \"d_12\": 0.9, \"d_11\": 0.8, \"d_35\": 0.4},\n",
    "}"
   ]
  },
  {
   "cell_type": "code",
   "execution_count": 8,
   "id": "dd4eca7b",
   "metadata": {
    "execution": {
     "iopub.execute_input": "2024-08-04T09:32:37.999422Z",
     "iopub.status.busy": "2024-08-04T09:32:37.999257Z",
     "iopub.status.idle": "2024-08-04T09:32:38.001872Z",
     "shell.execute_reply": "2024-08-04T09:32:38.001512Z",
     "shell.execute_reply.started": "2024-08-04T09:32:37.999412Z"
    }
   },
   "outputs": [],
   "source": [
    "run2 = Run(run2_dict)"
   ]
  },
  {
   "cell_type": "code",
   "execution_count": 9,
   "id": "806dedda",
   "metadata": {
    "execution": {
     "iopub.execute_input": "2024-08-04T09:32:38.002479Z",
     "iopub.status.busy": "2024-08-04T09:32:38.002328Z",
     "iopub.status.idle": "2024-08-04T09:32:38.183676Z",
     "shell.execute_reply": "2024-08-04T09:32:38.182004Z",
     "shell.execute_reply.started": "2024-08-04T09:32:38.002467Z"
    }
   },
   "outputs": [
    {
     "ename": "AssertionError",
     "evalue": "Qrels and Run query ids do not match. Pass `make_comparable=True` to add empty results for queries missing from the run and remove those not appearing in qrels.",
     "output_type": "error",
     "traceback": [
      "\u001b[0;31m---------------------------------------------------------------------------\u001b[0m",
      "\u001b[0;31mAssertionError\u001b[0m                            Traceback (most recent call last)",
      "Cell \u001b[0;32mIn[9], line 1\u001b[0m\n\u001b[0;32m----> 1\u001b[0m \u001b[43mevaluate\u001b[49m\u001b[43m(\u001b[49m\u001b[43mqrels\u001b[49m\u001b[43m,\u001b[49m\u001b[43m \u001b[49m\u001b[43mrun2\u001b[49m\u001b[43m,\u001b[49m\u001b[43m \u001b[49m\u001b[43m[\u001b[49m\u001b[38;5;124;43m\"\u001b[39;49m\u001b[38;5;124;43mhit_rate\u001b[39;49m\u001b[38;5;124;43m\"\u001b[39;49m\u001b[43m]\u001b[49m\u001b[43m)\u001b[49m\n",
      "File \u001b[0;32m~/projects/learndatawithmark/evaluate-rag/.venv/lib/python3.12/site-packages/ranx/meta/evaluate.py:135\u001b[0m, in \u001b[0;36mevaluate\u001b[0;34m(qrels, run, metrics, return_mean, return_std, threads, save_results_in_run, make_comparable)\u001b[0m\n\u001b[1;32m    132\u001b[0m     run \u001b[38;5;241m=\u001b[39m run\u001b[38;5;241m.\u001b[39mmake_comparable(qrels)\n\u001b[1;32m    134\u001b[0m \u001b[38;5;28;01mif\u001b[39;00m \u001b[38;5;28mtype\u001b[39m(qrels) \u001b[38;5;129;01min\u001b[39;00m [Qrels, \u001b[38;5;28mdict\u001b[39m] \u001b[38;5;129;01mand\u001b[39;00m \u001b[38;5;28mtype\u001b[39m(run) \u001b[38;5;129;01min\u001b[39;00m [Run, \u001b[38;5;28mdict\u001b[39m]:\n\u001b[0;32m--> 135\u001b[0m     \u001b[43mcheck_keys\u001b[49m\u001b[43m(\u001b[49m\u001b[43mqrels\u001b[49m\u001b[43m,\u001b[49m\u001b[43m \u001b[49m\u001b[43mrun\u001b[49m\u001b[43m)\u001b[49m\n\u001b[1;32m    137\u001b[0m _qrels \u001b[38;5;241m=\u001b[39m convert_qrels(qrels)\n\u001b[1;32m    138\u001b[0m _run \u001b[38;5;241m=\u001b[39m convert_run(run)\n",
      "File \u001b[0;32m~/projects/learndatawithmark/evaluate-rag/.venv/lib/python3.12/site-packages/ranx/meta/evaluate.py:60\u001b[0m, in \u001b[0;36mcheck_keys\u001b[0;34m(qrels, run)\u001b[0m\n\u001b[1;32m     59\u001b[0m \u001b[38;5;28;01mdef\u001b[39;00m \u001b[38;5;21mcheck_keys\u001b[39m(qrels, run):\n\u001b[0;32m---> 60\u001b[0m     \u001b[38;5;28;01massert\u001b[39;00m (\n\u001b[1;32m     61\u001b[0m         qrels\u001b[38;5;241m.\u001b[39mkeys() \u001b[38;5;241m==\u001b[39m run\u001b[38;5;241m.\u001b[39mkeys()\n\u001b[1;32m     62\u001b[0m     ), \u001b[38;5;124m\"\u001b[39m\u001b[38;5;124mQrels and Run query ids do not match. Pass `make_comparable=True` to add empty results for queries missing from the run and remove those not appearing in qrels.\u001b[39m\u001b[38;5;124m\"\u001b[39m\n",
      "\u001b[0;31mAssertionError\u001b[0m: Qrels and Run query ids do not match. Pass `make_comparable=True` to add empty results for queries missing from the run and remove those not appearing in qrels."
     ]
    }
   ],
   "source": [
    "evaluate(qrels, run2, [\"hit_rate\"])"
   ]
  },
  {
   "cell_type": "code",
   "execution_count": 10,
   "id": "da436bbe",
   "metadata": {
    "execution": {
     "iopub.execute_input": "2024-08-04T09:32:42.783537Z",
     "iopub.status.busy": "2024-08-04T09:32:42.782625Z",
     "iopub.status.idle": "2024-08-04T09:32:43.047268Z",
     "shell.execute_reply": "2024-08-04T09:32:43.046779Z",
     "shell.execute_reply.started": "2024-08-04T09:32:42.783511Z"
    }
   },
   "outputs": [
    {
     "data": {
      "text/html": [
       "<pre style=\"white-space:pre;overflow-x:auto;line-height:normal;font-family:Menlo,'DejaVu Sans Mono',consolas,'Courier New',monospace\"></pre>\n"
      ],
      "text/plain": []
     },
     "metadata": {},
     "output_type": "display_data"
    },
    {
     "data": {
      "text/plain": [
       "\u001b[1;35mnp.float64\u001b[0m\u001b[1m(\u001b[0m\u001b[1;36m0.3333333333333333\u001b[0m\u001b[1m)\u001b[0m"
      ]
     },
     "execution_count": 10,
     "metadata": {},
     "output_type": "execute_result"
    }
   ],
   "source": [
    "evaluate(qrels, run2, [\"hit_rate\"], make_comparable=True)"
   ]
  },
  {
   "cell_type": "code",
   "execution_count": 11,
   "id": "cee355db",
   "metadata": {
    "execution": {
     "iopub.execute_input": "2024-08-04T09:32:50.864509Z",
     "iopub.status.busy": "2024-08-04T09:32:50.864024Z",
     "iopub.status.idle": "2024-08-04T09:32:50.890873Z",
     "shell.execute_reply": "2024-08-04T09:32:50.890331Z",
     "shell.execute_reply.started": "2024-08-04T09:32:50.864487Z"
    }
   },
   "outputs": [
    {
     "data": {
      "text/html": [
       "<pre style=\"white-space:pre;overflow-x:auto;line-height:normal;font-family:Menlo,'DejaVu Sans Mono',consolas,'Courier New',monospace\"></pre>\n"
      ],
      "text/plain": []
     },
     "metadata": {},
     "output_type": "display_data"
    },
    {
     "data": {
      "text/plain": [
       "\n",
       "#    Model      Hit Rate\n",
       "---  -------  ----------\n",
       "a    run_1         \u001b[1;36m0.667\u001b[0m\n",
       "b    run_2         \u001b[1;36m0.333\u001b[0m"
      ]
     },
     "execution_count": 11,
     "metadata": {},
     "output_type": "execute_result"
    }
   ],
   "source": [
    "compare(\n",
    "    qrels,\n",
    "    runs=[run1, run2],\n",
    "    metrics=[\"hit_rate\"],\n",
    ")"
   ]
  },
  {
   "cell_type": "markdown",
   "id": "da9eb04f",
   "metadata": {},
   "source": [
    "## Importing DuckDB database"
   ]
  },
  {
   "cell_type": "code",
   "execution_count": 12,
   "id": "52461f29",
   "metadata": {
    "execution": {
     "iopub.execute_input": "2024-08-04T09:32:50.892356Z",
     "iopub.status.busy": "2024-08-04T09:32:50.892143Z",
     "iopub.status.idle": "2024-08-04T09:32:51.026023Z",
     "shell.execute_reply": "2024-08-04T09:32:51.025635Z",
     "shell.execute_reply.started": "2024-08-04T09:32:50.892345Z"
    }
   },
   "outputs": [],
   "source": [
    "import duckdb"
   ]
  },
  {
   "cell_type": "code",
   "execution_count": 13,
   "id": "53bf996b",
   "metadata": {
    "execution": {
     "iopub.execute_input": "2024-08-04T09:32:51.026640Z",
     "iopub.status.busy": "2024-08-04T09:32:51.026547Z",
     "iopub.status.idle": "2024-08-04T09:32:51.034342Z",
     "shell.execute_reply": "2024-08-04T09:32:51.033692Z",
     "shell.execute_reply.started": "2024-08-04T09:32:51.026632Z"
    }
   },
   "outputs": [],
   "source": [
    "con = duckdb.connect(\"evaluate_rag.duckdb\")"
   ]
  },
  {
   "cell_type": "code",
   "execution_count": 14,
   "id": "bb037cd8",
   "metadata": {
    "execution": {
     "iopub.execute_input": "2024-08-04T09:32:51.035363Z",
     "iopub.status.busy": "2024-08-04T09:32:51.035176Z",
     "iopub.status.idle": "2024-08-04T09:32:51.084865Z",
     "shell.execute_reply": "2024-08-04T09:32:51.084303Z",
     "shell.execute_reply.started": "2024-08-04T09:32:51.035350Z"
    }
   },
   "outputs": [],
   "source": [
    "con.sql(\"INSTALL httpfs\")\n",
    "con.sql(\"LOAD httpfs\")"
   ]
  },
  {
   "cell_type": "code",
   "execution_count": 15,
   "id": "70de973a",
   "metadata": {
    "execution": {
     "iopub.execute_input": "2024-08-04T09:32:51.087027Z",
     "iopub.status.busy": "2024-08-04T09:32:51.086799Z",
     "iopub.status.idle": "2024-08-04T09:32:52.289854Z",
     "shell.execute_reply": "2024-08-04T09:32:52.289023Z",
     "shell.execute_reply.started": "2024-08-04T09:32:51.087016Z"
    }
   },
   "outputs": [],
   "source": [
    "con.sql(\"\"\"\n",
    "ATTACH IF NOT EXISTS\n",
    "'https://raw.githubusercontent.com/mneedham/LearnDataWithMark/main/evaluate-rag/olympics.duckdb' AS olympics\n",
    "\"\"\")"
   ]
  },
  {
   "cell_type": "code",
   "execution_count": 16,
   "id": "c40e9000",
   "metadata": {
    "execution": {
     "iopub.execute_input": "2024-08-04T09:32:52.293206Z",
     "iopub.status.busy": "2024-08-04T09:32:52.292743Z",
     "iopub.status.idle": "2024-08-04T09:32:52.312224Z",
     "shell.execute_reply": "2024-08-04T09:32:52.311252Z",
     "shell.execute_reply.started": "2024-08-04T09:32:52.293185Z"
    }
   },
   "outputs": [],
   "source": [
    "con.sql(\"USE olympics\")"
   ]
  },
  {
   "cell_type": "code",
   "execution_count": 17,
   "id": "bd7c3a92",
   "metadata": {
    "execution": {
     "iopub.execute_input": "2024-08-04T09:32:52.314278Z",
     "iopub.status.busy": "2024-08-04T09:32:52.313892Z",
     "iopub.status.idle": "2024-08-04T09:32:52.339608Z",
     "shell.execute_reply": "2024-08-04T09:32:52.339260Z",
     "shell.execute_reply.started": "2024-08-04T09:32:52.314255Z"
    }
   },
   "outputs": [
    {
     "data": {
      "text/html": [
       "<pre style=\"white-space:pre;overflow-x:auto;line-height:normal;font-family:Menlo,'DejaVu Sans Mono',consolas,'Courier New',monospace\"></pre>\n"
      ],
      "text/plain": []
     },
     "metadata": {},
     "output_type": "display_data"
    },
    {
     "data": {
      "text/plain": [
       "\n",
       "┌─────────────┬─────────────┬─────────┬─────────┬─────────┬─────────┐\n",
       "│ column_name │ column_type │  null   │   key   │ default │  extra  │\n",
       "│   varchar   │   varchar   │ varchar │ varchar │ varchar │ varchar │\n",
       "├─────────────┼─────────────┼─────────┼─────────┼─────────┼─────────┤\n",
       "│ index       │ BIGINT      │ YES     │ NULL    │ NULL    │ NULL    │\n",
       "│ embeddings  │ FLOAT\u001b[1m[\u001b[0m\u001b[1;36m1024\u001b[0m\u001b[1m]\u001b[0m │ YES     │ NULL    │ NULL    │ NULL    │\n",
       "│ text        │ VARCHAR     │ YES     │ NULL    │ NULL    │ NULL    │\n",
       "│ url         │ VARCHAR     │ YES     │ NULL    │ NULL    │ NULL    │\n",
       "│ title       │ VARCHAR     │ YES     │ NULL    │ NULL    │ NULL    │\n",
       "└─────────────┴─────────────┴─────────┴─────────┴─────────┴─────────┘"
      ]
     },
     "execution_count": 17,
     "metadata": {},
     "output_type": "execute_result"
    }
   ],
   "source": [
    "con.sql(\"DESCRIBE olympics\")"
   ]
  },
  {
   "cell_type": "code",
   "execution_count": 18,
   "id": "1dea5f5d",
   "metadata": {
    "execution": {
     "iopub.execute_input": "2024-08-04T09:32:52.340304Z",
     "iopub.status.busy": "2024-08-04T09:32:52.340198Z",
     "iopub.status.idle": "2024-08-04T09:32:52.407493Z",
     "shell.execute_reply": "2024-08-04T09:32:52.407142Z",
     "shell.execute_reply.started": "2024-08-04T09:32:52.340294Z"
    }
   },
   "outputs": [
    {
     "data": {
      "text/html": [
       "<pre style=\"white-space:pre;overflow-x:auto;line-height:normal;font-family:Menlo,'DejaVu Sans Mono',consolas,'Courier New',monospace\"></pre>\n"
      ],
      "text/plain": []
     },
     "metadata": {},
     "output_type": "display_data"
    },
    {
     "data": {
      "text/plain": [
       "\n",
       "┌───────┬──────────────────────────────────────────────────────────────────────────────────────────────────────────────┐\n",
       "│ index │                                                     text                                                     │\n",
       "│ int64 │                                                   varchar                                                    │\n",
       "├───────┼──────────────────────────────────────────────────────────────────────────────────────────────────────────────┤\n",
       "│     \u001b[1;36m0\u001b[0m │ The \u001b[1;36m2024\u001b[0m Olympics opened in Paris in spectacular style with thousands of athletes sailing along the River …  │\n",
       "│     \u001b[1;36m1\u001b[0m │ Swapping a stadium for a waterway for the first time to open the \u001b[32m\"greatest show on Earth\"\u001b[0m, the near four-h…  │\n",
       "│     \u001b[1;36m2\u001b[0m │ Blue, white and red fireworks had raised the Tricolore above Austerlitz Bridge before \u001b[1;36m6\u001b[0m,\u001b[1;36m800\u001b[0m athletes from …  │\n",
       "│     \u001b[1;36m3\u001b[0m │ There were surprise performances through the ceremony, including a cabaret number from US singer-songwrite…  │\n",
       "│     \u001b[1;36m4\u001b[0m │ The day had started with major disruption when the French train network was hit by arson attacks and heavy…  │\n",
       "│     \u001b[1;36m5\u001b[0m │ The lashing rain may have forced athletes to add rain ponchos and umbrellas to their planned outfits but i…  │\n",
       "│     \u001b[1;36m6\u001b[0m │ The last two boats to parade - first the US as the next hosts for Los Angeles \u001b[1;36m2028\u001b[0m and then France - had t…  │\n",
       "│     \u001b[1;36m7\u001b[0m │ Rower Helen Glover and diver Tom Daley were Great Britain's flagbearers in Paris, which is hosting the sum…  │\n",
       "│     \u001b[1;36m8\u001b[0m │ In opening the 33rd summer Olympics, which are taking part against a difficult international and domestic …  │\n",
       "│     \u001b[1;36m9\u001b[0m │ More than \u001b[1;36m10\u001b[0m,\u001b[1;36m500\u001b[0m athletes will compete across \u001b[1;36m32\u001b[0m sports at the Games, which will close on \u001b[1;36m11\u001b[0m August.         │\n",
       "├───────┴──────────────────────────────────────────────────────────────────────────────────────────────────────────────┤\n",
       "│ \u001b[1;36m10\u001b[0m rows                                                                                                    \u001b[1;36m2\u001b[0m columns │\n",
       "└──────────────────────────────────────────────────────────────────────────────────────────────────────────────────────┘"
      ]
     },
     "execution_count": 18,
     "metadata": {},
     "output_type": "execute_result"
    }
   ],
   "source": [
    "con.sql(\"SELECT index, text FROM olympics LIMIT 10\")"
   ]
  },
  {
   "cell_type": "markdown",
   "id": "0461b9b5",
   "metadata": {},
   "source": [
    "## Evaluating against real questions"
   ]
  },
  {
   "cell_type": "code",
   "execution_count": 19,
   "id": "df582978",
   "metadata": {
    "execution": {
     "iopub.execute_input": "2024-08-04T09:32:52.408595Z",
     "iopub.status.busy": "2024-08-04T09:32:52.408321Z",
     "iopub.status.idle": "2024-08-04T09:32:53.468368Z",
     "shell.execute_reply": "2024-08-04T09:32:53.467857Z",
     "shell.execute_reply.started": "2024-08-04T09:32:52.408583Z"
    }
   },
   "outputs": [],
   "source": [
    "qrels = Qrels.from_file(\"data/questions.json\")"
   ]
  },
  {
   "cell_type": "code",
   "execution_count": 20,
   "id": "dcc41ea3",
   "metadata": {
    "execution": {
     "iopub.execute_input": "2024-08-04T09:32:53.469612Z",
     "iopub.status.busy": "2024-08-04T09:32:53.469452Z",
     "iopub.status.idle": "2024-08-04T09:32:53.581670Z",
     "shell.execute_reply": "2024-08-04T09:32:53.581144Z",
     "shell.execute_reply.started": "2024-08-04T09:32:53.469601Z"
    }
   },
   "outputs": [],
   "source": [
    "from search import Search\n",
    "s = Search(con)"
   ]
  },
  {
   "cell_type": "code",
   "execution_count": 21,
   "id": "46af986c",
   "metadata": {
    "execution": {
     "iopub.execute_input": "2024-08-04T09:32:53.582813Z",
     "iopub.status.busy": "2024-08-04T09:32:53.582484Z",
     "iopub.status.idle": "2024-08-04T09:32:53.585705Z",
     "shell.execute_reply": "2024-08-04T09:32:53.585028Z",
     "shell.execute_reply.started": "2024-08-04T09:32:53.582801Z"
    }
   },
   "outputs": [],
   "source": [
    "functions = [\n",
    "  (s.fts, \"Full-Text\"), \n",
    "  (s.vector_search, \"Vector\"), \n",
    "  (s.hybrid, \"Hybrid\")\n",
    "]"
   ]
  },
  {
   "cell_type": "code",
   "execution_count": 22,
   "id": "dc44ca9a",
   "metadata": {
    "execution": {
     "iopub.execute_input": "2024-08-04T09:32:53.586898Z",
     "iopub.status.busy": "2024-08-04T09:32:53.586555Z",
     "iopub.status.idle": "2024-08-04T09:32:53.589969Z",
     "shell.execute_reply": "2024-08-04T09:32:53.589536Z",
     "shell.execute_reply.started": "2024-08-04T09:32:53.586887Z"
    }
   },
   "outputs": [],
   "source": [
    "def create_run(qrels, retrieval_fn, name):\n",
    "  run_dict = {\n",
    "    question: {\n",
    "      str(index): score\n",
    "      for index, score in (retrieval_fn(question)\n",
    "                            .select(\"index, score\")\n",
    "                            .fetchall()\n",
    "                          )\n",
    "    }\n",
    "    for question in qrels.to_dict()\n",
    "  }\n",
    "  return Run(run_dict, name=name)"
   ]
  },
  {
   "cell_type": "code",
   "execution_count": 23,
   "id": "3cd2f834",
   "metadata": {
    "execution": {
     "iopub.execute_input": "2024-08-04T09:32:53.590837Z",
     "iopub.status.busy": "2024-08-04T09:32:53.590606Z",
     "iopub.status.idle": "2024-08-04T09:33:00.896105Z",
     "shell.execute_reply": "2024-08-04T09:33:00.891632Z",
     "shell.execute_reply.started": "2024-08-04T09:32:53.590826Z"
    }
   },
   "outputs": [],
   "source": [
    "runs = [\n",
    "   create_run(qrels, fn, name)\n",
    "   for fn, name in functions\n",
    "]"
   ]
  },
  {
   "cell_type": "code",
   "execution_count": 24,
   "id": "78e78548",
   "metadata": {
    "execution": {
     "iopub.execute_input": "2024-08-04T09:33:00.898793Z",
     "iopub.status.busy": "2024-08-04T09:33:00.898603Z",
     "iopub.status.idle": "2024-08-04T09:33:01.278889Z",
     "shell.execute_reply": "2024-08-04T09:33:01.278569Z",
     "shell.execute_reply.started": "2024-08-04T09:33:00.898778Z"
    }
   },
   "outputs": [
    {
     "data": {
      "text/html": [
       "<pre style=\"white-space:pre;overflow-x:auto;line-height:normal;font-family:Menlo,'DejaVu Sans Mono',consolas,'Courier New',monospace\"></pre>\n"
      ],
      "text/plain": []
     },
     "metadata": {},
     "output_type": "display_data"
    },
    {
     "data": {
      "text/plain": [
       "\n",
       "#    Model        Hit Rate\n",
       "---  ---------  ----------\n",
       "a    Full-Text        \u001b[1;36m0.7\u001b[0m\n",
       "b    Vector           \u001b[1;36m0.75\u001b[0m\n",
       "c    Hybrid           \u001b[1;36m0.9\u001b[0m"
      ]
     },
     "execution_count": 24,
     "metadata": {},
     "output_type": "execute_result"
    }
   ],
   "source": [
    "compare(\n",
    "    qrels,\n",
    "    runs=runs,\n",
    "    metrics=[\"hit_rate\"],\n",
    ")"
   ]
  },
  {
   "cell_type": "code",
   "execution_count": 25,
   "id": "ac0094eb",
   "metadata": {
    "execution": {
     "iopub.execute_input": "2024-08-04T09:33:01.279434Z",
     "iopub.status.busy": "2024-08-04T09:33:01.279349Z",
     "iopub.status.idle": "2024-08-04T09:33:01.281437Z",
     "shell.execute_reply": "2024-08-04T09:33:01.281121Z",
     "shell.execute_reply.started": "2024-08-04T09:33:01.279425Z"
    }
   },
   "outputs": [],
   "source": [
    "from rich.table import Table\n",
    "from rich.console import Console\n",
    "c = Console()"
   ]
  },
  {
   "cell_type": "markdown",
   "id": "cbd83afc",
   "metadata": {},
   "source": [
    "## Which ones did we get wrong?"
   ]
  },
  {
   "cell_type": "code",
   "execution_count": 26,
   "id": "b4179c75",
   "metadata": {
    "execution": {
     "iopub.execute_input": "2024-08-04T09:33:01.282368Z",
     "iopub.status.busy": "2024-08-04T09:33:01.282220Z",
     "iopub.status.idle": "2024-08-04T09:33:01.286622Z",
     "shell.execute_reply": "2024-08-04T09:33:01.285869Z",
     "shell.execute_reply.started": "2024-08-04T09:33:01.282356Z"
    }
   },
   "outputs": [],
   "source": [
    "table = Table(title=\"Comparing Retrieval Techniques\")\n",
    "table.add_column(\"Question\")\n",
    "for run in runs:\n",
    "  table.add_column(run.name, justify=\"center\")\n",
    "\n",
    "cols = [col.header for col in table.columns][1:]\n",
    "for question in qrels.to_dict():\n",
    "  row = [question]\n",
    "  for col in cols:\n",
    "    selected_run = [r for r in runs if r.name == col][0]\n",
    "    score = selected_run.scores['hit_rate'][question]\n",
    "    row.append(\"✅\" if score == 1.0 else \"❌\")\n",
    "  table.add_row(*row)"
   ]
  },
  {
   "cell_type": "code",
   "execution_count": 27,
   "id": "2b5b380d",
   "metadata": {
    "execution": {
     "iopub.execute_input": "2024-08-04T09:33:01.287346Z",
     "iopub.status.busy": "2024-08-04T09:33:01.287161Z",
     "iopub.status.idle": "2024-08-04T09:33:01.296474Z",
     "shell.execute_reply": "2024-08-04T09:33:01.296047Z",
     "shell.execute_reply.started": "2024-08-04T09:33:01.287336Z"
    }
   },
   "outputs": [
    {
     "name": "stdout",
     "output_type": "stream",
     "text": [
      "\u001b[3m                            Comparing Retrieval Techniques                            \u001b[0m\n",
      "┏━━━━━━━━━━━━━━━━━━━━━━━━━━━━━━━━━━━━━━━━━━━━━━━━━━━━━━┳━━━━━━━━━━━┳━━━━━━━━┳━━━━━━━━┓\n",
      "┃\u001b[1m \u001b[0m\u001b[1mQuestion                                            \u001b[0m\u001b[1m \u001b[0m┃\u001b[1m \u001b[0m\u001b[1mFull-Text\u001b[0m\u001b[1m \u001b[0m┃\u001b[1m \u001b[0m\u001b[1mVector\u001b[0m\u001b[1m \u001b[0m┃\u001b[1m \u001b[0m\u001b[1mHybrid\u001b[0m\u001b[1m \u001b[0m┃\n",
      "┡━━━━━━━━━━━━━━━━━━━━━━━━━━━━━━━━━━━━━━━━━━━━━━━━━━━━━━╇━━━━━━━━━━━╇━━━━━━━━╇━━━━━━━━┩\n",
      "│ How many competitors are there?                      │    ❌     │   ✅   │   ✅   │\n",
      "│ How many medals will be won on Saturday?             │    ✅     │   ✅   │   ✅   │\n",
      "│ How many times has Paris hosted the Olympic games?   │    ✅     │   ✅   │   ✅   │\n",
      "│ What colors were the fireworks during the ceremony?  │    ✅     │   ✅   │   ✅   │\n",
      "│ What started the day of the opening ceremony?        │    ✅     │   ❌   │   ❌   │\n",
      "│ What things went wrong?                              │    ❌     │   ❌   │   ❌   │\n",
      "│ What was Serena's role?                              │    ✅     │   ✅   │   ✅   │\n",
      "│ What was the weather like?                           │    ✅     │   ✅   │   ✅   │\n",
      "│ What was unique about the location for the ceremony? │    ❌     │   ✅   │   ✅   │\n",
      "│ Where are opening ceremonies usually held?           │    ✅     │   ✅   │   ✅   │\n",
      "│ Where are they playing the tennis?                   │    ✅     │   ✅   │   ✅   │\n",
      "│ Where did the opening ceremony end?                  │    ✅     │   ❌   │   ✅   │\n",
      "│ Where did the opening ceremony take place?           │    ✅     │   ✅   │   ✅   │\n",
      "│ Where was the last games held?                       │    ✅     │   ✅   │   ✅   │\n",
      "│ Which number Olympics is this?                       │    ❌     │   ❌   │   ✅   │\n",
      "│ Who did Zidane hand the flame to?                    │    ✅     │   ✅   │   ✅   │\n",
      "│ Who is banned from the Olympics?                     │    ✅     │   ✅   │   ✅   │\n",
      "│ Who received significant applause?                   │    ❌     │   ✅   │   ✅   │\n",
      "│ Who was the oldest athlete?                          │    ❌     │   ❌   │   ✅   │\n",
      "│ Why were there concerns about the Seine?             │    ✅     │   ✅   │   ✅   │\n",
      "└──────────────────────────────────────────────────────┴───────────┴────────┴────────┘\n"
     ]
    },
    {
     "data": {
      "text/html": [
       "<pre style=\"white-space:pre;overflow-x:auto;line-height:normal;font-family:Menlo,'DejaVu Sans Mono',consolas,'Courier New',monospace\"></pre>\n"
      ],
      "text/plain": []
     },
     "metadata": {},
     "output_type": "display_data"
    }
   ],
   "source": [
    "with c.pager(styles=True):\n",
    "  c.print(table)"
   ]
  },
  {
   "cell_type": "markdown",
   "id": "d4b023de",
   "metadata": {},
   "source": [
    "## What wrong answers did we return?"
   ]
  },
  {
   "cell_type": "code",
   "execution_count": 28,
   "id": "bc32f40a",
   "metadata": {
    "execution": {
     "iopub.execute_input": "2024-08-04T09:33:01.297477Z",
     "iopub.status.busy": "2024-08-04T09:33:01.297254Z",
     "iopub.status.idle": "2024-08-04T09:33:01.300773Z",
     "shell.execute_reply": "2024-08-04T09:33:01.299991Z",
     "shell.execute_reply.started": "2024-08-04T09:33:01.297462Z"
    }
   },
   "outputs": [],
   "source": [
    "def get_text(ids):\n",
    "  result = con.sql(\"\"\"SELECT text\n",
    "      FROM olympics \n",
    "      WHERE list_contains($ids::BIGINT[], index)\n",
    "      \"\"\", \n",
    "      params={\"ids\": ids}\n",
    "  )\n",
    "  return [row[0] for row in result.fetchall()]"
   ]
  },
  {
   "cell_type": "code",
   "execution_count": 29,
   "id": "8635c132",
   "metadata": {
    "execution": {
     "iopub.execute_input": "2024-08-04T09:33:01.301767Z",
     "iopub.status.busy": "2024-08-04T09:33:01.301574Z",
     "iopub.status.idle": "2024-08-04T09:33:01.698206Z",
     "shell.execute_reply": "2024-08-04T09:33:01.697915Z",
     "shell.execute_reply.started": "2024-08-04T09:33:01.301753Z"
    }
   },
   "outputs": [
    {
     "name": "stdout",
     "output_type": "stream",
     "text": [
      "\u001b[1mWhat started the day of the opening ceremony?\u001b[0m\n",
      "\u001b[3;32mCorrect Answer\u001b[0m\n",
      "\u001b[32mThe day had started with major disruption when the French train network was hit by arson attacks and heavy rain in \u001b[0m\n",
      "\u001b[32mthe evening put paid to the original plan by artistic director Thomas Jolly to use the Parisian sun to \u001b[0m\u001b[32m\"make the \u001b[0m\n",
      "\u001b[32mwater sparkle\"\u001b[0m\u001b[32m. \u001b[0m\n",
      "\u001b[3;33mRun Answer\u001b[0m\n",
      "\u001b[33mThe \u001b[0m\u001b[1;36m2024\u001b[0m\u001b[33m Olympics opened in Paris in spectacular style with thousands of athletes sailing along the River Seine \u001b[0m\n",
      "\u001b[33mpast lively performers on bridges, banks and rooftops in an ambitious take on an opening ceremony.   \u001b[0m\n",
      "\u001b[33mGiven the miserable weather after what had been a sunny week in Paris until now, it seemed fitting that the \u001b[0m\n",
      "\u001b[33mstoryline at the start of the ceremony was about the arrival of the Olympic flame in Paris not going according to \u001b[0m\n",
      "\u001b[33mplan.\u001b[0m\n",
      "\u001b[33mThe peace anthem, part of all Olympic opening ceremonies, is aligned with the message of unity and tolerance \u001b[0m\n",
      "\u001b[33mconveyed by the Games. \u001b[0m\n",
      "\n",
      "\u001b[1mWhat things went wrong?\u001b[0m\n",
      "\u001b[3;32mCorrect Answer\u001b[0m\n",
      "\u001b[32mThe torchbearer did not get the memo about it not being in the Stade de France, and then Zinedine Zidane's metro \u001b[0m\n",
      "\u001b[32mtrain broke down while he was transporting the torch.\u001b[0m\n",
      "\u001b[3;33mRun Answer\u001b[0m\n",
      "\u001b[33mAt times it was bizarre - one moment Lady Gaga surrounded by pink and black feathers was singing in French, the \u001b[0m\n",
      "\u001b[33mnext Bangladesh's athletes were being introduced on their boat. \u001b[0m\n",
      "\u001b[33mA lot of the time it was brilliantly frenetic and occasionally emotional. \u001b[0m\n",
      "\u001b[33mGiven the miserable weather after what had been a sunny week in Paris until now, it seemed fitting that the \u001b[0m\n",
      "\u001b[33mstoryline at the start of the ceremony was about the arrival of the Olympic flame in Paris not going according to \u001b[0m\n",
      "\u001b[33mplan.\u001b[0m\n",
      "\n"
     ]
    },
    {
     "data": {
      "text/html": [
       "<pre style=\"white-space:pre;overflow-x:auto;line-height:normal;font-family:Menlo,'DejaVu Sans Mono',consolas,'Courier New',monospace\"></pre>\n"
      ],
      "text/plain": []
     },
     "metadata": {},
     "output_type": "display_data"
    }
   ],
   "source": [
    "run = [r for r in runs if r.name == \"Hybrid\"][0]\n",
    "with c.pager(styles=True):\n",
    "  for question, score in run.scores['hit_rate'].items():\n",
    "    if score == 0.0:\n",
    "      c.print(question, style=\"bold\")\n",
    "\n",
    "      correct_ids = list(qrels.to_dict()[question])\n",
    "      c.print(\"Correct Answer\", style=\"Green italic\")\n",
    "      c.print(\"\\n\".join(get_text(correct_ids)), style=\"Green\")\n",
    "\n",
    "      answer_ids = list(run.to_dict()[question])      \n",
    "      c.print(\"Run Answer\", style=\"Yellow italic\")\n",
    "      c.print(\"\\n\".join(get_text(answer_ids)) or \"None\", style=\"Yellow\")\n",
    "\n",
    "      c.print()"
   ]
  }
 ],
 "metadata": {
  "kernelspec": {
   "display_name": "Python 3 (ipykernel)",
   "language": "python",
   "name": "python3"
  },
  "language_info": {
   "codemirror_mode": {
    "name": "ipython",
    "version": 3
   },
   "file_extension": ".py",
   "mimetype": "text/x-python",
   "name": "python",
   "nbconvert_exporter": "python",
   "pygments_lexer": "ipython3",
   "version": "3.12.2"
  },
  "widgets": {
   "application/vnd.jupyter.widget-state+json": {
    "state": {},
    "version_major": 2,
    "version_minor": 0
   }
  }
 },
 "nbformat": 4,
 "nbformat_minor": 5
}
