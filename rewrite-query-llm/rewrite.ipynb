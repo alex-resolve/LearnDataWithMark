{
 "cells": [
  {
   "cell_type": "markdown",
   "id": "221774d4-efbc-4898-90a9-b1fb317eeecc",
   "metadata": {
    "execution": {
     "iopub.execute_input": "2024-09-01T20:54:58.334189Z",
     "iopub.status.busy": "2024-09-01T20:54:58.333130Z",
     "iopub.status.idle": "2024-09-01T20:54:58.357326Z",
     "shell.execute_reply": "2024-09-01T20:54:58.356885Z",
     "shell.execute_reply.started": "2024-09-01T20:54:58.334158Z"
    }
   },
   "source": [
    "# Rewriting queries with OpenAI Structured Outputs"
   ]
  },
  {
   "cell_type": "code",
   "execution_count": 1,
   "id": "cfe039b1",
   "metadata": {
    "execution": {
     "iopub.execute_input": "2024-09-01T20:53:16.688668Z",
     "iopub.status.busy": "2024-09-01T20:53:16.688318Z",
     "iopub.status.idle": "2024-09-01T20:53:16.708231Z",
     "shell.execute_reply": "2024-09-01T20:53:16.707709Z",
     "shell.execute_reply.started": "2024-09-01T20:53:16.688634Z"
    }
   },
   "outputs": [],
   "source": [
    "query = \"How do I keep my plants alive while I'm on holiday?\""
   ]
  },
  {
   "cell_type": "code",
   "execution_count": 2,
   "id": "8cefd487",
   "metadata": {
    "execution": {
     "iopub.execute_input": "2024-09-01T20:53:17.840302Z",
     "iopub.status.busy": "2024-09-01T20:53:17.839849Z",
     "iopub.status.idle": "2024-09-01T20:53:17.910445Z",
     "shell.execute_reply": "2024-09-01T20:53:17.910084Z",
     "shell.execute_reply.started": "2024-09-01T20:53:17.840285Z"
    }
   },
   "outputs": [],
   "source": [
    "from pydantic import BaseModel\n",
    "\n",
    "class RewrittenQuery(BaseModel):\n",
    "  initial_query: str\n",
    "  new_query: str"
   ]
  },
  {
   "cell_type": "code",
   "execution_count": 3,
   "id": "327f2ee2",
   "metadata": {
    "execution": {
     "iopub.execute_input": "2024-09-01T20:53:18.908146Z",
     "iopub.status.busy": "2024-09-01T20:53:18.904416Z",
     "iopub.status.idle": "2024-09-01T20:53:19.087548Z",
     "shell.execute_reply": "2024-09-01T20:53:19.087205Z",
     "shell.execute_reply.started": "2024-09-01T20:53:18.908110Z"
    }
   },
   "outputs": [],
   "source": [
    "from openai import OpenAI\n",
    "client = OpenAI()"
   ]
  },
  {
   "cell_type": "code",
   "execution_count": 4,
   "id": "5dcc48b8",
   "metadata": {
    "execution": {
     "iopub.execute_input": "2024-09-01T20:53:20.008450Z",
     "iopub.status.busy": "2024-09-01T20:53:20.008054Z",
     "iopub.status.idle": "2024-09-01T20:53:20.031977Z",
     "shell.execute_reply": "2024-09-01T20:53:20.031290Z",
     "shell.execute_reply.started": "2024-09-01T20:53:20.008429Z"
    }
   },
   "outputs": [
    {
     "name": "stdout",
     "output_type": "stream",
     "text": [
      "\n",
      "You are an expert in query expansion and natural language processing. \n",
      "Your task is to generate an optimized search query based on the user's input query. \n",
      "Follow these guidelines:\n",
      "\n",
      "\u001b[1;36m1\u001b[0m. Analyze the input query for key concepts and intent.\n",
      "\u001b[1;36m2\u001b[0m. Identify any ambiguous terms or phrases that could be clarified.\n",
      "\u001b[1;36m3\u001b[0m. Consider common synonyms, related terms, and alternative phrasings to improve the search.\n",
      "\u001b[1;36m4\u001b[0m. If applicable, expand acronyms or abbreviations.\n",
      "\u001b[1;36m5\u001b[0m. Incorporate any relevant context or domain-specific knowledge.\n",
      "\u001b[1;36m6\u001b[0m. Ensure the expanded query maintains the original intent of the user's question.\n",
      "\u001b[1;36m7\u001b[0m. Prioritize clarity and specificity in the rewritten query.\n",
      "\u001b[1;36m8\u001b[0m. If the original query is already optimal, you may return it unchanged.\n",
      "\n",
      "Your goal is to produce a single, refined query that will return the best search results. \n",
      "The rewritten query should be a natural language question or statement, not a list of keywords.\n",
      "\n"
     ]
    },
    {
     "data": {
      "text/html": [
       "<pre style=\"white-space:pre;overflow-x:auto;line-height:normal;font-family:Menlo,'DejaVu Sans Mono',consolas,'Courier New',monospace\"></pre>\n"
      ],
      "text/plain": []
     },
     "metadata": {},
     "output_type": "display_data"
    }
   ],
   "source": [
    "from utils import view, SYSTEM_REWRITE\n",
    "\n",
    "view(SYSTEM_REWRITE)"
   ]
  },
  {
   "cell_type": "code",
   "execution_count": 5,
   "id": "248f2723",
   "metadata": {
    "execution": {
     "iopub.execute_input": "2024-09-01T20:53:21.251842Z",
     "iopub.status.busy": "2024-09-01T20:53:21.243232Z",
     "iopub.status.idle": "2024-09-01T20:53:22.428676Z",
     "shell.execute_reply": "2024-09-01T20:53:22.428411Z",
     "shell.execute_reply.started": "2024-09-01T20:53:21.251798Z"
    }
   },
   "outputs": [],
   "source": [
    "completion = client.beta.chat.completions.parse(    \n",
    "  model=\"gpt-4o-2024-08-06\",\n",
    "  messages=[\n",
    "    {\"role\": \"system\", \"content\": SYSTEM_REWRITE},\n",
    "    {\"role\": \"user\", \"content\": query},\n",
    "  ],\n",
    "  response_format=RewrittenQuery,\n",
    ")"
   ]
  },
  {
   "cell_type": "code",
   "execution_count": 6,
   "id": "5d003c31",
   "metadata": {
    "execution": {
     "iopub.execute_input": "2024-09-01T20:53:25.404923Z",
     "iopub.status.busy": "2024-09-01T20:53:25.404303Z",
     "iopub.status.idle": "2024-09-01T20:53:25.424364Z",
     "shell.execute_reply": "2024-09-01T20:53:25.424092Z",
     "shell.execute_reply.started": "2024-09-01T20:53:25.404901Z"
    }
   },
   "outputs": [
    {
     "name": "stdout",
     "output_type": "stream",
     "text": [
      "ParsedChatCompletion\u001b[1m[\u001b[0mRewrittenQuery\u001b[1m]\u001b[0m\u001b[1m(\u001b[0m\n",
      "    \u001b[33mid\u001b[0m=\u001b[32m'chatcmpl-A2lrV6Y5T834K0DCmJdXMRTjSUY0F'\u001b[0m,\n",
      "    \u001b[33mchoices\u001b[0m=\u001b[1m[\u001b[0m\n",
      "        ParsedChoice\u001b[1m[\u001b[0mRewrittenQuery\u001b[1m]\u001b[0m\u001b[1m(\u001b[0m\n",
      "            \u001b[33mfinish_reason\u001b[0m=\u001b[32m'stop'\u001b[0m,\n",
      "            \u001b[33mindex\u001b[0m=\u001b[1;36m0\u001b[0m,\n",
      "            \u001b[33mlogprobs\u001b[0m=\u001b[3;35mNone\u001b[0m,\n",
      "            \u001b[33mmessage\u001b[0m=\u001b[35mParsedChatCompletionMessage\u001b[0m\u001b[1m[\u001b[0mRewrittenQuery\u001b[1m]\u001b[0m\u001b[1m(\u001b[0m\n",
      "                \u001b[33mcontent\u001b[0m=\u001b[32m'\u001b[0m\u001b[32m{\u001b[0m\u001b[32m\"initial_query\":\"How do I keep my plants alive while I\\'m on holiday?\",\"new_query\":\"What \u001b[0m\n",
      "\u001b[32mare the best methods for ensuring my indoor and outdoor plants remain healthy and watered during a vacation?\"\u001b[0m\u001b[32m}\u001b[0m\u001b[32m'\u001b[0m,\n",
      "                \u001b[33mrefusal\u001b[0m=\u001b[3;35mNone\u001b[0m,\n",
      "                \u001b[33mrole\u001b[0m=\u001b[32m'assistant'\u001b[0m,\n",
      "                \u001b[33mfunction_call\u001b[0m=\u001b[3;35mNone\u001b[0m,\n",
      "                \u001b[33mtool_calls\u001b[0m=\u001b[1m[\u001b[0m\u001b[1m]\u001b[0m,\n",
      "                \u001b[33mparsed\u001b[0m=\u001b[1;35mRewrittenQuery\u001b[0m\u001b[1m(\u001b[0m\n",
      "                    \u001b[33minitial_query\u001b[0m=\u001b[32m\"How\u001b[0m\u001b[32m do I keep my plants alive while I'm on holiday?\"\u001b[0m,\n",
      "                    \u001b[33mnew_query\u001b[0m=\u001b[32m'What are the best methods for ensuring my indoor and outdoor plants remain healthy \u001b[0m\n",
      "\u001b[32mand watered during a vacation?'\u001b[0m\n",
      "                \u001b[1m)\u001b[0m\n",
      "            \u001b[1m)\u001b[0m\n",
      "        \u001b[1m)\u001b[0m\n",
      "    \u001b[1m]\u001b[0m,\n",
      "    \u001b[33mcreated\u001b[0m=\u001b[1;36m1725224001\u001b[0m,\n",
      "    \u001b[33mmodel\u001b[0m=\u001b[32m'gpt-4o-2024-08-06'\u001b[0m,\n",
      "    \u001b[33mobject\u001b[0m=\u001b[32m'chat.completion'\u001b[0m,\n",
      "    \u001b[33mservice_tier\u001b[0m=\u001b[3;35mNone\u001b[0m,\n",
      "    \u001b[33msystem_fingerprint\u001b[0m=\u001b[32m'fp_9e15ccd6a4'\u001b[0m,\n",
      "    \u001b[33musage\u001b[0m=\u001b[1;35mCompletionUsage\u001b[0m\u001b[1m(\u001b[0m\u001b[33mcompletion_tokens\u001b[0m=\u001b[1;36m41\u001b[0m, \u001b[33mprompt_tokens\u001b[0m=\u001b[1;36m259\u001b[0m, \u001b[33mtotal_tokens\u001b[0m=\u001b[1;36m300\u001b[0m\u001b[1m)\u001b[0m\n",
      "\u001b[1m)\u001b[0m\n"
     ]
    },
    {
     "data": {
      "text/html": [
       "<pre style=\"white-space:pre;overflow-x:auto;line-height:normal;font-family:Menlo,'DejaVu Sans Mono',consolas,'Courier New',monospace\"></pre>\n"
      ],
      "text/plain": []
     },
     "metadata": {},
     "output_type": "display_data"
    }
   ],
   "source": [
    "view(completion)"
   ]
  },
  {
   "cell_type": "code",
   "execution_count": 10,
   "id": "d9cb90f5",
   "metadata": {
    "execution": {
     "iopub.execute_input": "2024-09-01T20:53:40.502362Z",
     "iopub.status.busy": "2024-09-01T20:53:40.500795Z",
     "iopub.status.idle": "2024-09-01T20:53:40.528884Z",
     "shell.execute_reply": "2024-09-01T20:53:40.520609Z",
     "shell.execute_reply.started": "2024-09-01T20:53:40.502332Z"
    }
   },
   "outputs": [],
   "source": [
    "def rewrite_query(query, system, response_format):\n",
    "  completion = client.beta.chat.completions.parse(    \n",
    "    model=\"gpt-4o-2024-08-06\",\n",
    "    messages=[\n",
    "      {\"role\": \"system\", \"content\": SYSTEM_REWRITE},\n",
    "      {\"role\": \"user\", \"content\": query},\n",
    "    ],\n",
    "    response_format=response_format,\n",
    "  )\n",
    "  return completion.choices[0].message.parsed.new_query"
   ]
  },
  {
   "cell_type": "code",
   "execution_count": null,
   "id": "2f23baa5-46ec-445e-8550-65bc2e1baadf",
   "metadata": {},
   "outputs": [],
   "source": [
    "## Olympics opening ceremony "
   ]
  },
  {
   "cell_type": "code",
   "execution_count": 11,
   "id": "f7fdada6",
   "metadata": {
    "execution": {
     "iopub.execute_input": "2024-09-01T20:53:43.520259Z",
     "iopub.status.busy": "2024-09-01T20:53:43.519801Z",
     "iopub.status.idle": "2024-09-01T20:53:43.565327Z",
     "shell.execute_reply": "2024-09-01T20:53:43.564899Z",
     "shell.execute_reply.started": "2024-09-01T20:53:43.520238Z"
    }
   },
   "outputs": [],
   "source": [
    "import duckdb"
   ]
  },
  {
   "cell_type": "code",
   "execution_count": 12,
   "id": "8e2cfa0d",
   "metadata": {
    "execution": {
     "iopub.execute_input": "2024-09-01T20:53:44.870745Z",
     "iopub.status.busy": "2024-09-01T20:53:44.870329Z",
     "iopub.status.idle": "2024-09-01T20:53:44.885543Z",
     "shell.execute_reply": "2024-09-01T20:53:44.884965Z",
     "shell.execute_reply.started": "2024-09-01T20:53:44.870722Z"
    }
   },
   "outputs": [],
   "source": [
    "con = duckdb.connect(\"olympics.duckdb\")"
   ]
  },
  {
   "cell_type": "code",
   "execution_count": 13,
   "id": "198b5e09",
   "metadata": {
    "execution": {
     "iopub.execute_input": "2024-09-01T20:53:46.049615Z",
     "iopub.status.busy": "2024-09-01T20:53:46.048236Z",
     "iopub.status.idle": "2024-09-01T20:53:46.070760Z",
     "shell.execute_reply": "2024-09-01T20:53:46.070464Z",
     "shell.execute_reply.started": "2024-09-01T20:53:46.049434Z"
    }
   },
   "outputs": [
    {
     "data": {
      "text/html": [
       "<pre style=\"white-space:pre;overflow-x:auto;line-height:normal;font-family:Menlo,'DejaVu Sans Mono',consolas,'Courier New',monospace\"></pre>\n"
      ],
      "text/plain": []
     },
     "metadata": {},
     "output_type": "display_data"
    },
    {
     "data": {
      "text/plain": [
       "\n",
       "┌─────────────┬─────────────┬─────────┬─────────┬─────────┬─────────┐\n",
       "│ column_name │ column_type │  null   │   key   │ default │  extra  │\n",
       "│   varchar   │   varchar   │ varchar │ varchar │ varchar │ varchar │\n",
       "├─────────────┼─────────────┼─────────┼─────────┼─────────┼─────────┤\n",
       "│ index       │ BIGINT      │ YES     │ NULL    │ NULL    │ NULL    │\n",
       "│ embeddings  │ FLOAT\u001b[1m[\u001b[0m\u001b[1;36m1024\u001b[0m\u001b[1m]\u001b[0m │ YES     │ NULL    │ NULL    │ NULL    │\n",
       "│ text        │ VARCHAR     │ YES     │ NULL    │ NULL    │ NULL    │\n",
       "│ url         │ VARCHAR     │ YES     │ NULL    │ NULL    │ NULL    │\n",
       "│ title       │ VARCHAR     │ YES     │ NULL    │ NULL    │ NULL    │\n",
       "└─────────────┴─────────────┴─────────┴─────────┴─────────┴─────────┘"
      ]
     },
     "execution_count": 13,
     "metadata": {},
     "output_type": "execute_result"
    }
   ],
   "source": [
    "con.sql(\"DESCRIBE olympics\")"
   ]
  },
  {
   "cell_type": "code",
   "execution_count": 14,
   "id": "6eed312e",
   "metadata": {
    "execution": {
     "iopub.execute_input": "2024-09-01T20:53:47.791964Z",
     "iopub.status.busy": "2024-09-01T20:53:47.791459Z",
     "iopub.status.idle": "2024-09-01T20:53:47.816240Z",
     "shell.execute_reply": "2024-09-01T20:53:47.815854Z",
     "shell.execute_reply.started": "2024-09-01T20:53:47.791938Z"
    }
   },
   "outputs": [
    {
     "name": "stdout",
     "output_type": "stream",
     "text": [
      "┌───────┬──────────────────────────────────────────────────────────────────────────────────────────────────────────\n",
      "────┐\n",
      "│ index │                                                     text                                                 \n",
      "│\n",
      "│ int64 │                                                   varchar                                                \n",
      "│\n",
      "├───────┼──────────────────────────────────────────────────────────────────────────────────────────────────────────\n",
      "────┤\n",
      "│     \u001b[1;36m0\u001b[0m │ The \u001b[1;36m2024\u001b[0m Olympics opened in Paris in spectacular style with thousands of athletes sailing along the River\n",
      "…  │\n",
      "│     \u001b[1;36m1\u001b[0m │ Swapping a stadium for a waterway for the first time to open the \u001b[32m\"greatest show on Earth\"\u001b[0m, the near \n",
      "four-h…  │\n",
      "│     \u001b[1;36m2\u001b[0m │ Blue, white and red fireworks had raised the Tricolore above Austerlitz Bridge before \u001b[1;36m6\u001b[0m,\u001b[1;36m800\u001b[0m athletes from\n",
      "…  │\n",
      "│     \u001b[1;36m3\u001b[0m │ There were surprise performances through the ceremony, including a cabaret number from US \n",
      "singer-songwrite…  │\n",
      "│     \u001b[1;36m4\u001b[0m │ The day had started with major disruption when the French train network was hit by arson attacks and \n",
      "heavy…  │\n",
      "│     \u001b[1;36m5\u001b[0m │ The lashing rain may have forced athletes to add rain ponchos and umbrellas to their planned outfits but \n",
      "i…  │\n",
      "│     \u001b[1;36m6\u001b[0m │ The last two boats to parade - first the US as the next hosts for Los Angeles \u001b[1;36m2028\u001b[0m and then France - had \n",
      "t…  │\n",
      "│     \u001b[1;36m7\u001b[0m │ Rower Helen Glover and diver Tom Daley were Great Britain's flagbearers in Paris, which is hosting the \n",
      "sum…  │\n",
      "│     \u001b[1;36m8\u001b[0m │ In opening the 33rd summer Olympics, which are taking part against a difficult international and domestic\n",
      "…  │\n",
      "│     \u001b[1;36m9\u001b[0m │ More than \u001b[1;36m10\u001b[0m,\u001b[1;36m500\u001b[0m athletes will compete across \u001b[1;36m32\u001b[0m sports at the Games, which will close on \u001b[1;36m11\u001b[0m August.     \n",
      "│\n",
      "├───────┴──────────────────────────────────────────────────────────────────────────────────────────────────────────\n",
      "────┤\n",
      "│ \u001b[1;36m10\u001b[0m rows                                                                                                    \u001b[1;36m2\u001b[0m \n",
      "columns │\n",
      "└──────────────────────────────────────────────────────────────────────────────────────────────────────────────────\n",
      "────┘\n",
      "\n"
     ]
    },
    {
     "data": {
      "text/html": [
       "<pre style=\"white-space:pre;overflow-x:auto;line-height:normal;font-family:Menlo,'DejaVu Sans Mono',consolas,'Courier New',monospace\"></pre>\n"
      ],
      "text/plain": []
     },
     "metadata": {},
     "output_type": "display_data"
    }
   ],
   "source": [
    "view(\n",
    "  con.sql(\"SELECT index, text FROM olympics LIMIT 10\")\n",
    ")"
   ]
  },
  {
   "cell_type": "code",
   "execution_count": 15,
   "id": "094814a1",
   "metadata": {
    "execution": {
     "iopub.execute_input": "2024-09-01T20:53:49.659897Z",
     "iopub.status.busy": "2024-09-01T20:53:49.659196Z",
     "iopub.status.idle": "2024-09-01T20:53:49.679666Z",
     "shell.execute_reply": "2024-09-01T20:53:49.679400Z",
     "shell.execute_reply.started": "2024-09-01T20:53:49.659847Z"
    }
   },
   "outputs": [],
   "source": [
    "from search import Search\n",
    "s = Search(con)"
   ]
  },
  {
   "cell_type": "code",
   "execution_count": 16,
   "id": "c90aee36",
   "metadata": {
    "execution": {
     "iopub.execute_input": "2024-09-01T20:53:51.441689Z",
     "iopub.status.busy": "2024-09-01T20:53:51.440938Z",
     "iopub.status.idle": "2024-09-01T20:53:52.381391Z",
     "shell.execute_reply": "2024-09-01T20:53:52.381044Z",
     "shell.execute_reply.started": "2024-09-01T20:53:51.441666Z"
    }
   },
   "outputs": [],
   "source": [
    "from eval import load_questions"
   ]
  },
  {
   "cell_type": "code",
   "execution_count": 17,
   "id": "5b3deaf9",
   "metadata": {
    "execution": {
     "iopub.execute_input": "2024-09-01T20:53:52.918591Z",
     "iopub.status.busy": "2024-09-01T20:53:52.913801Z",
     "iopub.status.idle": "2024-09-01T20:53:54.347232Z",
     "shell.execute_reply": "2024-09-01T20:53:54.346958Z",
     "shell.execute_reply.started": "2024-09-01T20:53:52.918354Z"
    }
   },
   "outputs": [],
   "source": [
    "questions = load_questions(\"data/questions.json\")"
   ]
  },
  {
   "cell_type": "code",
   "execution_count": 18,
   "id": "d2a6088a",
   "metadata": {
    "execution": {
     "iopub.execute_input": "2024-09-01T20:53:55.602501Z",
     "iopub.status.busy": "2024-09-01T20:53:55.601335Z",
     "iopub.status.idle": "2024-09-01T20:54:26.863639Z",
     "shell.execute_reply": "2024-09-01T20:54:26.861785Z",
     "shell.execute_reply.started": "2024-09-01T20:53:55.602471Z"
    }
   },
   "outputs": [
    {
     "name": "stdout",
     "output_type": "stream",
     "text": [
      "CPU times: user 1.5 s, sys: 79.1 ms, total: 1.58 s\n",
      "Wall time: 31.3 s\n"
     ]
    }
   ],
   "source": [
    "%%time\n",
    "new_questions = {\n",
    "  question: rewrite_query(\n",
    "    question, SYSTEM_REWRITE, RewrittenQuery\n",
    "  )\n",
    "  for question in questions.to_dict()\n",
    "}"
   ]
  },
  {
   "cell_type": "code",
   "execution_count": 19,
   "id": "ad65e7d8",
   "metadata": {
    "execution": {
     "iopub.execute_input": "2024-09-01T20:54:27.658266Z",
     "iopub.status.busy": "2024-09-01T20:54:27.657677Z",
     "iopub.status.idle": "2024-09-01T20:54:27.683511Z",
     "shell.execute_reply": "2024-09-01T20:54:27.683185Z",
     "shell.execute_reply.started": "2024-09-01T20:54:27.658245Z"
    }
   },
   "outputs": [
    {
     "name": "stdout",
     "output_type": "stream",
     "text": [
      "\u001b[1m{\u001b[0m\n",
      "    \u001b[32m'How many competitors are there?'\u001b[0m: \u001b[32m\"How many competitors are there in the specific industry or event I'm \u001b[0m\n",
      "\u001b[32minterested in?\"\u001b[0m,\n",
      "    \u001b[32m'How many medals will be won on Saturday?'\u001b[0m: \u001b[32m'How many medals are expected to be won during the events scheduled\u001b[0m\n",
      "\u001b[32mfor Saturday at the ongoing sports competition?'\u001b[0m,\n",
      "    \u001b[32m'How many times has Paris hosted the Olympic games?'\u001b[0m: \u001b[32m'How many times has the city of Paris, France, been the \u001b[0m\n",
      "\u001b[32mhost city for the Olympic Games?'\u001b[0m,\n",
      "    \u001b[32m'Was Gaga there?'\u001b[0m: \u001b[32m\"Was Lady Gaga present at the event or location I'm referring to?\"\u001b[0m,\n",
      "    \u001b[32m'What colors were the fireworks during the ceremony?'\u001b[0m: \u001b[32m'What were the specific colors of the fireworks \u001b[0m\n",
      "\u001b[32mdisplayed during the ceremony?'\u001b[0m,\n",
      "    \u001b[32m'What started the day of the opening ceremony?'\u001b[0m: \u001b[32m'What event marked the beginning of the day on which the \u001b[0m\n",
      "\u001b[32mopening ceremony took place?'\u001b[0m,\n",
      "    \u001b[32m'What things went wrong?'\u001b[0m: \u001b[32m'What problems or issues occurred during the process or event?'\u001b[0m,\n",
      "    \u001b[32m\"What was Serena's role?\"\u001b[0m: \u001b[32m\"What was Serena Williams' role in the recent tennis tournament? Or, are you asking \u001b[0m\n",
      "\u001b[32mabout her involvement in a specific organization or project?\"\u001b[0m,\n",
      "    \u001b[32m'What was the weather like?'\u001b[0m: \u001b[32m'Can you provide a detailed weather report, including temperature, precipitation,\u001b[0m\n",
      "\u001b[32mand wind conditions, for a specific location and date?'\u001b[0m,\n",
      "    \u001b[32m'What was unique about the location for the ceremony?'\u001b[0m: \u001b[32m'What were the distinctive or remarkable features of \u001b[0m\n",
      "\u001b[32mthe venue chosen for the ceremony?'\u001b[0m,\n",
      "    \u001b[32m'Where are opening ceremonies usually held?'\u001b[0m: \u001b[32m'In what types of venues or locations are major opening \u001b[0m\n",
      "\u001b[32mceremonies typically conducted?'\u001b[0m,\n",
      "    \u001b[32m'Where are they playing the tennis?'\u001b[0m: \u001b[32m'Where is the current tennis tournament being held?'\u001b[0m,\n",
      "    \u001b[32m'Where did the opening ceremony end?'\u001b[0m: \u001b[32m'What was the concluding location for the opening ceremony of the \u001b[0m\n",
      "\u001b[32mevent?'\u001b[0m,\n",
      "    \u001b[32m'Where did the opening ceremony take place?'\u001b[0m: \u001b[32m'Where was the location of the 2023 opening ceremony for the \u001b[0m\n",
      "\u001b[32mevent in question?'\u001b[0m,\n",
      "    \u001b[32m'Where was the last games held?'\u001b[0m: \u001b[32m'Where was the most recent Olympic Games held?'\u001b[0m,\n",
      "    \u001b[32m'Which country had the most athletes in the Olympic parade?'\u001b[0m: \u001b[32m'Which country had the largest number of athletes\u001b[0m\n",
      "\u001b[32mparticipating in the most recent Olympic opening ceremony parade?'\u001b[0m,\n",
      "    \u001b[32m'Which number Olympics is this?'\u001b[0m: \u001b[32m'In which edition of the modern Summer or Winter Olympic Games are we \u001b[0m\n",
      "\u001b[32mcurrently? Please specify whether you are referring to the Summer or Winter Games and the year if possible.'\u001b[0m,\n",
      "    \u001b[32m'Who did Zidane hand the flame to?'\u001b[0m: \u001b[32m'To whom did Zinedine Zidane pass the Olympic flame?'\u001b[0m,\n",
      "    \u001b[32m'Who is banned from the Olympics?'\u001b[0m: \u001b[32m'Which athletes or countries are currently banned or suspended from \u001b[0m\n",
      "\u001b[32mparticipating in the Olympic Games, and for what reasons?'\u001b[0m,\n",
      "    \u001b[32m'Who received significant applause?'\u001b[0m: \u001b[32m'Which speaker or performer was exceptionally well-received and garnered \u001b[0m\n",
      "\u001b[32mstrong applause at the event?'\u001b[0m,\n",
      "    \u001b[32m'Who was the oldest athlete?'\u001b[0m: \u001b[32m'Who is the oldest athlete to have ever competed in a professional sports \u001b[0m\n",
      "\u001b[32mevent?'\u001b[0m,\n",
      "    \u001b[32m'Why were there concerns about the Seine?'\u001b[0m: \u001b[32m'What specific issues or concerns have arisen regarding the Seine \u001b[0m\n",
      "\u001b[32mRiver, such as pollution, flooding, or ecological impacts?'\u001b[0m\n",
      "\u001b[1m}\u001b[0m\n"
     ]
    },
    {
     "data": {
      "text/html": [
       "<pre style=\"white-space:pre;overflow-x:auto;line-height:normal;font-family:Menlo,'DejaVu Sans Mono',consolas,'Courier New',monospace\"></pre>\n"
      ],
      "text/plain": []
     },
     "metadata": {},
     "output_type": "display_data"
    }
   ],
   "source": [
    "view(new_questions)"
   ]
  },
  {
   "cell_type": "code",
   "execution_count": 20,
   "id": "6b7cdc62",
   "metadata": {
    "execution": {
     "iopub.execute_input": "2024-09-01T20:54:30.513601Z",
     "iopub.status.busy": "2024-09-01T20:54:30.512986Z",
     "iopub.status.idle": "2024-09-01T20:54:31.322593Z",
     "shell.execute_reply": "2024-09-01T20:54:31.322245Z",
     "shell.execute_reply.started": "2024-09-01T20:54:30.513577Z"
    }
   },
   "outputs": [],
   "source": [
    "result1 = {\n",
    "  question: {\n",
    "    str(index): score\n",
    "    for index, score in (s.vector_search(question)\n",
    "                          .select(\"index, score\")\n",
    "                          .fetchall()\n",
    "                        )\n",
    "  }\n",
    "  for question in questions.to_dict()\n",
    "}"
   ]
  },
  {
   "cell_type": "code",
   "execution_count": 21,
   "id": "c3634ba8",
   "metadata": {
    "execution": {
     "iopub.execute_input": "2024-09-01T20:54:31.881476Z",
     "iopub.status.busy": "2024-09-01T20:54:31.880686Z",
     "iopub.status.idle": "2024-09-01T20:54:32.672002Z",
     "shell.execute_reply": "2024-09-01T20:54:32.671629Z",
     "shell.execute_reply.started": "2024-09-01T20:54:31.881391Z"
    }
   },
   "outputs": [],
   "source": [
    "result2 = {\n",
    "  question: {\n",
    "    str(index): score\n",
    "    for index, score in (s.vector_search(new_questions[question])\n",
    "                          .select(\"index, score\")\n",
    "                          .fetchall()\n",
    "                        )\n",
    "  }\n",
    "  for question in questions.to_dict()\n",
    "}"
   ]
  },
  {
   "cell_type": "code",
   "execution_count": 22,
   "id": "50db4208",
   "metadata": {
    "execution": {
     "iopub.execute_input": "2024-09-01T20:54:34.221868Z",
     "iopub.status.busy": "2024-09-01T20:54:34.220988Z",
     "iopub.status.idle": "2024-09-01T20:54:34.226091Z",
     "shell.execute_reply": "2024-09-01T20:54:34.225350Z",
     "shell.execute_reply.started": "2024-09-01T20:54:34.221809Z"
    }
   },
   "outputs": [],
   "source": [
    "from eval import as_run\n",
    "from ranx import compare"
   ]
  },
  {
   "cell_type": "code",
   "execution_count": 23,
   "id": "c23204bb",
   "metadata": {
    "execution": {
     "iopub.execute_input": "2024-09-01T20:54:35.397269Z",
     "iopub.status.busy": "2024-09-01T20:54:35.396527Z",
     "iopub.status.idle": "2024-09-01T20:54:35.538260Z",
     "shell.execute_reply": "2024-09-01T20:54:35.537995Z",
     "shell.execute_reply.started": "2024-09-01T20:54:35.397081Z"
    }
   },
   "outputs": [],
   "source": [
    "runs = [\n",
    "  as_run(result1, \"Vector\"), \n",
    "  as_run(result2, \"Vector Rewrite\")\n",
    "]"
   ]
  },
  {
   "cell_type": "code",
   "execution_count": 24,
   "id": "1cbbc290",
   "metadata": {
    "execution": {
     "iopub.execute_input": "2024-09-01T20:54:37.052182Z",
     "iopub.status.busy": "2024-09-01T20:54:37.051392Z",
     "iopub.status.idle": "2024-09-01T20:54:37.378856Z",
     "shell.execute_reply": "2024-09-01T20:54:37.378627Z",
     "shell.execute_reply.started": "2024-09-01T20:54:37.052135Z"
    }
   },
   "outputs": [
    {
     "data": {
      "text/html": [
       "<pre style=\"white-space:pre;overflow-x:auto;line-height:normal;font-family:Menlo,'DejaVu Sans Mono',consolas,'Courier New',monospace\"></pre>\n"
      ],
      "text/plain": []
     },
     "metadata": {},
     "output_type": "display_data"
    },
    {
     "data": {
      "text/plain": [
       "\n",
       "#    Model             Hit Rate\n",
       "---  --------------  ----------\n",
       "a    Vector               \u001b[1;36m0.773\u001b[0m\n",
       "b    Vector Rewrite       \u001b[1;36m0.818\u001b[0m"
      ]
     },
     "execution_count": 24,
     "metadata": {},
     "output_type": "execute_result"
    }
   ],
   "source": [
    "compare(\n",
    "  questions,\n",
    "  runs=runs,\n",
    "  metrics=[\"hit_rate\"],\n",
    ")"
   ]
  },
  {
   "cell_type": "code",
   "execution_count": 25,
   "id": "248490dd",
   "metadata": {
    "execution": {
     "iopub.execute_input": "2024-09-01T20:54:39.056272Z",
     "iopub.status.busy": "2024-09-01T20:54:39.055462Z",
     "iopub.status.idle": "2024-09-01T20:54:39.063885Z",
     "shell.execute_reply": "2024-09-01T20:54:39.061480Z",
     "shell.execute_reply.started": "2024-09-01T20:54:39.056244Z"
    }
   },
   "outputs": [],
   "source": [
    "from eval import compare_table"
   ]
  },
  {
   "cell_type": "code",
   "execution_count": 26,
   "id": "8d8d4a75",
   "metadata": {
    "execution": {
     "iopub.execute_input": "2024-09-01T20:54:40.353764Z",
     "iopub.status.busy": "2024-09-01T20:54:40.352686Z",
     "iopub.status.idle": "2024-09-01T20:54:40.377982Z",
     "shell.execute_reply": "2024-09-01T20:54:40.377646Z",
     "shell.execute_reply.started": "2024-09-01T20:54:40.353735Z"
    }
   },
   "outputs": [
    {
     "name": "stdout",
     "output_type": "stream",
     "text": [
      "\u001b[3m                             Comparing Retrieval Techniques                             \u001b[0m\n",
      "┏━━━━━━━━━━━━━━━━━━━━━━━━━━━━━━━━━━━━━━━━━━━━━━━━━━━━━━━━━━━━┳━━━━━━━━┳━━━━━━━━━━━━━━━━┓\n",
      "┃\u001b[1m \u001b[0m\u001b[1mQuestion                                                  \u001b[0m\u001b[1m \u001b[0m┃\u001b[1m \u001b[0m\u001b[1mVector\u001b[0m\u001b[1m \u001b[0m┃\u001b[1m \u001b[0m\u001b[1mVector Rewrite\u001b[0m\u001b[1m \u001b[0m┃\n",
      "┡━━━━━━━━━━━━━━━━━━━━━━━━━━━━━━━━━━━━━━━━━━━━━━━━━━━━━━━━━━━━╇━━━━━━━━╇━━━━━━━━━━━━━━━━┩\n",
      "│ How many competitors are there?                            │   ✅   │       ✅       │\n",
      "│ How many medals will be won on Saturday?                   │   ✅   │       ✅       │\n",
      "│ How many times has Paris hosted the Olympic games?         │   ✅   │       ✅       │\n",
      "│ Was Gaga there?                                            │   ✅   │       ✅       │\n",
      "│ What colors were the fireworks during the ceremony?        │   ✅   │       ✅       │\n",
      "│ What started the day of the opening ceremony?              │   ❌   │       ❌       │\n",
      "│ What things went wrong?                                    │   ❌   │       ❌       │\n",
      "│ What was Serena's role?                                    │   ✅   │       ✅       │\n",
      "│ What was the weather like?                                 │   ✅   │       ✅       │\n",
      "│ What was unique about the location for the ceremony?       │   ✅   │       ✅       │\n",
      "│ Where are opening ceremonies usually held?                 │   ✅   │       ✅       │\n",
      "│ Where are they playing the tennis?                         │   ✅   │       ✅       │\n",
      "│ Where did the opening ceremony end?                        │   ❌   │       ❌       │\n",
      "│ Where did the opening ceremony take place?                 │   ✅   │       ✅       │\n",
      "│ Where was the last games held?                             │   ✅   │       ✅       │\n",
      "│ Which country had the most athletes in the Olympic parade? │   ✅   │       ✅       │\n",
      "│ Which number Olympics is this?                             │   ❌   │       ✅       │\n",
      "│ Who did Zidane hand the flame to?                          │   ✅   │       ✅       │\n",
      "│ Who is banned from the Olympics?                           │   ✅   │       ✅       │\n",
      "│ Who received significant applause?                         │   ✅   │       ✅       │\n",
      "│ Who was the oldest athlete?                                │   ❌   │       ❌       │\n",
      "│ Why were there concerns about the Seine?                   │   ✅   │       ✅       │\n",
      "└────────────────────────────────────────────────────────────┴────────┴────────────────┘\n"
     ]
    },
    {
     "data": {
      "text/html": [
       "<pre style=\"white-space:pre;overflow-x:auto;line-height:normal;font-family:Menlo,'DejaVu Sans Mono',consolas,'Courier New',monospace\"></pre>\n"
      ],
      "text/plain": []
     },
     "metadata": {},
     "output_type": "display_data"
    }
   ],
   "source": [
    "view(compare_table(questions, runs))"
   ]
  }
 ],
 "metadata": {
  "kernelspec": {
   "display_name": "Python 3 (ipykernel)",
   "language": "python",
   "name": "python3"
  },
  "language_info": {
   "codemirror_mode": {
    "name": "ipython",
    "version": 3
   },
   "file_extension": ".py",
   "mimetype": "text/x-python",
   "name": "python",
   "nbconvert_exporter": "python",
   "pygments_lexer": "ipython3",
   "version": "3.12.2"
  }
 },
 "nbformat": 4,
 "nbformat_minor": 5
}
