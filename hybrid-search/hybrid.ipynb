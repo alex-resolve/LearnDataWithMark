{
 "cells": [
  {
   "cell_type": "markdown",
   "id": "fecfa8eb-8347-4dfd-8982-8cf09c678881",
   "metadata": {
    "execution": {
     "iopub.execute_input": "2024-07-28T14:47:43.854610Z",
     "iopub.status.busy": "2024-07-28T14:47:43.853298Z",
     "iopub.status.idle": "2024-07-28T14:47:43.865279Z",
     "shell.execute_reply": "2024-07-28T14:47:43.861350Z",
     "shell.execute_reply.started": "2024-07-28T14:47:43.854570Z"
    }
   },
   "source": [
    "# Hybrid Search with DuckDB"
   ]
  },
  {
   "cell_type": "code",
   "execution_count": 1,
   "id": "28c3b1d0",
   "metadata": {
    "execution": {
     "iopub.execute_input": "2024-07-28T14:47:00.688372Z",
     "iopub.status.busy": "2024-07-28T14:47:00.688029Z",
     "iopub.status.idle": "2024-07-28T14:47:00.982414Z",
     "shell.execute_reply": "2024-07-28T14:47:00.982102Z",
     "shell.execute_reply.started": "2024-07-28T14:47:00.688353Z"
    }
   },
   "outputs": [],
   "source": [
    "import pandas as pd\n",
    "from rich.console import Console\n",
    "c = Console()"
   ]
  },
  {
   "cell_type": "code",
   "execution_count": 2,
   "id": "076bfeae",
   "metadata": {
    "execution": {
     "iopub.execute_input": "2024-07-28T14:47:00.983354Z",
     "iopub.status.busy": "2024-07-28T14:47:00.983206Z",
     "iopub.status.idle": "2024-07-28T14:47:01.004395Z",
     "shell.execute_reply": "2024-07-28T14:47:01.004038Z",
     "shell.execute_reply.started": "2024-07-28T14:47:00.983343Z"
    }
   },
   "outputs": [],
   "source": [
    "df = pd.read_parquet(\"olympics.parquet\")"
   ]
  },
  {
   "cell_type": "code",
   "execution_count": 3,
   "id": "38292035",
   "metadata": {
    "execution": {
     "iopub.execute_input": "2024-07-28T14:47:01.004969Z",
     "iopub.status.busy": "2024-07-28T14:47:01.004864Z",
     "iopub.status.idle": "2024-07-28T14:47:01.014226Z",
     "shell.execute_reply": "2024-07-28T14:47:01.013908Z",
     "shell.execute_reply.started": "2024-07-28T14:47:01.004958Z"
    }
   },
   "outputs": [
    {
     "data": {
      "text/html": [
       "<pre style=\"white-space:pre;overflow-x:auto;line-height:normal;font-family:Menlo,'DejaVu Sans Mono',consolas,'Courier New',monospace\">                                                            <span style=\"color: #008080; text-decoration-color: #008080; font-weight: bold\">0</span>  \\\n",
       "url         <span style=\"color: #0000ff; text-decoration-color: #0000ff; text-decoration: underline\">https://www.bbc.com/sport/olympics/articles/cw...</span>   \n",
       "title       Paris <span style=\"color: #008080; text-decoration-color: #008080; font-weight: bold\">2024</span> Olympic opening ceremony kicks off <span style=\"color: #808000; text-decoration-color: #808000\">...</span>   \n",
       "index                                                       <span style=\"color: #008080; text-decoration-color: #008080; font-weight: bold\">0</span>   \n",
       "text        The <span style=\"color: #008080; text-decoration-color: #008080; font-weight: bold\">2024</span> Olympics opened in Paris in spectacul<span style=\"color: #808000; text-decoration-color: #808000\">...</span>   \n",
       "embeddings  <span style=\"font-weight: bold\">[</span><span style=\"color: #008080; text-decoration-color: #008080; font-weight: bold\">-0.6567886471748352</span>, <span style=\"color: #008080; text-decoration-color: #008080; font-weight: bold\">0.37583300471305847</span>, <span style=\"color: #008080; text-decoration-color: #008080; font-weight: bold\">-0</span><span style=\"color: #808000; text-decoration-color: #808000\">...</span>.   \n",
       "\n",
       "                                                            <span style=\"color: #008080; text-decoration-color: #008080; font-weight: bold\">1</span>  \\\n",
       "url         <span style=\"color: #0000ff; text-decoration-color: #0000ff; text-decoration: underline\">https://www.bbc.com/sport/olympics/articles/cw...</span>   \n",
       "title       Paris <span style=\"color: #008080; text-decoration-color: #008080; font-weight: bold\">2024</span> Olympic opening ceremony kicks off <span style=\"color: #808000; text-decoration-color: #808000\">...</span>   \n",
       "index                                                       <span style=\"color: #008080; text-decoration-color: #008080; font-weight: bold\">1</span>   \n",
       "text        Swapping a stadium for a waterway for the firs<span style=\"color: #808000; text-decoration-color: #808000\">...</span>   \n",
       "embeddings  <span style=\"font-weight: bold\">[</span><span style=\"color: #008080; text-decoration-color: #008080; font-weight: bold\">-0.33718910813331604</span>, <span style=\"color: #008080; text-decoration-color: #008080; font-weight: bold\">0.25818386673927307</span>, <span style=\"color: #008080; text-decoration-color: #008080; font-weight: bold\">0</span><span style=\"color: #808000; text-decoration-color: #808000\">...</span>.   \n",
       "\n",
       "                                                            <span style=\"color: #008080; text-decoration-color: #008080; font-weight: bold\">2</span>  \n",
       "url         <span style=\"color: #0000ff; text-decoration-color: #0000ff; text-decoration: underline\">https://www.bbc.com/sport/olympics/articles/cw...</span>  \n",
       "title       Paris <span style=\"color: #008080; text-decoration-color: #008080; font-weight: bold\">2024</span> Olympic opening ceremony kicks off <span style=\"color: #808000; text-decoration-color: #808000\">...</span>  \n",
       "index                                                       <span style=\"color: #008080; text-decoration-color: #008080; font-weight: bold\">2</span>  \n",
       "text        Blue, white and red fireworks had raised the T<span style=\"color: #808000; text-decoration-color: #808000\">...</span>  \n",
       "embeddings  <span style=\"font-weight: bold\">[</span><span style=\"color: #008080; text-decoration-color: #008080; font-weight: bold\">-0.831717848777771</span>, <span style=\"color: #008080; text-decoration-color: #008080; font-weight: bold\">0.10039660334587097</span>, <span style=\"color: #008080; text-decoration-color: #008080; font-weight: bold\">-0.0</span><span style=\"color: #808000; text-decoration-color: #808000\">...</span>  \n",
       "</pre>\n"
      ],
      "text/plain": [
       "                                                            \u001b[1;36m0\u001b[0m  \\\n",
       "url         \u001b[4;94mhttps://www.bbc.com/sport/olympics/articles/cw...\u001b[0m   \n",
       "title       Paris \u001b[1;36m2024\u001b[0m Olympic opening ceremony kicks off \u001b[33m...\u001b[0m   \n",
       "index                                                       \u001b[1;36m0\u001b[0m   \n",
       "text        The \u001b[1;36m2024\u001b[0m Olympics opened in Paris in spectacul\u001b[33m...\u001b[0m   \n",
       "embeddings  \u001b[1m[\u001b[0m\u001b[1;36m-0.6567886471748352\u001b[0m, \u001b[1;36m0.37583300471305847\u001b[0m, \u001b[1;36m-0\u001b[0m\u001b[33m...\u001b[0m.   \n",
       "\n",
       "                                                            \u001b[1;36m1\u001b[0m  \\\n",
       "url         \u001b[4;94mhttps://www.bbc.com/sport/olympics/articles/cw...\u001b[0m   \n",
       "title       Paris \u001b[1;36m2024\u001b[0m Olympic opening ceremony kicks off \u001b[33m...\u001b[0m   \n",
       "index                                                       \u001b[1;36m1\u001b[0m   \n",
       "text        Swapping a stadium for a waterway for the firs\u001b[33m...\u001b[0m   \n",
       "embeddings  \u001b[1m[\u001b[0m\u001b[1;36m-0.33718910813331604\u001b[0m, \u001b[1;36m0.25818386673927307\u001b[0m, \u001b[1;36m0\u001b[0m\u001b[33m...\u001b[0m.   \n",
       "\n",
       "                                                            \u001b[1;36m2\u001b[0m  \n",
       "url         \u001b[4;94mhttps://www.bbc.com/sport/olympics/articles/cw...\u001b[0m  \n",
       "title       Paris \u001b[1;36m2024\u001b[0m Olympic opening ceremony kicks off \u001b[33m...\u001b[0m  \n",
       "index                                                       \u001b[1;36m2\u001b[0m  \n",
       "text        Blue, white and red fireworks had raised the T\u001b[33m...\u001b[0m  \n",
       "embeddings  \u001b[1m[\u001b[0m\u001b[1;36m-0.831717848777771\u001b[0m, \u001b[1;36m0.10039660334587097\u001b[0m, \u001b[1;36m-0.0\u001b[0m\u001b[33m...\u001b[0m  \n"
      ]
     },
     "metadata": {},
     "output_type": "display_data"
    }
   ],
   "source": [
    "with pd.option_context('display.max_columns', None):\n",
    "    c.print(df.head(3).T)"
   ]
  },
  {
   "cell_type": "markdown",
   "id": "49b0ec1b-6410-4f9d-9317-50b9565e9af8",
   "metadata": {
    "execution": {
     "iopub.execute_input": "2024-07-28T14:47:56.424127Z",
     "iopub.status.busy": "2024-07-28T14:47:56.423666Z",
     "iopub.status.idle": "2024-07-28T14:47:56.430369Z",
     "shell.execute_reply": "2024-07-28T14:47:56.427814Z",
     "shell.execute_reply.started": "2024-07-28T14:47:56.424095Z"
    }
   },
   "source": [
    "## Import data into DuckDB"
   ]
  },
  {
   "cell_type": "code",
   "execution_count": 4,
   "id": "487b8356",
   "metadata": {
    "execution": {
     "iopub.execute_input": "2024-07-28T14:47:01.015631Z",
     "iopub.status.busy": "2024-07-28T14:47:01.015461Z",
     "iopub.status.idle": "2024-07-28T14:47:01.047197Z",
     "shell.execute_reply": "2024-07-28T14:47:01.046884Z",
     "shell.execute_reply.started": "2024-07-28T14:47:01.015615Z"
    }
   },
   "outputs": [],
   "source": [
    "import duckdb"
   ]
  },
  {
   "cell_type": "code",
   "execution_count": 5,
   "id": "107832f8",
   "metadata": {
    "execution": {
     "iopub.execute_input": "2024-07-28T14:47:01.047728Z",
     "iopub.status.busy": "2024-07-28T14:47:01.047634Z",
     "iopub.status.idle": "2024-07-28T14:47:01.053980Z",
     "shell.execute_reply": "2024-07-28T14:47:01.053390Z",
     "shell.execute_reply.started": "2024-07-28T14:47:01.047718Z"
    }
   },
   "outputs": [],
   "source": [
    "con = duckdb.connect(\"olympics.duckdb\")"
   ]
  },
  {
   "cell_type": "code",
   "execution_count": 6,
   "id": "03e3f8bc",
   "metadata": {
    "execution": {
     "iopub.execute_input": "2024-07-28T14:47:01.054965Z",
     "iopub.status.busy": "2024-07-28T14:47:01.054659Z",
     "iopub.status.idle": "2024-07-28T14:47:01.073990Z",
     "shell.execute_reply": "2024-07-28T14:47:01.073636Z",
     "shell.execute_reply.started": "2024-07-28T14:47:01.054946Z"
    }
   },
   "outputs": [],
   "source": [
    "con.sql(\"\"\"CREATE OR REPLACE TABLE olympics AS \n",
    "(SELECT index,\n",
    "        CAST(embeddings AS FLOAT[1024]) AS embeddings,\n",
    "        text, url, title\n",
    "FROM df)\n",
    "\"\"\")"
   ]
  },
  {
   "cell_type": "code",
   "execution_count": 7,
   "id": "15545e98",
   "metadata": {
    "execution": {
     "iopub.execute_input": "2024-07-28T14:47:01.074682Z",
     "iopub.status.busy": "2024-07-28T14:47:01.074585Z",
     "iopub.status.idle": "2024-07-28T14:47:01.085145Z",
     "shell.execute_reply": "2024-07-28T14:47:01.084814Z",
     "shell.execute_reply.started": "2024-07-28T14:47:01.074672Z"
    }
   },
   "outputs": [
    {
     "data": {
      "text/html": [
       "<pre style=\"white-space:pre;overflow-x:auto;line-height:normal;font-family:Menlo,'DejaVu Sans Mono',consolas,'Courier New',monospace\"></pre>\n"
      ],
      "text/plain": []
     },
     "metadata": {},
     "output_type": "display_data"
    },
    {
     "data": {
      "text/plain": [
       "\n",
       "┌─────────────┬─────────────┬─────────┬─────────┬─────────┬─────────┐\n",
       "│ column_name │ column_type │  null   │   key   │ default │  extra  │\n",
       "│   varchar   │   varchar   │ varchar │ varchar │ varchar │ varchar │\n",
       "├─────────────┼─────────────┼─────────┼─────────┼─────────┼─────────┤\n",
       "│ index       │ BIGINT      │ YES     │ NULL    │ NULL    │ NULL    │\n",
       "│ embeddings  │ FLOAT\u001b[1m[\u001b[0m\u001b[1;36m1024\u001b[0m\u001b[1m]\u001b[0m │ YES     │ NULL    │ NULL    │ NULL    │\n",
       "│ text        │ VARCHAR     │ YES     │ NULL    │ NULL    │ NULL    │\n",
       "│ url         │ VARCHAR     │ YES     │ NULL    │ NULL    │ NULL    │\n",
       "│ title       │ VARCHAR     │ YES     │ NULL    │ NULL    │ NULL    │\n",
       "└─────────────┴─────────────┴─────────┴─────────┴─────────┴─────────┘"
      ]
     },
     "execution_count": 7,
     "metadata": {},
     "output_type": "execute_result"
    }
   ],
   "source": [
    "con.sql(\"DESCRIBE olympics\")"
   ]
  },
  {
   "cell_type": "code",
   "execution_count": 8,
   "id": "ab70189a",
   "metadata": {
    "execution": {
     "iopub.execute_input": "2024-07-28T14:47:01.085928Z",
     "iopub.status.busy": "2024-07-28T14:47:01.085785Z",
     "iopub.status.idle": "2024-07-28T14:47:01.098636Z",
     "shell.execute_reply": "2024-07-28T14:47:01.098291Z",
     "shell.execute_reply.started": "2024-07-28T14:47:01.085917Z"
    }
   },
   "outputs": [],
   "source": [
    "con.sql(\"INSTALL fts\")\n",
    "con.sql(\"LOAD fts\")"
   ]
  },
  {
   "cell_type": "code",
   "execution_count": 9,
   "id": "338c4667",
   "metadata": {
    "execution": {
     "iopub.execute_input": "2024-07-28T14:47:01.099194Z",
     "iopub.status.busy": "2024-07-28T14:47:01.099097Z",
     "iopub.status.idle": "2024-07-28T14:47:01.114496Z",
     "shell.execute_reply": "2024-07-28T14:47:01.114136Z",
     "shell.execute_reply.started": "2024-07-28T14:47:01.099183Z"
    }
   },
   "outputs": [],
   "source": [
    "con.sql(\"\"\"\n",
    "PRAGMA create_fts_index(\n",
    "  'olympics', 'index', 'text', overwrite=1\n",
    ");\n",
    "\"\"\")"
   ]
  },
  {
   "cell_type": "markdown",
   "id": "8c28cd8c-bc72-4446-8c88-06d8cea9e539",
   "metadata": {},
   "source": [
    "## Full-Text Search"
   ]
  },
  {
   "cell_type": "code",
   "execution_count": 10,
   "id": "8cf350d2",
   "metadata": {
    "execution": {
     "iopub.execute_input": "2024-07-28T14:47:01.116711Z",
     "iopub.status.busy": "2024-07-28T14:47:01.116467Z",
     "iopub.status.idle": "2024-07-28T14:47:01.118995Z",
     "shell.execute_reply": "2024-07-28T14:47:01.118513Z",
     "shell.execute_reply.started": "2024-07-28T14:47:01.116697Z"
    }
   },
   "outputs": [],
   "source": [
    "def fts(query, limit=3):\n",
    "  return con.sql(\"\"\"\n",
    "    SELECT text, index, fts_main_olympics.match_bm25(\n",
    "            index,\n",
    "            $searchTerm\n",
    "        ) AS score\n",
    "    FROM olympics\n",
    "    WHERE score IS NOT NULL\n",
    "    ORDER BY score DESC\n",
    "    LIMIT $limit\n",
    "    \"\"\", params={\"searchTerm\": query, \"limit\": limit})"
   ]
  },
  {
   "cell_type": "markdown",
   "id": "e65360b7-3874-4bb6-b4db-b1a08cd27b40",
   "metadata": {},
   "source": [
    "## Vector Search"
   ]
  },
  {
   "cell_type": "code",
   "execution_count": 11,
   "id": "d30e47c4",
   "metadata": {
    "execution": {
     "iopub.execute_input": "2024-07-28T14:47:01.120400Z",
     "iopub.status.busy": "2024-07-28T14:47:01.120122Z",
     "iopub.status.idle": "2024-07-28T14:47:01.148618Z",
     "shell.execute_reply": "2024-07-28T14:47:01.148306Z",
     "shell.execute_reply.started": "2024-07-28T14:47:01.120386Z"
    }
   },
   "outputs": [],
   "source": [
    "import llama_cpp"
   ]
  },
  {
   "cell_type": "code",
   "execution_count": 12,
   "id": "217b1b9d",
   "metadata": {
    "execution": {
     "iopub.execute_input": "2024-07-28T14:47:01.149363Z",
     "iopub.status.busy": "2024-07-28T14:47:01.149224Z",
     "iopub.status.idle": "2024-07-28T14:47:01.176757Z",
     "shell.execute_reply": "2024-07-28T14:47:01.176395Z",
     "shell.execute_reply.started": "2024-07-28T14:47:01.149352Z"
    }
   },
   "outputs": [],
   "source": [
    "llm = llama_cpp.Llama(\n",
    "  model_path=\"./models/mxbai-embed-large-v1-f16.gguf\", \n",
    "  embedding=True, \n",
    "  verbose=False\n",
    ")"
   ]
  },
  {
   "cell_type": "code",
   "execution_count": 13,
   "id": "6d7b06bf",
   "metadata": {
    "execution": {
     "iopub.execute_input": "2024-07-28T14:47:01.177425Z",
     "iopub.status.busy": "2024-07-28T14:47:01.177325Z",
     "iopub.status.idle": "2024-07-28T14:47:01.180596Z",
     "shell.execute_reply": "2024-07-28T14:47:01.180071Z",
     "shell.execute_reply.started": "2024-07-28T14:47:01.177415Z"
    }
   },
   "outputs": [],
   "source": [
    "def vector_search(query, limit=3):\n",
    "  search_vector = llm.create_embedding([query])['data'][0]['embedding']\n",
    "  return con.sql(\"\"\"\n",
    "    SELECT text, index, \n",
    "           array_cosine_similarity(\n",
    "             embeddings, $searchVector::FLOAT[1024]\n",
    "           ) AS score\n",
    "    FROM olympics\n",
    "    ORDER BY score DESC\n",
    "    LIMIT $limit\n",
    "    \"\"\", params={\"searchVector\": search_vector, \"limit\": limit})"
   ]
  },
  {
   "cell_type": "markdown",
   "id": "451ec9ac-69b2-49a9-9bdb-3e736e270055",
   "metadata": {},
   "source": [
    "## Querying the Olympics Opening Ceremony"
   ]
  },
  {
   "cell_type": "code",
   "execution_count": 14,
   "id": "74d24853",
   "metadata": {
    "execution": {
     "iopub.execute_input": "2024-07-28T14:47:01.181281Z",
     "iopub.status.busy": "2024-07-28T14:47:01.181170Z",
     "iopub.status.idle": "2024-07-28T14:47:01.328541Z",
     "shell.execute_reply": "2024-07-28T14:47:01.328123Z",
     "shell.execute_reply.started": "2024-07-28T14:47:01.181271Z"
    }
   },
   "outputs": [
    {
     "name": "stdout",
     "output_type": "stream",
     "text": [
      "\u001b[33mFTS\u001b[0m\n",
      "pyarrow.Table\n",
      "text: string\n",
      "index: int64\n",
      "score: double\n",
      "----\n",
      "text: \u001b[1m[\u001b[0m\u001b[1m[\u001b[0m\u001b[32m\"The 2024 Olympics opened in Paris in spectacular style with thousands of athletes sailing along the River \u001b[0m\n",
      "\u001b[32mSeine past lively performers on bridges, banks and rooftops in an ambitious take on an opening ceremony.   \"\u001b[0m,\u001b[32m\"The \u001b[0m\n",
      "\u001b[32mpeace anthem, part of all Olympic opening ceremonies, is aligned with the message of unity and tolerance conveyed \u001b[0m\n",
      "\u001b[32mby the Games. \"\u001b[0m,\u001b[32m\"When organisers first revealed plans to hold the opening ceremony along the river in the heart of \u001b[0m\n",
      "\u001b[32mthe city, rather than in a stadium as is usual, there were some raised eyebrows and questions over how they would \u001b[0m\n",
      "\u001b[32mmanage such a huge security operation.\"\u001b[0m\u001b[1m]\u001b[0m\u001b[1m]\u001b[0m\n",
      "index: \u001b[1m[\u001b[0m\u001b[1m[\u001b[0m\u001b[1;36m0\u001b[0m,\u001b[1;36m29\u001b[0m,\u001b[1;36m10\u001b[0m\u001b[1m]\u001b[0m\u001b[1m]\u001b[0m\n",
      "score: \u001b[1m[\u001b[0m\u001b[1m[\u001b[0m\u001b[1;36m1.2849869504117142\u001b[0m,\u001b[1;36m1.2657966698946463\u001b[0m,\u001b[1;36m1.0903075295241433\u001b[0m\u001b[1m]\u001b[0m\u001b[1m]\u001b[0m\n",
      "\n",
      "\u001b[33mVector Search\u001b[0m\n",
      "pyarrow.Table\n",
      "text: string\n",
      "index: int64\n",
      "score: float\n",
      "----\n",
      "text: \u001b[1m[\u001b[0m\u001b[1m[\u001b[0m\u001b[32m\"The 2024 Olympics opened in Paris in spectacular style with thousands of athletes sailing along the River \u001b[0m\n",
      "\u001b[32mSeine past lively performers on bridges, banks and rooftops in an ambitious take on an opening ceremony.   \"\u001b[0m,\u001b[32m\"When \u001b[0m\n",
      "\u001b[32morganisers first revealed plans to hold the opening ceremony along the river in the heart of the city, rather than \u001b[0m\n",
      "\u001b[32min a stadium as is usual, there were some raised eyebrows and questions over how they would manage such a huge \u001b[0m\n",
      "\u001b[32msecurity operation.\"\u001b[0m,\u001b[32m\"The peace anthem, part of all Olympic opening ceremonies, is aligned with the message of \u001b[0m\n",
      "\u001b[32munity and tolerance conveyed by the Games. \"\u001b[0m\u001b[1m]\u001b[0m\u001b[1m]\u001b[0m\n",
      "index: \u001b[1m[\u001b[0m\u001b[1m[\u001b[0m\u001b[1;36m0\u001b[0m,\u001b[1;36m10\u001b[0m,\u001b[1;36m29\u001b[0m\u001b[1m]\u001b[0m\u001b[1m]\u001b[0m\n",
      "score: \u001b[1m[\u001b[0m\u001b[1m[\u001b[0m\u001b[1;36m0.6754388\u001b[0m,\u001b[1;36m0.6741786\u001b[0m,\u001b[1;36m0.6653353\u001b[0m\u001b[1m]\u001b[0m\u001b[1m]\u001b[0m\n"
     ]
    },
    {
     "data": {
      "text/html": [
       "<pre style=\"white-space:pre;overflow-x:auto;line-height:normal;font-family:Menlo,'DejaVu Sans Mono',consolas,'Courier New',monospace\"></pre>\n"
      ],
      "text/plain": []
     },
     "metadata": {},
     "output_type": "display_data"
    }
   ],
   "source": [
    "query = \"Where was the opening ceremony held?\"\n",
    "fts_result = fts(query, limit=3)\n",
    "vec_result = vector_search(query, limit=3)\n",
    "with c.pager(styles=True):\n",
    "  c.print(\"FTS\", style=\"Yellow\")\n",
    "  c.print(fts_result.arrow())\n",
    "  c.print(\"\\nVector Search\", style=\"Yellow\")\n",
    "  c.print(vec_result.arrow())"
   ]
  },
  {
   "cell_type": "code",
   "execution_count": 15,
   "id": "d30a7002",
   "metadata": {
    "execution": {
     "iopub.execute_input": "2024-07-28T14:47:01.329431Z",
     "iopub.status.busy": "2024-07-28T14:47:01.329277Z",
     "iopub.status.idle": "2024-07-28T14:47:01.434128Z",
     "shell.execute_reply": "2024-07-28T14:47:01.433618Z",
     "shell.execute_reply.started": "2024-07-28T14:47:01.329418Z"
    }
   },
   "outputs": [
    {
     "name": "stdout",
     "output_type": "stream",
     "text": [
      "\u001b[33mFTS\u001b[0m\n",
      "pyarrow.Table\n",
      "text: string\n",
      "index: int64\n",
      "score: double\n",
      "----\n",
      "text: \u001b[1m[\u001b[0m\u001b[1m]\u001b[0m\n",
      "index: \u001b[1m[\u001b[0m\u001b[1m]\u001b[0m\n",
      "score: \u001b[1m[\u001b[0m\u001b[1m]\u001b[0m\n",
      "\n",
      "\u001b[33mVector Search\u001b[0m\n",
      "pyarrow.Table\n",
      "text: string\n",
      "index: int64\n",
      "score: float\n",
      "----\n",
      "text: \u001b[1m[\u001b[0m\u001b[1m[\u001b[0m\u001b[32m\"More than 100 heads of state and government were in attendance, including Prime Minister Sir Keir Starmer \u001b[0m\n",
      "\u001b[32mand French President Emmanuel Macron.\"\u001b[0m,\u001b[32m\"When organisers first revealed plans to hold the opening ceremony along the\u001b[0m\n",
      "\u001b[32mriver in the heart of the city, rather than in a stadium as is usual, there were some raised eyebrows and questions\u001b[0m\n",
      "\u001b[32mover how they would manage such a huge security operation.\"\u001b[0m,\u001b[32m\"Some of the loudest cheers of the evening were for the\u001b[0m\n",
      "\u001b[32mathletes of the Refugee Olympic Team and the Palestine Olympic Committee.\"\u001b[0m\u001b[1m]\u001b[0m\u001b[1m]\u001b[0m\n",
      "index: \u001b[1m[\u001b[0m\u001b[1m[\u001b[0m\u001b[1;36m32\u001b[0m,\u001b[1;36m10\u001b[0m,\u001b[1;36m31\u001b[0m\u001b[1m]\u001b[0m\u001b[1m]\u001b[0m\n",
      "score: \u001b[1m[\u001b[0m\u001b[1m[\u001b[0m\u001b[1;36m0.5986507\u001b[0m,\u001b[1;36m0.5145753\u001b[0m,\u001b[1;36m0.5049896\u001b[0m\u001b[1m]\u001b[0m\u001b[1m]\u001b[0m\n"
     ]
    },
    {
     "data": {
      "text/html": [
       "<pre style=\"white-space:pre;overflow-x:auto;line-height:normal;font-family:Menlo,'DejaVu Sans Mono',consolas,'Courier New',monospace\"></pre>\n"
      ],
      "text/plain": []
     },
     "metadata": {},
     "output_type": "display_data"
    }
   ],
   "source": [
    "query = \"Which important people were there?\"\n",
    "fts_result = fts(query, limit=3)\n",
    "vec_result = vector_search(query, limit=3)\n",
    "with c.pager(styles=True):\n",
    "  c.print(\"FTS\", style=\"Yellow\")\n",
    "  c.print(fts_result.arrow())\n",
    "  c.print(\"\\nVector Search\", style=\"Yellow\")\n",
    "  c.print(vec_result.arrow())"
   ]
  },
  {
   "cell_type": "code",
   "execution_count": 16,
   "id": "06f8dcb1",
   "metadata": {
    "execution": {
     "iopub.execute_input": "2024-07-28T14:47:01.434860Z",
     "iopub.status.busy": "2024-07-28T14:47:01.434757Z",
     "iopub.status.idle": "2024-07-28T14:47:01.542791Z",
     "shell.execute_reply": "2024-07-28T14:47:01.542407Z",
     "shell.execute_reply.started": "2024-07-28T14:47:01.434849Z"
    }
   },
   "outputs": [
    {
     "name": "stdout",
     "output_type": "stream",
     "text": [
      "\u001b[33mFTS\u001b[0m\n",
      "pyarrow.Table\n",
      "text: string\n",
      "index: int64\n",
      "score: double\n",
      "----\n",
      "text: \u001b[1m[\u001b[0m\u001b[1m[\u001b[0m\u001b[32m\"The ceremony ended in the Trocadero, where the nearby Eiffel Tower lit up, with the flame - which had been\u001b[0m\n",
      "\u001b[32mon an elaborate journey with a masked torchbearer and a mechanical horse - being passed back to Zidane, who handed \u001b[0m\n",
      "\u001b[32mit to Rafael Nadal, Nadia Comaneci, Serena Williams and Carl Lewis.\"\u001b[0m\u001b[1m]\u001b[0m\u001b[1m]\u001b[0m\n",
      "index: \u001b[1m[\u001b[0m\u001b[1m[\u001b[0m\u001b[1;36m22\u001b[0m\u001b[1m]\u001b[0m\u001b[1m]\u001b[0m\n",
      "score: \u001b[1m[\u001b[0m\u001b[1m[\u001b[0m\u001b[1;36m1.1850373717871072\u001b[0m\u001b[1m]\u001b[0m\u001b[1m]\u001b[0m\n",
      "\n",
      "\u001b[33mVector Search\u001b[0m\n",
      "pyarrow.Table\n",
      "text: string\n",
      "index: int64\n",
      "score: float\n",
      "----\n",
      "text: \u001b[1m[\u001b[0m\u001b[1m[\u001b[0m\u001b[32m\"There were surprise performances through the ceremony, including a cabaret number from US \u001b[0m\n",
      "\u001b[32msinger-songwriter Lady Gaga, as well as an emotional return of Canadian icon Celine Dion. \"\u001b[0m,\u001b[32m\"At times it was \u001b[0m\n",
      "\u001b[32mbizarre - one moment Lady Gaga surrounded by pink and black feathers was singing in French, the next Bangladesh's \u001b[0m\n",
      "\u001b[32mathletes were being introduced on their boat. \"\u001b[0m,\u001b[32m\"But there was one more magical moment to come, with Dion thrilling\u001b[0m\n",
      "\u001b[32mthe crowds at the Eiffel Tower with a powerful rendition of Edith Piaf’s L’Hymne a l’amour in her first performance\u001b[0m\n",
      "\u001b[32msince revealing a serious neurological condition in December 2022. \"\u001b[0m\u001b[1m]\u001b[0m\u001b[1m]\u001b[0m\n",
      "index: \u001b[1m[\u001b[0m\u001b[1m[\u001b[0m\u001b[1;36m3\u001b[0m,\u001b[1;36m13\u001b[0m,\u001b[1;36m25\u001b[0m\u001b[1m]\u001b[0m\u001b[1m]\u001b[0m\n",
      "score: \u001b[1m[\u001b[0m\u001b[1m[\u001b[0m\u001b[1;36m0.5316562\u001b[0m,\u001b[1;36m0.5201369\u001b[0m,\u001b[1;36m0.50306535\u001b[0m\u001b[1m]\u001b[0m\u001b[1m]\u001b[0m\n"
     ]
    },
    {
     "data": {
      "text/html": [
       "<pre style=\"white-space:pre;overflow-x:auto;line-height:normal;font-family:Menlo,'DejaVu Sans Mono',consolas,'Courier New',monospace\"></pre>\n"
      ],
      "text/plain": []
     },
     "metadata": {},
     "output_type": "display_data"
    }
   ],
   "source": [
    "query = \"I heard Serena was there?\"\n",
    "fts_result = fts(query, limit=3)\n",
    "vec_result = vector_search(query, limit=3)\n",
    "with c.pager(styles=True):\n",
    "  c.print(\"FTS\", style=\"Yellow\")\n",
    "  c.print(fts_result.arrow())\n",
    "  c.print(\"\\nVector Search\", style=\"Yellow\")\n",
    "  c.print(vec_result.arrow())"
   ]
  },
  {
   "cell_type": "markdown",
   "id": "e168f8dc-e64d-4850-a863-dbfee69f38e9",
   "metadata": {
    "execution": {
     "iopub.execute_input": "2024-07-28T14:49:12.528818Z",
     "iopub.status.busy": "2024-07-28T14:49:12.527687Z",
     "iopub.status.idle": "2024-07-28T14:49:12.533986Z",
     "shell.execute_reply": "2024-07-28T14:49:12.532807Z",
     "shell.execute_reply.started": "2024-07-28T14:49:12.528778Z"
    }
   },
   "source": [
    "## Reciprocal Rank Fusion\n",
    "\n",
    "[Reciprocal Rank Fusion](https://medium.com/@devalshah1619/mathematical-intuition-behind-reciprocal-rank-fusion-rrf-explained-in-2-mins-002df0cc5e2a#:~:text=Reciprocal%20Rank%20Fusion%20is%20a,different%20retrieval%20models%20or%20approaches.) is a rank aggregation method that combines rankings from multiple sources into a single, unified ranking. In the context of RAG, these sources typically use different retrieval models or approaches.\n",
    "\n",
    "The core of RRF is captured in its formula: \n",
    "\n",
    "`RRF(d) = Σ(r ∈ R) 1 / (k + r(d))`\n",
    "\n",
    "Where:\n",
    "- d is a document\n",
    "- R is the set of rankers (retrievers)\n",
    "- k is a constant (typically 60)\n",
    "- r(d) is the rank of document d in ranker r"
   ]
  },
  {
   "cell_type": "code",
   "execution_count": 26,
   "id": "8a72cd05",
   "metadata": {
    "execution": {
     "iopub.execute_input": "2024-07-28T14:50:03.343426Z",
     "iopub.status.busy": "2024-07-28T14:50:03.342961Z",
     "iopub.status.idle": "2024-07-28T14:50:03.349278Z",
     "shell.execute_reply": "2024-07-28T14:50:03.348436Z",
     "shell.execute_reply.started": "2024-07-28T14:50:03.343396Z"
    }
   },
   "outputs": [],
   "source": [
    "con.sql(\"\"\"\n",
    "CREATE OR REPLACE MACRO rrf(rank, k:=60) AS\n",
    "  coalesce((1 / (k + rank)), 0)\n",
    "\"\"\")"
   ]
  },
  {
   "cell_type": "code",
   "execution_count": 18,
   "id": "5bc20858",
   "metadata": {
    "execution": {
     "iopub.execute_input": "2024-07-28T14:47:01.546829Z",
     "iopub.status.busy": "2024-07-28T14:47:01.546717Z",
     "iopub.status.idle": "2024-07-28T14:47:01.552733Z",
     "shell.execute_reply": "2024-07-28T14:47:01.552235Z",
     "shell.execute_reply.started": "2024-07-28T14:47:01.546819Z"
    }
   },
   "outputs": [
    {
     "data": {
      "text/html": [
       "<pre style=\"white-space:pre;overflow-x:auto;line-height:normal;font-family:Menlo,'DejaVu Sans Mono',consolas,'Courier New',monospace\"></pre>\n"
      ],
      "text/plain": []
     },
     "metadata": {},
     "output_type": "display_data"
    },
    {
     "data": {
      "text/plain": [
       "\n",
       "pyarrow.Table\n",
       "a: double\n",
       "b: double\n",
       "diff1: double\n",
       "c: double\n",
       "d: double\n",
       "diff2: double\n",
       "----\n",
       "a: \u001b[1m[\u001b[0m\u001b[1m[\u001b[0m\u001b[1;36m0.01639344262295082\u001b[0m\u001b[1m]\u001b[0m\u001b[1m]\u001b[0m\n",
       "b: \u001b[1m[\u001b[0m\u001b[1m[\u001b[0m\u001b[1;36m0.016129032258064516\u001b[0m\u001b[1m]\u001b[0m\u001b[1m]\u001b[0m\n",
       "diff1: \u001b[1m[\u001b[0m\u001b[1m[\u001b[0m\u001b[1;36m0.00026441036488630484\u001b[0m\u001b[1m]\u001b[0m\u001b[1m]\u001b[0m\n",
       "c: \u001b[1m[\u001b[0m\u001b[1m[\u001b[0m\u001b[1;36m0.00625\u001b[0m\u001b[1m]\u001b[0m\u001b[1m]\u001b[0m\n",
       "d: \u001b[1m[\u001b[0m\u001b[1m[\u001b[0m\u001b[1;36m0.006211180124223602\u001b[0m\u001b[1m]\u001b[0m\u001b[1m]\u001b[0m\n",
       "diff2: \u001b[1m[\u001b[0m\u001b[1m[\u001b[0m\u001b[1;36m0.00003881987577639828\u001b[0m\u001b[1m]\u001b[0m\u001b[1m]\u001b[0m"
      ]
     },
     "execution_count": 18,
     "metadata": {},
     "output_type": "execute_result"
    }
   ],
   "source": [
    "con.sql(\"\"\"\n",
    "SELECT rrf(1) AS a, rrf(2) AS b,\n",
    "       a-b AS diff1,\n",
    "       rrf(100) AS c, rrf(101) AS d,\n",
    "       c-d AS diff2\n",
    "\"\"\").arrow()"
   ]
  },
  {
   "cell_type": "code",
   "execution_count": 19,
   "id": "646887c7",
   "metadata": {
    "execution": {
     "iopub.execute_input": "2024-07-28T14:47:01.553619Z",
     "iopub.status.busy": "2024-07-28T14:47:01.553387Z",
     "iopub.status.idle": "2024-07-28T14:47:01.556470Z",
     "shell.execute_reply": "2024-07-28T14:47:01.556088Z",
     "shell.execute_reply.started": "2024-07-28T14:47:01.553606Z"
    }
   },
   "outputs": [],
   "source": [
    "def hybrid(query, limit=3, base_limit=20):\n",
    "  fts_result = (fts(query, limit=base_limit)\n",
    "    .select(\"*, rank() OVER (ORDER BY score DESC) AS rank\")\n",
    "  )\n",
    "  vec_result = (vector_search(query, limit=base_limit)\n",
    "    .select(\"*, rank() OVER (ORDER BY score DESC) AS rank\")\n",
    "  )\n",
    "\n",
    "  return con.sql(\"\"\"\n",
    "  FROM fts_result\n",
    "  FULL OUTER JOIN vec_result ON fts_result.text = vec_result.text\n",
    "\n",
    "  SELECT coalesce(fts_result.text, vec_result.text) AS text, \n",
    "         coalesce(fts_result.index, vec_result.index) AS index, \n",
    "         rrf(vec_result.rank) + rrf(fts_result.rank) AS hybridScore,\n",
    "         fts_result.rank as ftsRank, vec_result.rank AS vecRank\n",
    "\n",
    "  ORDER BY hybridScore DESC\n",
    "  LIMIT $limit\n",
    "  \"\"\", params={\"limit\": limit})"
   ]
  },
  {
   "cell_type": "code",
   "execution_count": 20,
   "id": "4639140a",
   "metadata": {
    "execution": {
     "iopub.execute_input": "2024-07-28T14:47:01.557246Z",
     "iopub.status.busy": "2024-07-28T14:47:01.557101Z",
     "iopub.status.idle": "2024-07-28T14:47:01.790835Z",
     "shell.execute_reply": "2024-07-28T14:47:01.790407Z",
     "shell.execute_reply.started": "2024-07-28T14:47:01.557235Z"
    }
   },
   "outputs": [
    {
     "name": "stdout",
     "output_type": "stream",
     "text": [
      "\u001b[33mFTS\u001b[0m\n",
      "pyarrow.Table\n",
      "text: string\n",
      "index: int64\n",
      "score: double\n",
      "----\n",
      "text: \u001b[1m[\u001b[0m\u001b[1m[\u001b[0m\u001b[32m\"The ceremony ended in the Trocadero, where the nearby Eiffel Tower lit up, with the flame - which had been\u001b[0m\n",
      "\u001b[32mon an elaborate journey with a masked torchbearer and a mechanical horse - being passed back to Zidane, who handed \u001b[0m\n",
      "\u001b[32mit to Rafael Nadal, Nadia Comaneci, Serena Williams and Carl Lewis.\"\u001b[0m\u001b[1m]\u001b[0m\u001b[1m]\u001b[0m\n",
      "index: \u001b[1m[\u001b[0m\u001b[1m[\u001b[0m\u001b[1;36m22\u001b[0m\u001b[1m]\u001b[0m\u001b[1m]\u001b[0m\n",
      "score: \u001b[1m[\u001b[0m\u001b[1m[\u001b[0m\u001b[1;36m1.1850373717871072\u001b[0m\u001b[1m]\u001b[0m\u001b[1m]\u001b[0m\n",
      "\n",
      "\u001b[33mVector Search\u001b[0m\n",
      "pyarrow.Table\n",
      "text: string\n",
      "index: int64\n",
      "score: float\n",
      "----\n",
      "text: \u001b[1m[\u001b[0m\u001b[1m[\u001b[0m\u001b[32m\"There were surprise performances through the ceremony, including a cabaret number from US \u001b[0m\n",
      "\u001b[32msinger-songwriter Lady Gaga, as well as an emotional return of Canadian icon Celine Dion. \"\u001b[0m,\u001b[32m\"At times it was \u001b[0m\n",
      "\u001b[32mbizarre - one moment Lady Gaga surrounded by pink and black feathers was singing in French, the next Bangladesh's \u001b[0m\n",
      "\u001b[32mathletes were being introduced on their boat. \"\u001b[0m,\u001b[32m\"But there was one more magical moment to come, with Dion thrilling\u001b[0m\n",
      "\u001b[32mthe crowds at the Eiffel Tower with a powerful rendition of Edith Piaf’s L’Hymne a l’amour in her first performance\u001b[0m\n",
      "\u001b[32msince revealing a serious neurological condition in December 2022. \"\u001b[0m\u001b[1m]\u001b[0m\u001b[1m]\u001b[0m\n",
      "index: \u001b[1m[\u001b[0m\u001b[1m[\u001b[0m\u001b[1;36m3\u001b[0m,\u001b[1;36m13\u001b[0m,\u001b[1;36m25\u001b[0m\u001b[1m]\u001b[0m\u001b[1m]\u001b[0m\n",
      "score: \u001b[1m[\u001b[0m\u001b[1m[\u001b[0m\u001b[1;36m0.5316562\u001b[0m,\u001b[1;36m0.5201369\u001b[0m,\u001b[1;36m0.50306535\u001b[0m\u001b[1m]\u001b[0m\u001b[1m]\u001b[0m\n",
      "\n",
      "\u001b[33mHybrid Search\u001b[0m\n",
      "pyarrow.Table\n",
      "text: string\n",
      "index: int64\n",
      "hybridScore: double\n",
      "ftsRank: int64\n",
      "vecRank: int64\n",
      "----\n",
      "text: \u001b[1m[\u001b[0m\u001b[1m[\u001b[0m\u001b[32m\"The ceremony ended in the Trocadero, where the nearby Eiffel Tower lit up, with the flame - which had been\u001b[0m\n",
      "\u001b[32mon an elaborate journey with a masked torchbearer and a mechanical horse - being passed back to Zidane, who handed \u001b[0m\n",
      "\u001b[32mit to Rafael Nadal, Nadia Comaneci, Serena Williams and Carl Lewis.\"\u001b[0m,\u001b[32m\"There were surprise performances through the \u001b[0m\n",
      "\u001b[32mceremony, including a cabaret number from US singer-songwriter Lady Gaga, as well as an emotional return of \u001b[0m\n",
      "\u001b[32mCanadian icon Celine Dion. \"\u001b[0m,\u001b[32m\"At times it was bizarre - one moment Lady Gaga surrounded by pink and black feathers \u001b[0m\n",
      "\u001b[32mwas singing in French, the next Bangladesh's athletes were being introduced on their boat. \"\u001b[0m\u001b[1m]\u001b[0m\u001b[1m]\u001b[0m\n",
      "index: \u001b[1m[\u001b[0m\u001b[1m[\u001b[0m\u001b[1;36m22\u001b[0m,\u001b[1;36m3\u001b[0m,\u001b[1;36m13\u001b[0m\u001b[1m]\u001b[0m\u001b[1m]\u001b[0m\n",
      "hybridScore: \u001b[1m[\u001b[0m\u001b[1m[\u001b[0m\u001b[1;36m0.032018442622950824\u001b[0m,\u001b[1;36m0.01639344262295082\u001b[0m,\u001b[1;36m0.016129032258064516\u001b[0m\u001b[1m]\u001b[0m\u001b[1m]\u001b[0m\n",
      "ftsRank: \u001b[1m[\u001b[0m\u001b[1m[\u001b[0m\u001b[1;36m1\u001b[0m,null,null\u001b[1m]\u001b[0m\u001b[1m]\u001b[0m\n",
      "vecRank: \u001b[1m[\u001b[0m\u001b[1m[\u001b[0m\u001b[1;36m4\u001b[0m,\u001b[1;36m1\u001b[0m,\u001b[1;36m2\u001b[0m\u001b[1m]\u001b[0m\u001b[1m]\u001b[0m\n"
     ]
    },
    {
     "data": {
      "text/html": [
       "<pre style=\"white-space:pre;overflow-x:auto;line-height:normal;font-family:Menlo,'DejaVu Sans Mono',consolas,'Courier New',monospace\"></pre>\n"
      ],
      "text/plain": []
     },
     "metadata": {},
     "output_type": "display_data"
    }
   ],
   "source": [
    "query = \"I heard Serena was there?\"\n",
    "fts_result = fts(query, limit=3)\n",
    "vec_result = vector_search(query, limit=3)\n",
    "hybrid_result = hybrid(query, limit=3, base_limit=20)\n",
    "with c.pager(styles=True):\n",
    "  c.print(\"FTS\", style=\"Yellow\")\n",
    "  c.print(fts_result.arrow())\n",
    "\n",
    "  c.print(\"\\nVector Search\", style=\"Yellow\")\n",
    "  c.print(vec_result.arrow())\n",
    "\n",
    "  c.print(\"\\nHybrid Search\", style=\"Yellow\")\n",
    "  c.print(hybrid_result.arrow())"
   ]
  }
 ],
 "metadata": {
  "kernelspec": {
   "display_name": "Python 3 (ipykernel)",
   "language": "python",
   "name": "python3"
  },
  "language_info": {
   "codemirror_mode": {
    "name": "ipython",
    "version": 3
   },
   "file_extension": ".py",
   "mimetype": "text/x-python",
   "name": "python",
   "nbconvert_exporter": "python",
   "pygments_lexer": "ipython3",
   "version": "3.10.12"
  }
 },
 "nbformat": 4,
 "nbformat_minor": 5
}
